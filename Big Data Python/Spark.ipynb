{
 "cells": [
  {
   "cell_type": "markdown",
   "metadata": {},
   "source": [
    "По непонятной причине не работает Google Colab, пришлось разворачивать Spark на локальной машине, может поэтому код немного замороченный получился"
   ]
  },
  {
   "cell_type": "markdown",
   "metadata": {},
   "source": [
    "Загружаю датасет через pandas, потом задаю его в spark. Код подсмотрела в интернете. Датасет не хотел читать столбцы, пришлось в названиях колонок поменять . на _"
   ]
  },
  {
   "cell_type": "code",
   "execution_count": 1,
   "metadata": {},
   "outputs": [],
   "source": [
    "from pyspark.sql import SparkSession\n",
    "from pyspark import SparkContext\n",
    "from pyspark.sql import SQLContext\n",
    "import pandas as pd\n",
    "\n",
    "sc = SparkContext('local','example')  \n",
    "sql_sc = SQLContext(sc)\n",
    "\n",
    "pandas_df = pd.read_csv('iris1.csv')  \n",
    "df = sql_sc.createDataFrame(pandas_df)"
   ]
  },
  {
   "cell_type": "code",
   "execution_count": 2,
   "metadata": {},
   "outputs": [
    {
     "data": {
      "text/plain": [
       "150"
      ]
     },
     "execution_count": 2,
     "metadata": {},
     "output_type": "execute_result"
    }
   ],
   "source": [
    "df.count()"
   ]
  },
  {
   "cell_type": "code",
   "execution_count": 3,
   "metadata": {},
   "outputs": [
    {
     "name": "stdout",
     "output_type": "stream",
     "text": [
      "+------------+-----------+------------+-----------+----------+\n",
      "|sepal_length|sepal_width|petal_length|petal_width|   variety|\n",
      "+------------+-----------+------------+-----------+----------+\n",
      "|         5.1|        3.5|         1.4|        0.2|    Setosa|\n",
      "|         4.9|        3.0|         1.4|        0.2|    Setosa|\n",
      "|         4.7|        3.2|         1.3|        0.2|    Setosa|\n",
      "|         4.6|        3.1|         1.5|        0.2|    Setosa|\n",
      "|         5.0|        3.6|         1.4|        0.2|    Setosa|\n",
      "|         5.4|        3.9|         1.7|        0.4|    Setosa|\n",
      "|         4.6|        3.4|         1.4|        0.3|    Setosa|\n",
      "|         5.0|        3.4|         1.5|        0.2|    Setosa|\n",
      "|         4.4|        2.9|         1.4|        0.2|    Setosa|\n",
      "|         4.9|        3.1|         1.5|        0.1|    Setosa|\n",
      "|         5.4|        3.7|         1.5|        0.2|    Setosa|\n",
      "|         4.8|        3.4|         1.6|        0.2|    Setosa|\n",
      "|         4.8|        3.0|         1.4|        0.1|    Setosa|\n",
      "|         4.3|        3.0|         1.1|        0.1|    Setosa|\n",
      "|         5.8|        4.0|         1.2|        0.2|    Setosa|\n",
      "|         5.7|        4.4|         1.5|        0.4|    Setosa|\n",
      "|         5.4|        3.9|         1.3|        0.4|    Setosa|\n",
      "|         5.1|        3.5|         1.4|        0.3|    Setosa|\n",
      "|         5.7|        3.8|         1.7|        0.3|    Setosa|\n",
      "|         5.1|        3.8|         1.5|        0.3|    Setosa|\n",
      "|         5.4|        3.4|         1.7|        0.2|    Setosa|\n",
      "|         5.1|        3.7|         1.5|        0.4|    Setosa|\n",
      "|         4.6|        3.6|         1.0|        0.2|    Setosa|\n",
      "|         5.1|        3.3|         1.7|        0.5|    Setosa|\n",
      "|         4.8|        3.4|         1.9|        0.2|    Setosa|\n",
      "|         5.0|        3.0|         1.6|        0.2|    Setosa|\n",
      "|         5.0|        3.4|         1.6|        0.4|    Setosa|\n",
      "|         5.2|        3.5|         1.5|        0.2|    Setosa|\n",
      "|         5.2|        3.4|         1.4|        0.2|    Setosa|\n",
      "|         4.7|        3.2|         1.6|        0.2|    Setosa|\n",
      "|         4.8|        3.1|         1.6|        0.2|    Setosa|\n",
      "|         5.4|        3.4|         1.5|        0.4|    Setosa|\n",
      "|         5.2|        4.1|         1.5|        0.1|    Setosa|\n",
      "|         5.5|        4.2|         1.4|        0.2|    Setosa|\n",
      "|         4.9|        3.1|         1.5|        0.2|    Setosa|\n",
      "|         5.0|        3.2|         1.2|        0.2|    Setosa|\n",
      "|         5.5|        3.5|         1.3|        0.2|    Setosa|\n",
      "|         4.9|        3.6|         1.4|        0.1|    Setosa|\n",
      "|         4.4|        3.0|         1.3|        0.2|    Setosa|\n",
      "|         5.1|        3.4|         1.5|        0.2|    Setosa|\n",
      "|         5.0|        3.5|         1.3|        0.3|    Setosa|\n",
      "|         4.5|        2.3|         1.3|        0.3|    Setosa|\n",
      "|         4.4|        3.2|         1.3|        0.2|    Setosa|\n",
      "|         5.0|        3.5|         1.6|        0.6|    Setosa|\n",
      "|         5.1|        3.8|         1.9|        0.4|    Setosa|\n",
      "|         4.8|        3.0|         1.4|        0.3|    Setosa|\n",
      "|         5.1|        3.8|         1.6|        0.2|    Setosa|\n",
      "|         4.6|        3.2|         1.4|        0.2|    Setosa|\n",
      "|         5.3|        3.7|         1.5|        0.2|    Setosa|\n",
      "|         5.0|        3.3|         1.4|        0.2|    Setosa|\n",
      "|         7.0|        3.2|         4.7|        1.4|Versicolor|\n",
      "|         6.4|        3.2|         4.5|        1.5|Versicolor|\n",
      "|         6.9|        3.1|         4.9|        1.5|Versicolor|\n",
      "|         5.5|        2.3|         4.0|        1.3|Versicolor|\n",
      "|         6.5|        2.8|         4.6|        1.5|Versicolor|\n",
      "|         5.7|        2.8|         4.5|        1.3|Versicolor|\n",
      "|         6.3|        3.3|         4.7|        1.6|Versicolor|\n",
      "|         4.9|        2.4|         3.3|        1.0|Versicolor|\n",
      "|         6.6|        2.9|         4.6|        1.3|Versicolor|\n",
      "|         5.2|        2.7|         3.9|        1.4|Versicolor|\n",
      "|         5.0|        2.0|         3.5|        1.0|Versicolor|\n",
      "|         5.9|        3.0|         4.2|        1.5|Versicolor|\n",
      "|         6.0|        2.2|         4.0|        1.0|Versicolor|\n",
      "|         6.1|        2.9|         4.7|        1.4|Versicolor|\n",
      "|         5.6|        2.9|         3.6|        1.3|Versicolor|\n",
      "|         6.7|        3.1|         4.4|        1.4|Versicolor|\n",
      "|         5.6|        3.0|         4.5|        1.5|Versicolor|\n",
      "|         5.8|        2.7|         4.1|        1.0|Versicolor|\n",
      "|         6.2|        2.2|         4.5|        1.5|Versicolor|\n",
      "|         5.6|        2.5|         3.9|        1.1|Versicolor|\n",
      "|         5.9|        3.2|         4.8|        1.8|Versicolor|\n",
      "|         6.1|        2.8|         4.0|        1.3|Versicolor|\n",
      "|         6.3|        2.5|         4.9|        1.5|Versicolor|\n",
      "|         6.1|        2.8|         4.7|        1.2|Versicolor|\n",
      "|         6.4|        2.9|         4.3|        1.3|Versicolor|\n",
      "|         6.6|        3.0|         4.4|        1.4|Versicolor|\n",
      "|         6.8|        2.8|         4.8|        1.4|Versicolor|\n",
      "|         6.7|        3.0|         5.0|        1.7|Versicolor|\n",
      "|         6.0|        2.9|         4.5|        1.5|Versicolor|\n",
      "|         5.7|        2.6|         3.5|        1.0|Versicolor|\n",
      "|         5.5|        2.4|         3.8|        1.1|Versicolor|\n",
      "|         5.5|        2.4|         3.7|        1.0|Versicolor|\n",
      "|         5.8|        2.7|         3.9|        1.2|Versicolor|\n",
      "|         6.0|        2.7|         5.1|        1.6|Versicolor|\n",
      "|         5.4|        3.0|         4.5|        1.5|Versicolor|\n",
      "|         6.0|        3.4|         4.5|        1.6|Versicolor|\n",
      "|         6.7|        3.1|         4.7|        1.5|Versicolor|\n",
      "|         6.3|        2.3|         4.4|        1.3|Versicolor|\n",
      "|         5.6|        3.0|         4.1|        1.3|Versicolor|\n",
      "|         5.5|        2.5|         4.0|        1.3|Versicolor|\n",
      "|         5.5|        2.6|         4.4|        1.2|Versicolor|\n",
      "|         6.1|        3.0|         4.6|        1.4|Versicolor|\n",
      "|         5.8|        2.6|         4.0|        1.2|Versicolor|\n",
      "|         5.0|        2.3|         3.3|        1.0|Versicolor|\n",
      "|         5.6|        2.7|         4.2|        1.3|Versicolor|\n",
      "|         5.7|        3.0|         4.2|        1.2|Versicolor|\n",
      "|         5.7|        2.9|         4.2|        1.3|Versicolor|\n",
      "|         6.2|        2.9|         4.3|        1.3|Versicolor|\n",
      "|         5.1|        2.5|         3.0|        1.1|Versicolor|\n",
      "|         5.7|        2.8|         4.1|        1.3|Versicolor|\n",
      "|         6.3|        3.3|         6.0|        2.5| Virginica|\n",
      "|         5.8|        2.7|         5.1|        1.9| Virginica|\n",
      "|         7.1|        3.0|         5.9|        2.1| Virginica|\n",
      "|         6.3|        2.9|         5.6|        1.8| Virginica|\n",
      "|         6.5|        3.0|         5.8|        2.2| Virginica|\n",
      "|         7.6|        3.0|         6.6|        2.1| Virginica|\n",
      "|         4.9|        2.5|         4.5|        1.7| Virginica|\n",
      "|         7.3|        2.9|         6.3|        1.8| Virginica|\n",
      "|         6.7|        2.5|         5.8|        1.8| Virginica|\n",
      "|         7.2|        3.6|         6.1|        2.5| Virginica|\n",
      "|         6.5|        3.2|         5.1|        2.0| Virginica|\n",
      "|         6.4|        2.7|         5.3|        1.9| Virginica|\n",
      "|         6.8|        3.0|         5.5|        2.1| Virginica|\n",
      "|         5.7|        2.5|         5.0|        2.0| Virginica|\n",
      "|         5.8|        2.8|         5.1|        2.4| Virginica|\n",
      "|         6.4|        3.2|         5.3|        2.3| Virginica|\n",
      "|         6.5|        3.0|         5.5|        1.8| Virginica|\n",
      "|         7.7|        3.8|         6.7|        2.2| Virginica|\n",
      "|         7.7|        2.6|         6.9|        2.3| Virginica|\n",
      "|         6.0|        2.2|         5.0|        1.5| Virginica|\n",
      "|         6.9|        3.2|         5.7|        2.3| Virginica|\n",
      "|         5.6|        2.8|         4.9|        2.0| Virginica|\n",
      "|         7.7|        2.8|         6.7|        2.0| Virginica|\n",
      "|         6.3|        2.7|         4.9|        1.8| Virginica|\n",
      "|         6.7|        3.3|         5.7|        2.1| Virginica|\n",
      "|         7.2|        3.2|         6.0|        1.8| Virginica|\n",
      "|         6.2|        2.8|         4.8|        1.8| Virginica|\n",
      "|         6.1|        3.0|         4.9|        1.8| Virginica|\n",
      "|         6.4|        2.8|         5.6|        2.1| Virginica|\n",
      "|         7.2|        3.0|         5.8|        1.6| Virginica|\n",
      "|         7.4|        2.8|         6.1|        1.9| Virginica|\n",
      "|         7.9|        3.8|         6.4|        2.0| Virginica|\n",
      "|         6.4|        2.8|         5.6|        2.2| Virginica|\n",
      "|         6.3|        2.8|         5.1|        1.5| Virginica|\n",
      "|         6.1|        2.6|         5.6|        1.4| Virginica|\n",
      "|         7.7|        3.0|         6.1|        2.3| Virginica|\n",
      "|         6.3|        3.4|         5.6|        2.4| Virginica|\n",
      "|         6.4|        3.1|         5.5|        1.8| Virginica|\n",
      "|         6.0|        3.0|         4.8|        1.8| Virginica|\n",
      "|         6.9|        3.1|         5.4|        2.1| Virginica|\n",
      "|         6.7|        3.1|         5.6|        2.4| Virginica|\n",
      "|         6.9|        3.1|         5.1|        2.3| Virginica|\n",
      "|         5.8|        2.7|         5.1|        1.9| Virginica|\n",
      "|         6.8|        3.2|         5.9|        2.3| Virginica|\n",
      "|         6.7|        3.3|         5.7|        2.5| Virginica|\n",
      "|         6.7|        3.0|         5.2|        2.3| Virginica|\n",
      "|         6.3|        2.5|         5.0|        1.9| Virginica|\n",
      "|         6.5|        3.0|         5.2|        2.0| Virginica|\n",
      "|         6.2|        3.4|         5.4|        2.3| Virginica|\n",
      "|         5.9|        3.0|         5.1|        1.8| Virginica|\n",
      "+------------+-----------+------------+-----------+----------+\n",
      "\n"
     ]
    }
   ],
   "source": [
    "df.show(150)"
   ]
  },
  {
   "cell_type": "markdown",
   "metadata": {},
   "source": [
    "Для каждого типа цветка определите максимальное, минимальное и среднее значение 4-х параметров"
   ]
  },
  {
   "cell_type": "code",
   "execution_count": 4,
   "metadata": {},
   "outputs": [],
   "source": [
    "df_setosa = df.where((df['variety'] == 'Setosa'))\n",
    "df_virginica = df.where((df['variety'] == 'Virginica'))\n",
    "df_versicolor = df.where((df['variety'] == 'Versicolor'))"
   ]
  },
  {
   "cell_type": "code",
   "execution_count": 5,
   "metadata": {},
   "outputs": [
    {
     "name": "stdout",
     "output_type": "stream",
     "text": [
      "+-------+------------------+------------------+------------------+-------------------+-------+\n",
      "|summary|      sepal_length|       sepal_width|      petal_length|        petal_width|variety|\n",
      "+-------+------------------+------------------+------------------+-------------------+-------+\n",
      "|  count|                50|                50|                50|                 50|     50|\n",
      "|   mean| 5.005999999999999| 3.428000000000001|1.4620000000000002| 0.2459999999999999|   null|\n",
      "| stddev|0.3524896872134513|0.3790643690962886|0.1736639964801841|0.10538558938004565|   null|\n",
      "|    min|               4.3|               2.3|               1.0|                0.1| Setosa|\n",
      "|    max|               5.8|               4.4|               1.9|                0.6| Setosa|\n",
      "+-------+------------------+------------------+------------------+-------------------+-------+\n",
      "\n"
     ]
    }
   ],
   "source": [
    "df_setosa.describe().show()"
   ]
  },
  {
   "cell_type": "code",
   "execution_count": 6,
   "metadata": {},
   "outputs": [
    {
     "name": "stdout",
     "output_type": "stream",
     "text": [
      "+-------+-----------------+------------------+------------------+------------------+---------+\n",
      "|summary|     sepal_length|       sepal_width|      petal_length|       petal_width|  variety|\n",
      "+-------+-----------------+------------------+------------------+------------------+---------+\n",
      "|  count|               50|                50|                50|                50|       50|\n",
      "|   mean|6.587999999999998|2.9739999999999998|             5.552|             2.026|     null|\n",
      "| stddev|0.635879593274432|0.3224966381726375|0.5518946956639833|0.2746500556366674|     null|\n",
      "|    min|              4.9|               2.2|               4.5|               1.4|Virginica|\n",
      "|    max|              7.9|               3.8|               6.9|               2.5|Virginica|\n",
      "+-------+-----------------+------------------+------------------+------------------+---------+\n",
      "\n"
     ]
    }
   ],
   "source": [
    "df_virginica.describe().show()"
   ]
  },
  {
   "cell_type": "code",
   "execution_count": 7,
   "metadata": {},
   "outputs": [
    {
     "name": "stdout",
     "output_type": "stream",
     "text": [
      "+-------+------------------+------------------+------------------+-------------------+----------+\n",
      "|summary|      sepal_length|       sepal_width|      petal_length|        petal_width|   variety|\n",
      "+-------+------------------+------------------+------------------+-------------------+----------+\n",
      "|  count|                50|                50|                50|                 50|        50|\n",
      "|   mean|             5.936|2.7700000000000005|              4.26| 1.3259999999999998|      null|\n",
      "| stddev|0.5161711470638635|0.3137983233784114|0.4699109772399579|0.19775268000454407|      null|\n",
      "|    min|               4.9|               2.0|               3.0|                1.0|Versicolor|\n",
      "|    max|               7.0|               3.4|               5.1|                1.8|Versicolor|\n",
      "+-------+------------------+------------------+------------------+-------------------+----------+\n",
      "\n"
     ]
    }
   ],
   "source": [
    "df_versicolor.describe().show()"
   ]
  },
  {
   "cell_type": "markdown",
   "metadata": {},
   "source": [
    "Визуализируйте точечный график (plt.scatter) по каждой паре параметров"
   ]
  },
  {
   "cell_type": "code",
   "execution_count": 8,
   "metadata": {},
   "outputs": [],
   "source": [
    "import matplotlib.pyplot as plt\n",
    "%matplotlib inline"
   ]
  },
  {
   "cell_type": "code",
   "execution_count": 9,
   "metadata": {},
   "outputs": [],
   "source": [
    "pd_df = df.toPandas()"
   ]
  },
  {
   "cell_type": "code",
   "execution_count": 11,
   "metadata": {},
   "outputs": [
    {
     "data": {
      "text/plain": [
       "<matplotlib.axes._subplots.AxesSubplot at 0x7fbbc1b446a0>"
      ]
     },
     "execution_count": 11,
     "metadata": {},
     "output_type": "execute_result"
    },
    {
     "data": {
      "image/png": "[encoded data removed]",
      "text/plain": [
       "<Figure size 432x288 with 1 Axes>"
      ]
     },
     "metadata": {
      "needs_background": "light"
     },
     "output_type": "display_data"
    }
   ],
   "source": [
    "pd_df.plot.scatter (x = 'sepal_length', y = 'sepal_width')"
   ]
  },
  {
   "cell_type": "code",
   "execution_count": 12,
   "metadata": {},
   "outputs": [
    {
     "data": {
      "text/plain": [
       "<matplotlib.axes._subplots.AxesSubplot at 0x7fbbc1813438>"
      ]
     },
     "execution_count": 12,
     "metadata": {},
     "output_type": "execute_result"
    },
    {
     "data": {
      "image/png": "[encoded data removed]",
      "text/plain": [
       "<Figure size 432x288 with 1 Axes>"
      ]
     },
     "metadata": {
      "needs_background": "light"
     },
     "output_type": "display_data"
    }
   ],
   "source": [
    "pd_df.plot.scatter (x = 'petal_length', y = 'petal_width')"
   ]
  },
  {
   "cell_type": "markdown",
   "metadata": {},
   "source": [
    "Попробуйте отделить какой-нить тип цветка от всех остальных (сформулируйте правило на основе диаграммы - ЕСЛИ ЗНАЧЕНИЕ ПАРАМЕТРА X БОЛЬШЕ/МЕНЬШЕ Y, ТО ЦВЕТОК СКОРЕЕ ВСЕГО ОТНОСИТСЯ/НЕ ОТНОСИТСЯ К ТИПУ Z)"
   ]
  },
  {
   "cell_type": "markdown",
   "metadata": {},
   "source": [
    "Построим отдельные графики для каждого вида цветка"
   ]
  },
  {
   "cell_type": "code",
   "execution_count": 13,
   "metadata": {},
   "outputs": [],
   "source": [
    "pd_df_setosa = df_setosa.toPandas()\n",
    "pd_df_virginica = df_virginica.toPandas()\n",
    "pd_df_versicolor = df_versicolor.toPandas()"
   ]
  },
  {
   "cell_type": "code",
   "execution_count": 14,
   "metadata": {},
   "outputs": [
    {
     "data": {
      "text/plain": [
       "<matplotlib.axes._subplots.AxesSubplot at 0x7fbbc16fee80>"
      ]
     },
     "execution_count": 14,
     "metadata": {},
     "output_type": "execute_result"
    },
    {
     "data": {
      "image/png": "[encoded data removed]",
      "text/plain": [
       "<Figure size 432x288 with 1 Axes>"
      ]
     },
     "metadata": {
      "needs_background": "light"
     },
     "output_type": "display_data"
    },
    {
     "data": {
      "image/png": "[encoded data removed]",
      "text/plain": [
       "<Figure size 432x288 with 1 Axes>"
      ]
     },
     "metadata": {
      "needs_background": "light"
     },
     "output_type": "display_data"
    },
    {
     "data": {
      "image/png": "[encoded data removed]",
      "text/plain": [
       "<Figure size 432x288 with 1 Axes>"
      ]
     },
     "metadata": {
      "needs_background": "light"
     },
     "output_type": "display_data"
    }
   ],
   "source": [
    "pd_df_setosa.plot.scatter (x = 'petal_length', y = 'petal_width', color='blue')\n",
    "pd_df_virginica.plot.scatter (x = 'petal_length', y = 'petal_width', color='green')\n",
    "pd_df_versicolor.plot.scatter (x = 'petal_length', y = 'petal_width', color = 'red')"
   ]
  },
  {
   "cell_type": "markdown",
   "metadata": {},
   "source": [
    "То же самое по sepal_lenght, хотя по petal_lenght мне кажется понятнее"
   ]
  },
  {
   "cell_type": "code",
   "execution_count": 15,
   "metadata": {},
   "outputs": [
    {
     "data": {
      "text/plain": [
       "<matplotlib.axes._subplots.AxesSubplot at 0x7fbbc15a7860>"
      ]
     },
     "execution_count": 15,
     "metadata": {},
     "output_type": "execute_result"
    },
    {
     "data": {
      "image/png": "[encoded data removed]",
      "text/plain": [
       "<Figure size 432x288 with 1 Axes>"
      ]
     },
     "metadata": {
      "needs_background": "light"
     },
     "output_type": "display_data"
    },
    {
     "data": {
      "image/png": "[encoded data removed]",
      "text/plain": [
       "<Figure size 432x288 with 1 Axes>"
      ]
     },
     "metadata": {
      "needs_background": "light"
     },
     "output_type": "display_data"
    },
    {
     "data": {
      "image/png": "[encoded data removed]",
      "text/plain": [
       "<Figure size 432x288 with 1 Axes>"
      ]
     },
     "metadata": {
      "needs_background": "light"
     },
     "output_type": "display_data"
    }
   ],
   "source": [
    "pd_df_setosa.plot.scatter (x = 'sepal_length', y = 'sepal_width', color='blue')\n",
    "pd_df_virginica.plot.scatter (x = 'sepal_length', y = 'sepal_width', color='green')\n",
    "pd_df_versicolor.plot.scatter (x = 'sepal_length', y = 'sepal_width', color = 'red')"
   ]
  },
  {
   "cell_type": "markdown",
   "metadata": {},
   "source": [
    "Проще всего предсказать по setose, длина меньше 2.0, ширина меньше 0.7"
   ]
  },
  {
   "cell_type": "code",
   "execution_count": 16,
   "metadata": {},
   "outputs": [
    {
     "name": "stdout",
     "output_type": "stream",
     "text": [
      "+------------+-----------+------------+-----------+-------+\n",
      "|sepal_length|sepal_width|petal_length|petal_width|variety|\n",
      "+------------+-----------+------------+-----------+-------+\n",
      "|         5.1|        3.5|         1.4|        0.2| Setosa|\n",
      "|         4.9|        3.0|         1.4|        0.2| Setosa|\n",
      "|         4.7|        3.2|         1.3|        0.2| Setosa|\n",
      "|         4.6|        3.1|         1.5|        0.2| Setosa|\n",
      "|         5.0|        3.6|         1.4|        0.2| Setosa|\n",
      "|         5.4|        3.9|         1.7|        0.4| Setosa|\n",
      "|         4.6|        3.4|         1.4|        0.3| Setosa|\n",
      "|         5.0|        3.4|         1.5|        0.2| Setosa|\n",
      "|         4.4|        2.9|         1.4|        0.2| Setosa|\n",
      "|         4.9|        3.1|         1.5|        0.1| Setosa|\n",
      "|         5.4|        3.7|         1.5|        0.2| Setosa|\n",
      "|         4.8|        3.4|         1.6|        0.2| Setosa|\n",
      "|         4.8|        3.0|         1.4|        0.1| Setosa|\n",
      "|         4.3|        3.0|         1.1|        0.1| Setosa|\n",
      "|         5.8|        4.0|         1.2|        0.2| Setosa|\n",
      "|         5.7|        4.4|         1.5|        0.4| Setosa|\n",
      "|         5.4|        3.9|         1.3|        0.4| Setosa|\n",
      "|         5.1|        3.5|         1.4|        0.3| Setosa|\n",
      "|         5.7|        3.8|         1.7|        0.3| Setosa|\n",
      "|         5.1|        3.8|         1.5|        0.3| Setosa|\n",
      "|         5.4|        3.4|         1.7|        0.2| Setosa|\n",
      "|         5.1|        3.7|         1.5|        0.4| Setosa|\n",
      "|         4.6|        3.6|         1.0|        0.2| Setosa|\n",
      "|         5.1|        3.3|         1.7|        0.5| Setosa|\n",
      "|         4.8|        3.4|         1.9|        0.2| Setosa|\n",
      "|         5.0|        3.0|         1.6|        0.2| Setosa|\n",
      "|         5.0|        3.4|         1.6|        0.4| Setosa|\n",
      "|         5.2|        3.5|         1.5|        0.2| Setosa|\n",
      "|         5.2|        3.4|         1.4|        0.2| Setosa|\n",
      "|         4.7|        3.2|         1.6|        0.2| Setosa|\n",
      "|         4.8|        3.1|         1.6|        0.2| Setosa|\n",
      "|         5.4|        3.4|         1.5|        0.4| Setosa|\n",
      "|         5.2|        4.1|         1.5|        0.1| Setosa|\n",
      "|         5.5|        4.2|         1.4|        0.2| Setosa|\n",
      "|         4.9|        3.1|         1.5|        0.2| Setosa|\n",
      "|         5.0|        3.2|         1.2|        0.2| Setosa|\n",
      "|         5.5|        3.5|         1.3|        0.2| Setosa|\n",
      "|         4.9|        3.6|         1.4|        0.1| Setosa|\n",
      "|         4.4|        3.0|         1.3|        0.2| Setosa|\n",
      "|         5.1|        3.4|         1.5|        0.2| Setosa|\n",
      "|         5.0|        3.5|         1.3|        0.3| Setosa|\n",
      "|         4.5|        2.3|         1.3|        0.3| Setosa|\n",
      "|         4.4|        3.2|         1.3|        0.2| Setosa|\n",
      "|         5.0|        3.5|         1.6|        0.6| Setosa|\n",
      "|         5.1|        3.8|         1.9|        0.4| Setosa|\n",
      "|         4.8|        3.0|         1.4|        0.3| Setosa|\n",
      "|         5.1|        3.8|         1.6|        0.2| Setosa|\n",
      "|         4.6|        3.2|         1.4|        0.2| Setosa|\n",
      "|         5.3|        3.7|         1.5|        0.2| Setosa|\n",
      "|         5.0|        3.3|         1.4|        0.2| Setosa|\n",
      "+------------+-----------+------------+-----------+-------+\n",
      "\n"
     ]
    }
   ],
   "source": [
    "df_setosa_pred = df.where((df['petal_length'] < 2.0) & (df['petal_width'] < 0.7))\n",
    "df_setosa_pred.show(150)"
   ]
  },
  {
   "cell_type": "markdown",
   "metadata": {},
   "source": [
    "Создадим колонку predict, в которую закинем булево значение, если ['variety'] == 'Setosa', то выведется значение true"
   ]
  },
  {
   "cell_type": "code",
   "execution_count": 17,
   "metadata": {},
   "outputs": [
    {
     "name": "stdout",
     "output_type": "stream",
     "text": [
      "+------------+-----------+------------+-----------+-------+-------+\n",
      "|sepal_length|sepal_width|petal_length|petal_width|variety|predict|\n",
      "+------------+-----------+------------+-----------+-------+-------+\n",
      "|         5.1|        3.5|         1.4|        0.2| Setosa|   true|\n",
      "|         4.9|        3.0|         1.4|        0.2| Setosa|   true|\n",
      "|         4.7|        3.2|         1.3|        0.2| Setosa|   true|\n",
      "|         4.6|        3.1|         1.5|        0.2| Setosa|   true|\n",
      "|         5.0|        3.6|         1.4|        0.2| Setosa|   true|\n",
      "|         5.4|        3.9|         1.7|        0.4| Setosa|   true|\n",
      "|         4.6|        3.4|         1.4|        0.3| Setosa|   true|\n",
      "|         5.0|        3.4|         1.5|        0.2| Setosa|   true|\n",
      "|         4.4|        2.9|         1.4|        0.2| Setosa|   true|\n",
      "|         4.9|        3.1|         1.5|        0.1| Setosa|   true|\n",
      "|         5.4|        3.7|         1.5|        0.2| Setosa|   true|\n",
      "|         4.8|        3.4|         1.6|        0.2| Setosa|   true|\n",
      "|         4.8|        3.0|         1.4|        0.1| Setosa|   true|\n",
      "|         4.3|        3.0|         1.1|        0.1| Setosa|   true|\n",
      "|         5.8|        4.0|         1.2|        0.2| Setosa|   true|\n",
      "|         5.7|        4.4|         1.5|        0.4| Setosa|   true|\n",
      "|         5.4|        3.9|         1.3|        0.4| Setosa|   true|\n",
      "|         5.1|        3.5|         1.4|        0.3| Setosa|   true|\n",
      "|         5.7|        3.8|         1.7|        0.3| Setosa|   true|\n",
      "|         5.1|        3.8|         1.5|        0.3| Setosa|   true|\n",
      "|         5.4|        3.4|         1.7|        0.2| Setosa|   true|\n",
      "|         5.1|        3.7|         1.5|        0.4| Setosa|   true|\n",
      "|         4.6|        3.6|         1.0|        0.2| Setosa|   true|\n",
      "|         5.1|        3.3|         1.7|        0.5| Setosa|   true|\n",
      "|         4.8|        3.4|         1.9|        0.2| Setosa|   true|\n",
      "|         5.0|        3.0|         1.6|        0.2| Setosa|   true|\n",
      "|         5.0|        3.4|         1.6|        0.4| Setosa|   true|\n",
      "|         5.2|        3.5|         1.5|        0.2| Setosa|   true|\n",
      "|         5.2|        3.4|         1.4|        0.2| Setosa|   true|\n",
      "|         4.7|        3.2|         1.6|        0.2| Setosa|   true|\n",
      "|         4.8|        3.1|         1.6|        0.2| Setosa|   true|\n",
      "|         5.4|        3.4|         1.5|        0.4| Setosa|   true|\n",
      "|         5.2|        4.1|         1.5|        0.1| Setosa|   true|\n",
      "|         5.5|        4.2|         1.4|        0.2| Setosa|   true|\n",
      "|         4.9|        3.1|         1.5|        0.2| Setosa|   true|\n",
      "|         5.0|        3.2|         1.2|        0.2| Setosa|   true|\n",
      "|         5.5|        3.5|         1.3|        0.2| Setosa|   true|\n",
      "|         4.9|        3.6|         1.4|        0.1| Setosa|   true|\n",
      "|         4.4|        3.0|         1.3|        0.2| Setosa|   true|\n",
      "|         5.1|        3.4|         1.5|        0.2| Setosa|   true|\n",
      "|         5.0|        3.5|         1.3|        0.3| Setosa|   true|\n",
      "|         4.5|        2.3|         1.3|        0.3| Setosa|   true|\n",
      "|         4.4|        3.2|         1.3|        0.2| Setosa|   true|\n",
      "|         5.0|        3.5|         1.6|        0.6| Setosa|   true|\n",
      "|         5.1|        3.8|         1.9|        0.4| Setosa|   true|\n",
      "|         4.8|        3.0|         1.4|        0.3| Setosa|   true|\n",
      "|         5.1|        3.8|         1.6|        0.2| Setosa|   true|\n",
      "|         4.6|        3.2|         1.4|        0.2| Setosa|   true|\n",
      "|         5.3|        3.7|         1.5|        0.2| Setosa|   true|\n",
      "|         5.0|        3.3|         1.4|        0.2| Setosa|   true|\n",
      "+------------+-----------+------------+-----------+-------+-------+\n",
      "\n"
     ]
    }
   ],
   "source": [
    "df_setosa_pred = df_setosa_pred.withColumn('predict', df_setosa['variety'] == 'Setosa')\n",
    "df_setosa_pred.show(150)"
   ]
  },
  {
   "cell_type": "markdown",
   "metadata": {},
   "source": [
    "Оцените качество (сколько раз Вы угадали с ответом и сколько раз не угадали)\n",
    "Посчитаем общее количество значений predict и количество значений false"
   ]
  },
  {
   "cell_type": "code",
   "execution_count": 18,
   "metadata": {},
   "outputs": [
    {
     "data": {
      "text/plain": [
       "50"
      ]
     },
     "execution_count": 18,
     "metadata": {},
     "output_type": "execute_result"
    }
   ],
   "source": [
    "df_setosa_pred.filter('predict').count()"
   ]
  },
  {
   "cell_type": "code",
   "execution_count": 19,
   "metadata": {},
   "outputs": [
    {
     "data": {
      "text/plain": [
       "0"
      ]
     },
     "execution_count": 19,
     "metadata": {},
     "output_type": "execute_result"
    }
   ],
   "source": [
    "df_setosa_pred.filter(df_setosa_pred['predict'] == 0).count() #не угадали 0 раз"
   ]
  },
  {
   "cell_type": "markdown",
   "metadata": {},
   "source": [
    "Дальше было интересно попробовать для virginica и versicolor"
   ]
  },
  {
   "cell_type": "code",
   "execution_count": 20,
   "metadata": {},
   "outputs": [
    {
     "name": "stdout",
     "output_type": "stream",
     "text": [
      "+------------+-----------+------------+-----------+----------+\n",
      "|sepal_length|sepal_width|petal_length|petal_width|   variety|\n",
      "+------------+-----------+------------+-----------+----------+\n",
      "|         6.9|        3.1|         4.9|        1.5|Versicolor|\n",
      "|         6.5|        2.8|         4.6|        1.5|Versicolor|\n",
      "|         6.3|        3.3|         4.7|        1.6|Versicolor|\n",
      "|         5.9|        3.2|         4.8|        1.8|Versicolor|\n",
      "|         6.3|        2.5|         4.9|        1.5|Versicolor|\n",
      "|         6.7|        3.0|         5.0|        1.7|Versicolor|\n",
      "|         6.0|        2.7|         5.1|        1.6|Versicolor|\n",
      "|         6.7|        3.1|         4.7|        1.5|Versicolor|\n",
      "|         6.3|        3.3|         6.0|        2.5| Virginica|\n",
      "|         5.8|        2.7|         5.1|        1.9| Virginica|\n",
      "|         7.1|        3.0|         5.9|        2.1| Virginica|\n",
      "|         6.3|        2.9|         5.6|        1.8| Virginica|\n",
      "|         6.5|        3.0|         5.8|        2.2| Virginica|\n",
      "|         7.6|        3.0|         6.6|        2.1| Virginica|\n",
      "|         7.3|        2.9|         6.3|        1.8| Virginica|\n",
      "|         6.7|        2.5|         5.8|        1.8| Virginica|\n",
      "|         7.2|        3.6|         6.1|        2.5| Virginica|\n",
      "|         6.5|        3.2|         5.1|        2.0| Virginica|\n",
      "|         6.4|        2.7|         5.3|        1.9| Virginica|\n",
      "|         6.8|        3.0|         5.5|        2.1| Virginica|\n",
      "|         5.7|        2.5|         5.0|        2.0| Virginica|\n",
      "|         5.8|        2.8|         5.1|        2.4| Virginica|\n",
      "|         6.4|        3.2|         5.3|        2.3| Virginica|\n",
      "|         6.5|        3.0|         5.5|        1.8| Virginica|\n",
      "|         7.7|        3.8|         6.7|        2.2| Virginica|\n",
      "|         7.7|        2.6|         6.9|        2.3| Virginica|\n",
      "|         6.0|        2.2|         5.0|        1.5| Virginica|\n",
      "|         6.9|        3.2|         5.7|        2.3| Virginica|\n",
      "|         5.6|        2.8|         4.9|        2.0| Virginica|\n",
      "|         7.7|        2.8|         6.7|        2.0| Virginica|\n",
      "|         6.3|        2.7|         4.9|        1.8| Virginica|\n",
      "|         6.7|        3.3|         5.7|        2.1| Virginica|\n",
      "|         7.2|        3.2|         6.0|        1.8| Virginica|\n",
      "|         6.2|        2.8|         4.8|        1.8| Virginica|\n",
      "|         6.1|        3.0|         4.9|        1.8| Virginica|\n",
      "|         6.4|        2.8|         5.6|        2.1| Virginica|\n",
      "|         7.2|        3.0|         5.8|        1.6| Virginica|\n",
      "|         7.4|        2.8|         6.1|        1.9| Virginica|\n",
      "|         7.9|        3.8|         6.4|        2.0| Virginica|\n",
      "|         6.4|        2.8|         5.6|        2.2| Virginica|\n",
      "|         6.3|        2.8|         5.1|        1.5| Virginica|\n",
      "|         7.7|        3.0|         6.1|        2.3| Virginica|\n",
      "|         6.3|        3.4|         5.6|        2.4| Virginica|\n",
      "|         6.4|        3.1|         5.5|        1.8| Virginica|\n",
      "|         6.0|        3.0|         4.8|        1.8| Virginica|\n",
      "|         6.9|        3.1|         5.4|        2.1| Virginica|\n",
      "|         6.7|        3.1|         5.6|        2.4| Virginica|\n",
      "|         6.9|        3.1|         5.1|        2.3| Virginica|\n",
      "|         5.8|        2.7|         5.1|        1.9| Virginica|\n",
      "|         6.8|        3.2|         5.9|        2.3| Virginica|\n",
      "|         6.7|        3.3|         5.7|        2.5| Virginica|\n",
      "|         6.7|        3.0|         5.2|        2.3| Virginica|\n",
      "|         6.3|        2.5|         5.0|        1.9| Virginica|\n",
      "|         6.5|        3.0|         5.2|        2.0| Virginica|\n",
      "|         6.2|        3.4|         5.4|        2.3| Virginica|\n",
      "|         5.9|        3.0|         5.1|        1.8| Virginica|\n",
      "+------------+-----------+------------+-----------+----------+\n",
      "\n"
     ]
    }
   ],
   "source": [
    "df_virginica_pred = df.where((df['petal_length'] > 4.5) & (df['petal_width'] > 1.4))\n",
    "df_virginica_pred.show(150)"
   ]
  },
  {
   "cell_type": "code",
   "execution_count": 21,
   "metadata": {},
   "outputs": [
    {
     "name": "stdout",
     "output_type": "stream",
     "text": [
      "+------------+-----------+------------+-----------+----------+-------+\n",
      "|sepal_length|sepal_width|petal_length|petal_width|   variety|predict|\n",
      "+------------+-----------+------------+-----------+----------+-------+\n",
      "|         6.9|        3.1|         4.9|        1.5|Versicolor|  false|\n",
      "|         6.5|        2.8|         4.6|        1.5|Versicolor|  false|\n",
      "|         6.3|        3.3|         4.7|        1.6|Versicolor|  false|\n",
      "|         5.9|        3.2|         4.8|        1.8|Versicolor|  false|\n",
      "|         6.3|        2.5|         4.9|        1.5|Versicolor|  false|\n",
      "|         6.7|        3.0|         5.0|        1.7|Versicolor|  false|\n",
      "|         6.0|        2.7|         5.1|        1.6|Versicolor|  false|\n",
      "|         6.7|        3.1|         4.7|        1.5|Versicolor|  false|\n",
      "|         6.3|        3.3|         6.0|        2.5| Virginica|   true|\n",
      "|         5.8|        2.7|         5.1|        1.9| Virginica|   true|\n",
      "|         7.1|        3.0|         5.9|        2.1| Virginica|   true|\n",
      "|         6.3|        2.9|         5.6|        1.8| Virginica|   true|\n",
      "|         6.5|        3.0|         5.8|        2.2| Virginica|   true|\n",
      "|         7.6|        3.0|         6.6|        2.1| Virginica|   true|\n",
      "|         7.3|        2.9|         6.3|        1.8| Virginica|   true|\n",
      "|         6.7|        2.5|         5.8|        1.8| Virginica|   true|\n",
      "|         7.2|        3.6|         6.1|        2.5| Virginica|   true|\n",
      "|         6.5|        3.2|         5.1|        2.0| Virginica|   true|\n",
      "|         6.4|        2.7|         5.3|        1.9| Virginica|   true|\n",
      "|         6.8|        3.0|         5.5|        2.1| Virginica|   true|\n",
      "+------------+-----------+------------+-----------+----------+-------+\n",
      "only showing top 20 rows\n",
      "\n"
     ]
    }
   ],
   "source": [
    "df_virginica_pred = df_virginica_pred.withColumn('predict', df_versicolor['variety'] == 'Virginica')\n",
    "df_virginica_pred.show()"
   ]
  },
  {
   "cell_type": "code",
   "execution_count": 22,
   "metadata": {},
   "outputs": [
    {
     "data": {
      "text/plain": [
       "48"
      ]
     },
     "execution_count": 22,
     "metadata": {},
     "output_type": "execute_result"
    }
   ],
   "source": [
    "df_virginica_pred.filter(\"predict\").count()"
   ]
  },
  {
   "cell_type": "code",
   "execution_count": 28,
   "metadata": {},
   "outputs": [
    {
     "data": {
      "text/plain": [
       "8"
      ]
     },
     "execution_count": 28,
     "metadata": {},
     "output_type": "execute_result"
    }
   ],
   "source": [
    "df_virginica_pred.filter(df_virginica_pred['predict'] == 0).count() # не угадали 8 раз"
   ]
  },
  {
   "cell_type": "markdown",
   "metadata": {},
   "source": [
    "versicolor"
   ]
  },
  {
   "cell_type": "code",
   "execution_count": 24,
   "metadata": {},
   "outputs": [
    {
     "name": "stdout",
     "output_type": "stream",
     "text": [
      "+------------+-----------+------------+-----------+----------+\n",
      "|sepal_length|sepal_width|petal_length|petal_width|   variety|\n",
      "+------------+-----------+------------+-----------+----------+\n",
      "|         5.5|        2.3|         4.0|        1.3|Versicolor|\n",
      "|         5.7|        2.8|         4.5|        1.3|Versicolor|\n",
      "|         4.9|        2.4|         3.3|        1.0|Versicolor|\n",
      "|         5.2|        2.7|         3.9|        1.4|Versicolor|\n",
      "|         5.0|        2.0|         3.5|        1.0|Versicolor|\n",
      "|         6.0|        2.2|         4.0|        1.0|Versicolor|\n",
      "|         5.6|        2.9|         3.6|        1.3|Versicolor|\n",
      "|         6.7|        3.1|         4.4|        1.4|Versicolor|\n",
      "|         5.8|        2.7|         4.1|        1.0|Versicolor|\n",
      "|         5.6|        2.5|         3.9|        1.1|Versicolor|\n",
      "|         6.1|        2.8|         4.0|        1.3|Versicolor|\n",
      "|         6.4|        2.9|         4.3|        1.3|Versicolor|\n",
      "|         6.6|        3.0|         4.4|        1.4|Versicolor|\n",
      "|         5.7|        2.6|         3.5|        1.0|Versicolor|\n",
      "|         5.5|        2.4|         3.8|        1.1|Versicolor|\n",
      "|         5.5|        2.4|         3.7|        1.0|Versicolor|\n",
      "|         5.8|        2.7|         3.9|        1.2|Versicolor|\n",
      "|         6.3|        2.3|         4.4|        1.3|Versicolor|\n",
      "|         5.6|        3.0|         4.1|        1.3|Versicolor|\n",
      "|         5.5|        2.5|         4.0|        1.3|Versicolor|\n",
      "|         5.5|        2.6|         4.4|        1.2|Versicolor|\n",
      "|         5.8|        2.6|         4.0|        1.2|Versicolor|\n",
      "|         5.0|        2.3|         3.3|        1.0|Versicolor|\n",
      "|         5.6|        2.7|         4.2|        1.3|Versicolor|\n",
      "|         5.7|        3.0|         4.2|        1.2|Versicolor|\n",
      "|         5.7|        2.9|         4.2|        1.3|Versicolor|\n",
      "|         6.2|        2.9|         4.3|        1.3|Versicolor|\n",
      "|         5.1|        2.5|         3.0|        1.1|Versicolor|\n",
      "|         5.7|        2.8|         4.1|        1.3|Versicolor|\n",
      "+------------+-----------+------------+-----------+----------+\n",
      "\n"
     ]
    }
   ],
   "source": [
    "df_versicolor_pred = df.where((df['petal_length'] <= 4.5) & (df['petal_length'] >= 2.0) & (df['petal_width'] <= 1.4)& (df['petal_width'] >= 0.7))\n",
    "df_versicolor_pred.show(150)"
   ]
  },
  {
   "cell_type": "code",
   "execution_count": 25,
   "metadata": {},
   "outputs": [
    {
     "name": "stdout",
     "output_type": "stream",
     "text": [
      "+------------+-----------+------------+-----------+----------+-------+\n",
      "|sepal_length|sepal_width|petal_length|petal_width|   variety|predict|\n",
      "+------------+-----------+------------+-----------+----------+-------+\n",
      "|         5.5|        2.3|         4.0|        1.3|Versicolor|   true|\n",
      "|         5.7|        2.8|         4.5|        1.3|Versicolor|   true|\n",
      "|         4.9|        2.4|         3.3|        1.0|Versicolor|   true|\n",
      "|         5.2|        2.7|         3.9|        1.4|Versicolor|   true|\n",
      "|         5.0|        2.0|         3.5|        1.0|Versicolor|   true|\n",
      "|         6.0|        2.2|         4.0|        1.0|Versicolor|   true|\n",
      "|         5.6|        2.9|         3.6|        1.3|Versicolor|   true|\n",
      "|         6.7|        3.1|         4.4|        1.4|Versicolor|   true|\n",
      "|         5.8|        2.7|         4.1|        1.0|Versicolor|   true|\n",
      "|         5.6|        2.5|         3.9|        1.1|Versicolor|   true|\n",
      "|         6.1|        2.8|         4.0|        1.3|Versicolor|   true|\n",
      "|         6.4|        2.9|         4.3|        1.3|Versicolor|   true|\n",
      "|         6.6|        3.0|         4.4|        1.4|Versicolor|   true|\n",
      "|         5.7|        2.6|         3.5|        1.0|Versicolor|   true|\n",
      "|         5.5|        2.4|         3.8|        1.1|Versicolor|   true|\n",
      "|         5.5|        2.4|         3.7|        1.0|Versicolor|   true|\n",
      "|         5.8|        2.7|         3.9|        1.2|Versicolor|   true|\n",
      "|         6.3|        2.3|         4.4|        1.3|Versicolor|   true|\n",
      "|         5.6|        3.0|         4.1|        1.3|Versicolor|   true|\n",
      "|         5.5|        2.5|         4.0|        1.3|Versicolor|   true|\n",
      "+------------+-----------+------------+-----------+----------+-------+\n",
      "only showing top 20 rows\n",
      "\n"
     ]
    }
   ],
   "source": [
    "df_versicolor_pred = df_versicolor_pred.withColumn('predict', df_versicolor['variety'] == 'Versicolor')\n",
    "df_versicolor_pred.show()"
   ]
  },
  {
   "cell_type": "code",
   "execution_count": 26,
   "metadata": {},
   "outputs": [
    {
     "data": {
      "text/plain": [
       "29"
      ]
     },
     "execution_count": 26,
     "metadata": {},
     "output_type": "execute_result"
    }
   ],
   "source": [
    "df_versicolor_pred.filter(\"predict\").count()"
   ]
  },
  {
   "cell_type": "code",
   "execution_count": 29,
   "metadata": {},
   "outputs": [
    {
     "data": {
      "text/plain": [
       "0"
      ]
     },
     "execution_count": 29,
     "metadata": {},
     "output_type": "execute_result"
    }
   ],
   "source": [
    "df_versicolor_pred.filter(df_versicolor_pred['predict'] == 0).count() # не угадали 0 раз"
   ]
  },
  {
   "cell_type": "code",
   "execution_count": null,
   "metadata": {},
   "outputs": [],
   "source": []
  }
 ],
 "metadata": {
  "kernelspec": {
   "display_name": "Python 3",
   "language": "python",
   "name": "python3"
  },
  "language_info": {
   "codemirror_mode": {
    "name": "ipython",
    "version": 3
   },
   "file_extension": ".py",
   "mimetype": "text/x-python",
   "name": "python",
   "nbconvert_exporter": "python",
   "pygments_lexer": "ipython3",
   "version": "3.6.9"
  }
 },
 "nbformat": 4,
 "nbformat_minor": 2
}
