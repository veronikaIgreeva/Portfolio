{
 "cells": [
  {
   "cell_type": "code",
   "execution_count": 0,
   "metadata": {
    "colab": {},
    "colab_type": "code",
    "id": "EgIyYj_1Wq3x"
   },
   "outputs": [],
   "source": []
  },
  {
   "cell_type": "markdown",
   "metadata": {
    "colab_type": "text",
    "id": "pZzchHrqWrRn"
   },
   "source": [
    "# 8. Загрузить данные в spark"
   ]
  },
  {
   "cell_type": "code",
   "execution_count": 0,
   "metadata": {
    "colab": {},
    "colab_type": "code",
    "id": "fYme5xqxYRGr"
   },
   "outputs": [],
   "source": [
    "!apt-get install openjdk-8-jdk-headless -qq > /dev/null"
   ]
  },
  {
   "cell_type": "code",
   "execution_count": 0,
   "metadata": {
    "colab": {},
    "colab_type": "code",
    "id": "SwWnp8mdYWF0"
   },
   "outputs": [],
   "source": [
    "!wget -q www-us.apache.org/dist/spark/spark-2.4.4/spark-2.4.4-bin-hadoop2.7.tgz"
   ]
  },
  {
   "cell_type": "code",
   "execution_count": 52,
   "metadata": {
    "colab": {
     "base_uri": "https://localhost:8080/",
     "height": 1000
    },
    "colab_type": "code",
    "id": "gcLqxG6YYxMV",
    "outputId": "5fe4e6b3-5374-4303-cfd7-4321ab1035f1"
   },
   "outputs": [
    {
     "name": "stdout",
     "output_type": "stream",
     "text": [
      "spark-2.4.4-bin-hadoop2.7/\n",
      "spark-2.4.4-bin-hadoop2.7/R/\n",
      "spark-2.4.4-bin-hadoop2.7/R/lib/\n",
      "spark-2.4.4-bin-hadoop2.7/R/lib/sparkr.zip\n",
      "spark-2.4.4-bin-hadoop2.7/R/lib/SparkR/\n",
      "spark-2.4.4-bin-hadoop2.7/R/lib/SparkR/INDEX\n",
      "spark-2.4.4-bin-hadoop2.7/R/lib/SparkR/html/\n",
      "spark-2.4.4-bin-hadoop2.7/R/lib/SparkR/html/R.css\n",
      "spark-2.4.4-bin-hadoop2.7/R/lib/SparkR/html/00Index.html\n",
      "spark-2.4.4-bin-hadoop2.7/R/lib/SparkR/help/\n",
      "spark-2.4.4-bin-hadoop2.7/R/lib/SparkR/help/aliases.rds\n",
      "spark-2.4.4-bin-hadoop2.7/R/lib/SparkR/help/AnIndex\n",
      "spark-2.4.4-bin-hadoop2.7/R/lib/SparkR/help/SparkR.rdx\n",
      "spark-2.4.4-bin-hadoop2.7/R/lib/SparkR/help/SparkR.rdb\n",
      "spark-2.4.4-bin-hadoop2.7/R/lib/SparkR/help/paths.rds\n",
      "spark-2.4.4-bin-hadoop2.7/R/lib/SparkR/worker/\n",
      "spark-2.4.4-bin-hadoop2.7/R/lib/SparkR/worker/worker.R\n",
      "spark-2.4.4-bin-hadoop2.7/R/lib/SparkR/worker/daemon.R\n",
      "spark-2.4.4-bin-hadoop2.7/R/lib/SparkR/tests/\n",
      "spark-2.4.4-bin-hadoop2.7/R/lib/SparkR/tests/testthat/\n",
      "spark-2.4.4-bin-hadoop2.7/R/lib/SparkR/tests/testthat/test_basic.R\n",
      "spark-2.4.4-bin-hadoop2.7/R/lib/SparkR/profile/\n",
      "spark-2.4.4-bin-hadoop2.7/R/lib/SparkR/profile/shell.R\n",
      "spark-2.4.4-bin-hadoop2.7/R/lib/SparkR/profile/general.R\n",
      "spark-2.4.4-bin-hadoop2.7/R/lib/SparkR/R/\n",
      "spark-2.4.4-bin-hadoop2.7/R/lib/SparkR/R/SparkR.rdx\n",
      "spark-2.4.4-bin-hadoop2.7/R/lib/SparkR/R/SparkR.rdb\n",
      "spark-2.4.4-bin-hadoop2.7/R/lib/SparkR/R/SparkR\n",
      "spark-2.4.4-bin-hadoop2.7/R/lib/SparkR/Meta/\n",
      "spark-2.4.4-bin-hadoop2.7/R/lib/SparkR/Meta/nsInfo.rds\n",
      "spark-2.4.4-bin-hadoop2.7/R/lib/SparkR/Meta/links.rds\n",
      "spark-2.4.4-bin-hadoop2.7/R/lib/SparkR/Meta/hsearch.rds\n",
      "spark-2.4.4-bin-hadoop2.7/R/lib/SparkR/Meta/Rd.rds\n",
      "spark-2.4.4-bin-hadoop2.7/R/lib/SparkR/Meta/features.rds\n",
      "spark-2.4.4-bin-hadoop2.7/R/lib/SparkR/Meta/package.rds\n",
      "spark-2.4.4-bin-hadoop2.7/R/lib/SparkR/DESCRIPTION\n",
      "spark-2.4.4-bin-hadoop2.7/R/lib/SparkR/NAMESPACE\n",
      "spark-2.4.4-bin-hadoop2.7/sbin/\n",
      "spark-2.4.4-bin-hadoop2.7/sbin/stop-shuffle-service.sh\n",
      "spark-2.4.4-bin-hadoop2.7/sbin/start-thriftserver.sh\n",
      "spark-2.4.4-bin-hadoop2.7/sbin/start-slave.sh\n",
      "spark-2.4.4-bin-hadoop2.7/sbin/start-shuffle-service.sh\n",
      "spark-2.4.4-bin-hadoop2.7/sbin/start-mesos-shuffle-service.sh\n",
      "spark-2.4.4-bin-hadoop2.7/sbin/start-master.sh\n",
      "spark-2.4.4-bin-hadoop2.7/sbin/start-history-server.sh\n",
      "spark-2.4.4-bin-hadoop2.7/sbin/spark-config.sh\n",
      "spark-2.4.4-bin-hadoop2.7/sbin/stop-thriftserver.sh\n",
      "spark-2.4.4-bin-hadoop2.7/sbin/stop-slaves.sh\n",
      "spark-2.4.4-bin-hadoop2.7/sbin/stop-slave.sh\n",
      "spark-2.4.4-bin-hadoop2.7/sbin/stop-mesos-shuffle-service.sh\n",
      "spark-2.4.4-bin-hadoop2.7/sbin/stop-mesos-dispatcher.sh\n",
      "spark-2.4.4-bin-hadoop2.7/sbin/stop-master.sh\n",
      "spark-2.4.4-bin-hadoop2.7/sbin/stop-history-server.sh\n",
      "spark-2.4.4-bin-hadoop2.7/sbin/stop-all.sh\n",
      "spark-2.4.4-bin-hadoop2.7/sbin/start-slaves.sh\n",
      "spark-2.4.4-bin-hadoop2.7/sbin/start-mesos-dispatcher.sh\n",
      "spark-2.4.4-bin-hadoop2.7/sbin/start-all.sh\n",
      "spark-2.4.4-bin-hadoop2.7/sbin/spark-daemons.sh\n",
      "spark-2.4.4-bin-hadoop2.7/sbin/spark-daemon.sh\n",
      "spark-2.4.4-bin-hadoop2.7/sbin/slaves.sh\n",
      "spark-2.4.4-bin-hadoop2.7/python/\n",
      "spark-2.4.4-bin-hadoop2.7/python/dist/\n",
      "spark-2.4.4-bin-hadoop2.7/python/pyspark.egg-info/\n",
      "spark-2.4.4-bin-hadoop2.7/python/pyspark.egg-info/SOURCES.txt\n",
      "spark-2.4.4-bin-hadoop2.7/python/pyspark.egg-info/dependency_links.txt\n",
      "spark-2.4.4-bin-hadoop2.7/python/pyspark.egg-info/top_level.txt\n",
      "spark-2.4.4-bin-hadoop2.7/python/pyspark.egg-info/PKG-INFO\n",
      "spark-2.4.4-bin-hadoop2.7/python/pyspark.egg-info/requires.txt\n",
      "spark-2.4.4-bin-hadoop2.7/python/README.md\n",
      "spark-2.4.4-bin-hadoop2.7/python/MANIFEST.in\n",
      "spark-2.4.4-bin-hadoop2.7/python/setup.py\n",
      "spark-2.4.4-bin-hadoop2.7/python/run-tests.py\n",
      "spark-2.4.4-bin-hadoop2.7/python/run-tests-with-coverage\n",
      "spark-2.4.4-bin-hadoop2.7/python/test_support/\n",
      "spark-2.4.4-bin-hadoop2.7/python/test_support/userlibrary.py\n",
      "spark-2.4.4-bin-hadoop2.7/python/test_support/userlib-0.1.zip\n",
      "spark-2.4.4-bin-hadoop2.7/python/test_support/sql/\n",
      "spark-2.4.4-bin-hadoop2.7/python/test_support/sql/text-test.txt\n",
      "spark-2.4.4-bin-hadoop2.7/python/test_support/sql/streaming/\n",
      "spark-2.4.4-bin-hadoop2.7/python/test_support/sql/streaming/text-test.txt\n",
      "spark-2.4.4-bin-hadoop2.7/python/test_support/sql/people_array_utf16le.json\n",
      "spark-2.4.4-bin-hadoop2.7/python/test_support/sql/people_array.json\n",
      "spark-2.4.4-bin-hadoop2.7/python/test_support/sql/people1.json\n",
      "spark-2.4.4-bin-hadoop2.7/python/test_support/sql/people.json\n",
      "spark-2.4.4-bin-hadoop2.7/python/test_support/sql/parquet_partitioned/\n",
      "spark-2.4.4-bin-hadoop2.7/python/test_support/sql/parquet_partitioned/year=2015/\n",
      "spark-2.4.4-bin-hadoop2.7/python/test_support/sql/parquet_partitioned/year=2015/month=9/\n",
      "spark-2.4.4-bin-hadoop2.7/python/test_support/sql/parquet_partitioned/year=2015/month=9/day=1/\n",
      "spark-2.4.4-bin-hadoop2.7/python/test_support/sql/parquet_partitioned/year=2015/month=9/day=1/part-r-00007.gz.parquet\n",
      "spark-2.4.4-bin-hadoop2.7/python/test_support/sql/parquet_partitioned/year=2015/month=9/day=1/.part-r-00007.gz.parquet.crc\n",
      "spark-2.4.4-bin-hadoop2.7/python/test_support/sql/parquet_partitioned/year=2015/month=10/\n",
      "spark-2.4.4-bin-hadoop2.7/python/test_support/sql/parquet_partitioned/year=2015/month=10/day=26/\n",
      "spark-2.4.4-bin-hadoop2.7/python/test_support/sql/parquet_partitioned/year=2015/month=10/day=26/part-r-00005.gz.parquet\n",
      "spark-2.4.4-bin-hadoop2.7/python/test_support/sql/parquet_partitioned/year=2015/month=10/day=26/.part-r-00005.gz.parquet.crc\n",
      "spark-2.4.4-bin-hadoop2.7/python/test_support/sql/parquet_partitioned/year=2015/month=10/day=25/\n",
      "spark-2.4.4-bin-hadoop2.7/python/test_support/sql/parquet_partitioned/year=2015/month=10/day=25/part-r-00004.gz.parquet\n",
      "spark-2.4.4-bin-hadoop2.7/python/test_support/sql/parquet_partitioned/year=2015/month=10/day=25/part-r-00002.gz.parquet\n",
      "spark-2.4.4-bin-hadoop2.7/python/test_support/sql/parquet_partitioned/year=2015/month=10/day=25/.part-r-00004.gz.parquet.crc\n",
      "spark-2.4.4-bin-hadoop2.7/python/test_support/sql/parquet_partitioned/year=2015/month=10/day=25/.part-r-00002.gz.parquet.crc\n",
      "spark-2.4.4-bin-hadoop2.7/python/test_support/sql/parquet_partitioned/year=2014/\n",
      "spark-2.4.4-bin-hadoop2.7/python/test_support/sql/parquet_partitioned/year=2014/month=9/\n",
      "spark-2.4.4-bin-hadoop2.7/python/test_support/sql/parquet_partitioned/year=2014/month=9/day=1/\n",
      "spark-2.4.4-bin-hadoop2.7/python/test_support/sql/parquet_partitioned/year=2014/month=9/day=1/part-r-00008.gz.parquet\n",
      "spark-2.4.4-bin-hadoop2.7/python/test_support/sql/parquet_partitioned/year=2014/month=9/day=1/.part-r-00008.gz.parquet.crc\n",
      "spark-2.4.4-bin-hadoop2.7/python/test_support/sql/parquet_partitioned/_metadata\n",
      "spark-2.4.4-bin-hadoop2.7/python/test_support/sql/parquet_partitioned/_common_metadata\n",
      "spark-2.4.4-bin-hadoop2.7/python/test_support/sql/parquet_partitioned/_SUCCESS\n",
      "spark-2.4.4-bin-hadoop2.7/python/test_support/sql/orc_partitioned/\n",
      "spark-2.4.4-bin-hadoop2.7/python/test_support/sql/orc_partitioned/b=1/\n",
      "spark-2.4.4-bin-hadoop2.7/python/test_support/sql/orc_partitioned/b=1/c=1/\n",
      "spark-2.4.4-bin-hadoop2.7/python/test_support/sql/orc_partitioned/b=1/c=1/part-r-00000-829af031-b970-49d6-ad39-30460a0be2c8.orc\n",
      "spark-2.4.4-bin-hadoop2.7/python/test_support/sql/orc_partitioned/b=1/c=1/.part-r-00000-829af031-b970-49d6-ad39-30460a0be2c8.orc.crc\n",
      "spark-2.4.4-bin-hadoop2.7/python/test_support/sql/orc_partitioned/b=0/\n",
      "spark-2.4.4-bin-hadoop2.7/python/test_support/sql/orc_partitioned/b=0/c=0/\n",
      "spark-2.4.4-bin-hadoop2.7/python/test_support/sql/orc_partitioned/b=0/c=0/part-r-00000-829af031-b970-49d6-ad39-30460a0be2c8.orc\n",
      "spark-2.4.4-bin-hadoop2.7/python/test_support/sql/orc_partitioned/b=0/c=0/.part-r-00000-829af031-b970-49d6-ad39-30460a0be2c8.orc.crc\n",
      "spark-2.4.4-bin-hadoop2.7/python/test_support/sql/orc_partitioned/_SUCCESS\n",
      "spark-2.4.4-bin-hadoop2.7/python/test_support/sql/ages_newlines.csv\n",
      "spark-2.4.4-bin-hadoop2.7/python/test_support/sql/ages.csv\n",
      "spark-2.4.4-bin-hadoop2.7/python/test_support/hello/\n",
      "spark-2.4.4-bin-hadoop2.7/python/test_support/hello/sub_hello/\n",
      "spark-2.4.4-bin-hadoop2.7/python/test_support/hello/sub_hello/sub_hello.txt\n",
      "spark-2.4.4-bin-hadoop2.7/python/test_support/hello/hello.txt\n",
      "spark-2.4.4-bin-hadoop2.7/python/test_support/SimpleHTTPServer.py\n",
      "spark-2.4.4-bin-hadoop2.7/python/test_coverage/\n",
      "spark-2.4.4-bin-hadoop2.7/python/test_coverage/sitecustomize.py\n",
      "spark-2.4.4-bin-hadoop2.7/python/test_coverage/coverage_daemon.py\n",
      "spark-2.4.4-bin-hadoop2.7/python/test_coverage/conf/\n",
      "spark-2.4.4-bin-hadoop2.7/python/test_coverage/conf/spark-defaults.conf\n",
      "spark-2.4.4-bin-hadoop2.7/python/setup.cfg\n",
      "spark-2.4.4-bin-hadoop2.7/python/run-tests\n",
      "spark-2.4.4-bin-hadoop2.7/python/pyspark/\n",
      "spark-2.4.4-bin-hadoop2.7/python/pyspark/python/\n",
      "spark-2.4.4-bin-hadoop2.7/python/pyspark/python/pyspark/\n",
      "spark-2.4.4-bin-hadoop2.7/python/pyspark/python/pyspark/shell.py\n",
      "spark-2.4.4-bin-hadoop2.7/python/pyspark/shuffle.py\n",
      "spark-2.4.4-bin-hadoop2.7/python/pyspark/serializers.py\n",
      "spark-2.4.4-bin-hadoop2.7/python/pyspark/rdd.py\n",
      "spark-2.4.4-bin-hadoop2.7/python/pyspark/profiler.py\n",
      "spark-2.4.4-bin-hadoop2.7/python/pyspark/java_gateway.py\n",
      "spark-2.4.4-bin-hadoop2.7/python/pyspark/files.py\n",
      "spark-2.4.4-bin-hadoop2.7/python/pyspark/daemon.py\n",
      "spark-2.4.4-bin-hadoop2.7/python/pyspark/context.py\n",
      "spark-2.4.4-bin-hadoop2.7/python/pyspark/conf.py\n",
      "spark-2.4.4-bin-hadoop2.7/python/pyspark/cloudpickle.py\n",
      "spark-2.4.4-bin-hadoop2.7/python/pyspark/broadcast.py\n",
      "spark-2.4.4-bin-hadoop2.7/python/pyspark/accumulators.py\n",
      "spark-2.4.4-bin-hadoop2.7/python/pyspark/__init__.py\n",
      "spark-2.4.4-bin-hadoop2.7/python/pyspark/worker.py\n",
      "spark-2.4.4-bin-hadoop2.7/python/pyspark/version.py\n",
      "spark-2.4.4-bin-hadoop2.7/python/pyspark/util.py\n",
      "spark-2.4.4-bin-hadoop2.7/python/pyspark/tests.py\n",
      "spark-2.4.4-bin-hadoop2.7/python/pyspark/test_serializers.py\n",
      "spark-2.4.4-bin-hadoop2.7/python/pyspark/test_broadcast.py\n",
      "spark-2.4.4-bin-hadoop2.7/python/pyspark/taskcontext.py\n",
      "spark-2.4.4-bin-hadoop2.7/python/pyspark/storagelevel.py\n",
      "spark-2.4.4-bin-hadoop2.7/python/pyspark/traceback_utils.py\n",
      "spark-2.4.4-bin-hadoop2.7/python/pyspark/streaming/\n",
      "spark-2.4.4-bin-hadoop2.7/python/pyspark/streaming/tests.py\n",
      "spark-2.4.4-bin-hadoop2.7/python/pyspark/streaming/kinesis.py\n",
      "spark-2.4.4-bin-hadoop2.7/python/pyspark/streaming/kafka.py\n",
      "spark-2.4.4-bin-hadoop2.7/python/pyspark/streaming/flume.py\n",
      "spark-2.4.4-bin-hadoop2.7/python/pyspark/streaming/dstream.py\n",
      "spark-2.4.4-bin-hadoop2.7/python/pyspark/streaming/context.py\n",
      "spark-2.4.4-bin-hadoop2.7/python/pyspark/streaming/util.py\n",
      "spark-2.4.4-bin-hadoop2.7/python/pyspark/streaming/listener.py\n",
      "spark-2.4.4-bin-hadoop2.7/python/pyspark/streaming/__init__.py\n",
      "spark-2.4.4-bin-hadoop2.7/python/pyspark/status.py\n",
      "spark-2.4.4-bin-hadoop2.7/python/pyspark/statcounter.py\n",
      "spark-2.4.4-bin-hadoop2.7/python/pyspark/sql/\n",
      "spark-2.4.4-bin-hadoop2.7/python/pyspark/sql/tests.py\n",
      "spark-2.4.4-bin-hadoop2.7/python/pyspark/sql/streaming.py\n",
      "spark-2.4.4-bin-hadoop2.7/python/pyspark/sql/session.py\n",
      "spark-2.4.4-bin-hadoop2.7/python/pyspark/sql/readwriter.py\n",
      "spark-2.4.4-bin-hadoop2.7/python/pyspark/sql/functions.py\n",
      "spark-2.4.4-bin-hadoop2.7/python/pyspark/sql/dataframe.py\n",
      "spark-2.4.4-bin-hadoop2.7/python/pyspark/sql/context.py\n",
      "spark-2.4.4-bin-hadoop2.7/python/pyspark/sql/window.py\n",
      "spark-2.4.4-bin-hadoop2.7/python/pyspark/sql/utils.py\n",
      "spark-2.4.4-bin-hadoop2.7/python/pyspark/sql/udf.py\n",
      "spark-2.4.4-bin-hadoop2.7/python/pyspark/sql/types.py\n",
      "spark-2.4.4-bin-hadoop2.7/python/pyspark/sql/group.py\n",
      "spark-2.4.4-bin-hadoop2.7/python/pyspark/sql/conf.py\n",
      "spark-2.4.4-bin-hadoop2.7/python/pyspark/sql/column.py\n",
      "spark-2.4.4-bin-hadoop2.7/python/pyspark/sql/catalog.py\n",
      "spark-2.4.4-bin-hadoop2.7/python/pyspark/sql/__init__.py\n",
      "spark-2.4.4-bin-hadoop2.7/python/pyspark/shell.py\n",
      "spark-2.4.4-bin-hadoop2.7/python/pyspark/resultiterable.py\n",
      "spark-2.4.4-bin-hadoop2.7/python/pyspark/rddsampler.py\n",
      "spark-2.4.4-bin-hadoop2.7/python/pyspark/mllib/\n",
      "spark-2.4.4-bin-hadoop2.7/python/pyspark/mllib/util.py\n",
      "spark-2.4.4-bin-hadoop2.7/python/pyspark/mllib/tree.py\n",
      "spark-2.4.4-bin-hadoop2.7/python/pyspark/mllib/tests.py\n",
      "spark-2.4.4-bin-hadoop2.7/python/pyspark/mllib/regression.py\n",
      "spark-2.4.4-bin-hadoop2.7/python/pyspark/mllib/recommendation.py\n",
      "spark-2.4.4-bin-hadoop2.7/python/pyspark/mllib/random.py\n",
      "spark-2.4.4-bin-hadoop2.7/python/pyspark/mllib/fpm.py\n",
      "spark-2.4.4-bin-hadoop2.7/python/pyspark/mllib/feature.py\n",
      "spark-2.4.4-bin-hadoop2.7/python/pyspark/mllib/evaluation.py\n",
      "spark-2.4.4-bin-hadoop2.7/python/pyspark/mllib/clustering.py\n",
      "spark-2.4.4-bin-hadoop2.7/python/pyspark/mllib/classification.py\n",
      "spark-2.4.4-bin-hadoop2.7/python/pyspark/mllib/stat/\n",
      "spark-2.4.4-bin-hadoop2.7/python/pyspark/mllib/stat/_statistics.py\n",
      "spark-2.4.4-bin-hadoop2.7/python/pyspark/mllib/stat/test.py\n",
      "spark-2.4.4-bin-hadoop2.7/python/pyspark/mllib/stat/distribution.py\n",
      "spark-2.4.4-bin-hadoop2.7/python/pyspark/mllib/stat/__init__.py\n",
      "spark-2.4.4-bin-hadoop2.7/python/pyspark/mllib/stat/KernelDensity.py\n",
      "spark-2.4.4-bin-hadoop2.7/python/pyspark/mllib/linalg/\n",
      "spark-2.4.4-bin-hadoop2.7/python/pyspark/mllib/linalg/distributed.py\n",
      "spark-2.4.4-bin-hadoop2.7/python/pyspark/mllib/linalg/__init__.py\n",
      "spark-2.4.4-bin-hadoop2.7/python/pyspark/mllib/common.py\n",
      "spark-2.4.4-bin-hadoop2.7/python/pyspark/mllib/__init__.py\n",
      "spark-2.4.4-bin-hadoop2.7/python/pyspark/ml/\n",
      "spark-2.4.4-bin-hadoop2.7/python/pyspark/ml/wrapper.py\n",
      "spark-2.4.4-bin-hadoop2.7/python/pyspark/ml/util.py\n",
      "spark-2.4.4-bin-hadoop2.7/python/pyspark/ml/tuning.py\n",
      "spark-2.4.4-bin-hadoop2.7/python/pyspark/ml/tests.py\n",
      "spark-2.4.4-bin-hadoop2.7/python/pyspark/ml/regression.py\n",
      "spark-2.4.4-bin-hadoop2.7/python/pyspark/ml/recommendation.py\n",
      "spark-2.4.4-bin-hadoop2.7/python/pyspark/ml/image.py\n",
      "spark-2.4.4-bin-hadoop2.7/python/pyspark/ml/fpm.py\n",
      "spark-2.4.4-bin-hadoop2.7/python/pyspark/ml/feature.py\n",
      "spark-2.4.4-bin-hadoop2.7/python/pyspark/ml/evaluation.py\n",
      "spark-2.4.4-bin-hadoop2.7/python/pyspark/ml/clustering.py\n",
      "spark-2.4.4-bin-hadoop2.7/python/pyspark/ml/classification.py\n",
      "spark-2.4.4-bin-hadoop2.7/python/pyspark/ml/stat.py\n",
      "spark-2.4.4-bin-hadoop2.7/python/pyspark/ml/pipeline.py\n",
      "spark-2.4.4-bin-hadoop2.7/python/pyspark/ml/param/\n",
      "spark-2.4.4-bin-hadoop2.7/python/pyspark/ml/param/shared.py\n",
      "spark-2.4.4-bin-hadoop2.7/python/pyspark/ml/param/_shared_params_code_gen.py\n",
      "spark-2.4.4-bin-hadoop2.7/python/pyspark/ml/param/__init__.py\n",
      "spark-2.4.4-bin-hadoop2.7/python/pyspark/ml/linalg/\n",
      "spark-2.4.4-bin-hadoop2.7/python/pyspark/ml/linalg/__init__.py\n",
      "spark-2.4.4-bin-hadoop2.7/python/pyspark/ml/common.py\n",
      "spark-2.4.4-bin-hadoop2.7/python/pyspark/ml/base.py\n",
      "spark-2.4.4-bin-hadoop2.7/python/pyspark/ml/__init__.py\n",
      "spark-2.4.4-bin-hadoop2.7/python/pyspark/join.py\n",
      "spark-2.4.4-bin-hadoop2.7/python/pyspark/heapq3.py\n",
      "spark-2.4.4-bin-hadoop2.7/python/pyspark/find_spark_home.py\n",
      "spark-2.4.4-bin-hadoop2.7/python/pyspark/_globals.py\n",
      "spark-2.4.4-bin-hadoop2.7/python/pylintrc\n",
      "spark-2.4.4-bin-hadoop2.7/python/lib/\n",
      "spark-2.4.4-bin-hadoop2.7/python/lib/pyspark.zip\n",
      "spark-2.4.4-bin-hadoop2.7/python/lib/py4j-0.10.7-src.zip\n",
      "spark-2.4.4-bin-hadoop2.7/python/lib/PY4J_LICENSE.txt\n",
      "spark-2.4.4-bin-hadoop2.7/python/docs/\n",
      "spark-2.4.4-bin-hadoop2.7/python/docs/pyspark.streaming.rst\n",
      "spark-2.4.4-bin-hadoop2.7/python/docs/pyspark.sql.rst\n",
      "spark-2.4.4-bin-hadoop2.7/python/docs/epytext.py\n",
      "spark-2.4.4-bin-hadoop2.7/python/docs/conf.py\n",
      "spark-2.4.4-bin-hadoop2.7/python/docs/Makefile\n",
      "spark-2.4.4-bin-hadoop2.7/python/docs/pyspark.rst\n",
      "spark-2.4.4-bin-hadoop2.7/python/docs/pyspark.mllib.rst\n",
      "spark-2.4.4-bin-hadoop2.7/python/docs/pyspark.ml.rst\n",
      "spark-2.4.4-bin-hadoop2.7/python/docs/make2.bat\n",
      "spark-2.4.4-bin-hadoop2.7/python/docs/make.bat\n",
      "spark-2.4.4-bin-hadoop2.7/python/docs/index.rst\n",
      "spark-2.4.4-bin-hadoop2.7/python/docs/_templates/\n",
      "spark-2.4.4-bin-hadoop2.7/python/docs/_templates/layout.html\n",
      "spark-2.4.4-bin-hadoop2.7/python/docs/_static/\n",
      "spark-2.4.4-bin-hadoop2.7/python/docs/_static/pyspark.js\n",
      "spark-2.4.4-bin-hadoop2.7/python/docs/_static/pyspark.css\n",
      "spark-2.4.4-bin-hadoop2.7/python/.gitignore\n",
      "spark-2.4.4-bin-hadoop2.7/python/.coveragerc\n",
      "spark-2.4.4-bin-hadoop2.7/bin/\n",
      "spark-2.4.4-bin-hadoop2.7/bin/spark-class\n",
      "spark-2.4.4-bin-hadoop2.7/bin/pyspark2.cmd\n",
      "spark-2.4.4-bin-hadoop2.7/bin/pyspark\n",
      "spark-2.4.4-bin-hadoop2.7/bin/load-spark-env.sh\n",
      "spark-2.4.4-bin-hadoop2.7/bin/load-spark-env.cmd\n",
      "spark-2.4.4-bin-hadoop2.7/bin/docker-image-tool.sh\n",
      "spark-2.4.4-bin-hadoop2.7/bin/sparkR2.cmd\n",
      "spark-2.4.4-bin-hadoop2.7/bin/sparkR.cmd\n",
      "spark-2.4.4-bin-hadoop2.7/bin/sparkR\n",
      "spark-2.4.4-bin-hadoop2.7/bin/spark-submit2.cmd\n",
      "spark-2.4.4-bin-hadoop2.7/bin/spark-submit.cmd\n",
      "spark-2.4.4-bin-hadoop2.7/bin/spark-submit\n",
      "spark-2.4.4-bin-hadoop2.7/bin/spark-sql2.cmd\n",
      "spark-2.4.4-bin-hadoop2.7/bin/spark-sql.cmd\n",
      "spark-2.4.4-bin-hadoop2.7/bin/spark-sql\n",
      "spark-2.4.4-bin-hadoop2.7/bin/spark-shell2.cmd\n",
      "spark-2.4.4-bin-hadoop2.7/bin/spark-shell.cmd\n",
      "spark-2.4.4-bin-hadoop2.7/bin/spark-shell\n",
      "spark-2.4.4-bin-hadoop2.7/bin/spark-class2.cmd\n",
      "spark-2.4.4-bin-hadoop2.7/bin/spark-class.cmd\n",
      "spark-2.4.4-bin-hadoop2.7/bin/run-example.cmd\n",
      "spark-2.4.4-bin-hadoop2.7/bin/run-example\n",
      "spark-2.4.4-bin-hadoop2.7/bin/pyspark.cmd\n",
      "spark-2.4.4-bin-hadoop2.7/bin/find-spark-home.cmd\n",
      "spark-2.4.4-bin-hadoop2.7/bin/find-spark-home\n",
      "spark-2.4.4-bin-hadoop2.7/bin/beeline.cmd\n",
      "spark-2.4.4-bin-hadoop2.7/bin/beeline\n",
      "spark-2.4.4-bin-hadoop2.7/README.md\n",
      "spark-2.4.4-bin-hadoop2.7/conf/\n",
      "spark-2.4.4-bin-hadoop2.7/conf/spark-env.sh.template\n",
      "spark-2.4.4-bin-hadoop2.7/conf/spark-defaults.conf.template\n",
      "spark-2.4.4-bin-hadoop2.7/conf/slaves.template\n",
      "spark-2.4.4-bin-hadoop2.7/conf/metrics.properties.template\n",
      "spark-2.4.4-bin-hadoop2.7/conf/log4j.properties.template\n",
      "spark-2.4.4-bin-hadoop2.7/conf/fairscheduler.xml.template\n",
      "spark-2.4.4-bin-hadoop2.7/conf/docker.properties.template\n",
      "spark-2.4.4-bin-hadoop2.7/data/\n",
      "spark-2.4.4-bin-hadoop2.7/data/mllib/\n",
      "spark-2.4.4-bin-hadoop2.7/data/mllib/gmm_data.txt\n",
      "spark-2.4.4-bin-hadoop2.7/data/mllib/als/\n",
      "spark-2.4.4-bin-hadoop2.7/data/mllib/als/test.data\n",
      "spark-2.4.4-bin-hadoop2.7/data/mllib/als/sample_movielens_ratings.txt\n",
      "spark-2.4.4-bin-hadoop2.7/data/mllib/streaming_kmeans_data_test.txt\n",
      "spark-2.4.4-bin-hadoop2.7/data/mllib/sample_svm_data.txt\n",
      "spark-2.4.4-bin-hadoop2.7/data/mllib/sample_multiclass_classification_data.txt\n",
      "spark-2.4.4-bin-hadoop2.7/data/mllib/sample_movielens_data.txt\n",
      "spark-2.4.4-bin-hadoop2.7/data/mllib/sample_linear_regression_data.txt\n",
      "spark-2.4.4-bin-hadoop2.7/data/mllib/sample_libsvm_data.txt\n",
      "spark-2.4.4-bin-hadoop2.7/data/mllib/sample_lda_libsvm_data.txt\n",
      "spark-2.4.4-bin-hadoop2.7/data/mllib/sample_lda_data.txt\n",
      "spark-2.4.4-bin-hadoop2.7/data/mllib/sample_kmeans_data.txt\n",
      "spark-2.4.4-bin-hadoop2.7/data/mllib/sample_isotonic_regression_libsvm_data.txt\n",
      "spark-2.4.4-bin-hadoop2.7/data/mllib/sample_fpgrowth.txt\n",
      "spark-2.4.4-bin-hadoop2.7/data/mllib/sample_binary_classification_data.txt\n",
      "spark-2.4.4-bin-hadoop2.7/data/mllib/ridge-data/\n",
      "spark-2.4.4-bin-hadoop2.7/data/mllib/ridge-data/lpsa.data\n",
      "spark-2.4.4-bin-hadoop2.7/data/mllib/pic_data.txt\n",
      "spark-2.4.4-bin-hadoop2.7/data/mllib/pagerank_data.txt\n",
      "spark-2.4.4-bin-hadoop2.7/data/mllib/kmeans_data.txt\n",
      "spark-2.4.4-bin-hadoop2.7/data/mllib/iris_libsvm.txt\n",
      "spark-2.4.4-bin-hadoop2.7/data/mllib/images/\n",
      "spark-2.4.4-bin-hadoop2.7/data/mllib/images/partitioned/\n",
      "spark-2.4.4-bin-hadoop2.7/data/mllib/images/partitioned/cls=multichannel/\n",
      "spark-2.4.4-bin-hadoop2.7/data/mllib/images/partitioned/cls=multichannel/date=2018-02/\n",
      "spark-2.4.4-bin-hadoop2.7/data/mllib/images/partitioned/cls=multichannel/date=2018-02/grayscale.jpg\n",
      "spark-2.4.4-bin-hadoop2.7/data/mllib/images/partitioned/cls=multichannel/date=2018-02/chr30.4.184.jpg\n",
      "spark-2.4.4-bin-hadoop2.7/data/mllib/images/partitioned/cls=multichannel/date=2018-01/\n",
      "spark-2.4.4-bin-hadoop2.7/data/mllib/images/partitioned/cls=multichannel/date=2018-01/BGRA_alpha_60.png\n",
      "spark-2.4.4-bin-hadoop2.7/data/mllib/images/partitioned/cls=multichannel/date=2018-01/BGRA.png\n",
      "spark-2.4.4-bin-hadoop2.7/data/mllib/images/partitioned/cls=kittens/\n",
      "spark-2.4.4-bin-hadoop2.7/data/mllib/images/partitioned/cls=kittens/date=2018-02/\n",
      "spark-2.4.4-bin-hadoop2.7/data/mllib/images/partitioned/cls=kittens/date=2018-02/DP802813.jpg\n",
      "spark-2.4.4-bin-hadoop2.7/data/mllib/images/partitioned/cls=kittens/date=2018-02/DP153539.jpg\n",
      "spark-2.4.4-bin-hadoop2.7/data/mllib/images/partitioned/cls=kittens/date=2018-02/54893.jpg\n",
      "spark-2.4.4-bin-hadoop2.7/data/mllib/images/partitioned/cls=kittens/date=2018-01/\n",
      "spark-2.4.4-bin-hadoop2.7/data/mllib/images/partitioned/cls=kittens/date=2018-01/not-image.txt\n",
      "spark-2.4.4-bin-hadoop2.7/data/mllib/images/partitioned/cls=kittens/date=2018-01/29.5.a_b_EGDP022204.jpg\n",
      "spark-2.4.4-bin-hadoop2.7/data/mllib/images/origin/\n",
      "spark-2.4.4-bin-hadoop2.7/data/mllib/images/origin/multi-channel/\n",
      "spark-2.4.4-bin-hadoop2.7/data/mllib/images/origin/multi-channel/grayscale.jpg\n",
      "spark-2.4.4-bin-hadoop2.7/data/mllib/images/origin/multi-channel/chr30.4.184.jpg\n",
      "spark-2.4.4-bin-hadoop2.7/data/mllib/images/origin/multi-channel/BGRA_alpha_60.png\n",
      "spark-2.4.4-bin-hadoop2.7/data/mllib/images/origin/multi-channel/BGRA.png\n",
      "spark-2.4.4-bin-hadoop2.7/data/mllib/images/origin/license.txt\n",
      "spark-2.4.4-bin-hadoop2.7/data/mllib/images/origin/kittens/\n",
      "spark-2.4.4-bin-hadoop2.7/data/mllib/images/origin/kittens/not-image.txt\n",
      "spark-2.4.4-bin-hadoop2.7/data/mllib/images/origin/kittens/DP802813.jpg\n",
      "spark-2.4.4-bin-hadoop2.7/data/mllib/images/origin/kittens/DP153539.jpg\n",
      "spark-2.4.4-bin-hadoop2.7/data/mllib/images/origin/kittens/54893.jpg\n",
      "spark-2.4.4-bin-hadoop2.7/data/mllib/images/origin/kittens/29.5.a_b_EGDP022204.jpg\n",
      "spark-2.4.4-bin-hadoop2.7/data/mllib/images/license.txt\n",
      "spark-2.4.4-bin-hadoop2.7/data/graphx/\n",
      "spark-2.4.4-bin-hadoop2.7/data/graphx/users.txt\n",
      "spark-2.4.4-bin-hadoop2.7/data/graphx/followers.txt\n",
      "spark-2.4.4-bin-hadoop2.7/data/streaming/\n",
      "spark-2.4.4-bin-hadoop2.7/data/streaming/AFINN-111.txt\n",
      "spark-2.4.4-bin-hadoop2.7/NOTICE\n",
      "spark-2.4.4-bin-hadoop2.7/licenses/\n",
      "spark-2.4.4-bin-hadoop2.7/licenses/LICENSE-jtransforms.html\n",
      "spark-2.4.4-bin-hadoop2.7/licenses/LICENSE-json-formatter.txt\n",
      "spark-2.4.4-bin-hadoop2.7/licenses/LICENSE-jquery.txt\n",
      "spark-2.4.4-bin-hadoop2.7/licenses/LICENSE-join.txt\n",
      "spark-2.4.4-bin-hadoop2.7/licenses/LICENSE-jodd.txt\n",
      "spark-2.4.4-bin-hadoop2.7/licenses/LICENSE-jline.txt\n",
      "spark-2.4.4-bin-hadoop2.7/licenses/LICENSE-javolution.txt\n",
      "spark-2.4.4-bin-hadoop2.7/licenses/LICENSE-javassist.html\n",
      "spark-2.4.4-bin-hadoop2.7/licenses/LICENSE-janino.txt\n",
      "spark-2.4.4-bin-hadoop2.7/licenses/LICENSE-heapq.txt\n",
      "spark-2.4.4-bin-hadoop2.7/licenses/LICENSE-graphlib-dot.txt\n",
      "spark-2.4.4-bin-hadoop2.7/licenses/LICENSE-f2j.txt\n",
      "spark-2.4.4-bin-hadoop2.7/licenses/LICENSE-datatables.txt\n",
      "spark-2.4.4-bin-hadoop2.7/licenses/LICENSE-dagre-d3.txt\n",
      "spark-2.4.4-bin-hadoop2.7/licenses/LICENSE-d3.min.js.txt\n",
      "spark-2.4.4-bin-hadoop2.7/licenses/LICENSE-cloudpickle.txt\n",
      "spark-2.4.4-bin-hadoop2.7/licenses/LICENSE-bootstrap.txt\n",
      "spark-2.4.4-bin-hadoop2.7/licenses/LICENSE-automaton.txt\n",
      "spark-2.4.4-bin-hadoop2.7/licenses/LICENSE-arpack.txt\n",
      "spark-2.4.4-bin-hadoop2.7/licenses/LICENSE-antlr.txt\n",
      "spark-2.4.4-bin-hadoop2.7/licenses/LICENSE-CC0.txt\n",
      "spark-2.4.4-bin-hadoop2.7/licenses/LICENSE-AnchorJS.txt\n",
      "spark-2.4.4-bin-hadoop2.7/licenses/LICENSE-zstd.txt\n",
      "spark-2.4.4-bin-hadoop2.7/licenses/LICENSE-zstd-jni.txt\n",
      "spark-2.4.4-bin-hadoop2.7/licenses/LICENSE-xmlenc.txt\n",
      "spark-2.4.4-bin-hadoop2.7/licenses/LICENSE-vis.txt\n",
      "spark-2.4.4-bin-hadoop2.7/licenses/LICENSE-spire.txt\n",
      "spark-2.4.4-bin-hadoop2.7/licenses/LICENSE-sorttable.js.txt\n",
      "spark-2.4.4-bin-hadoop2.7/licenses/LICENSE-slf4j.txt\n",
      "spark-2.4.4-bin-hadoop2.7/licenses/LICENSE-scopt.txt\n",
      "spark-2.4.4-bin-hadoop2.7/licenses/LICENSE-scala.txt\n",
      "spark-2.4.4-bin-hadoop2.7/licenses/LICENSE-sbt-launch-lib.txt\n",
      "spark-2.4.4-bin-hadoop2.7/licenses/LICENSE-respond.txt\n",
      "spark-2.4.4-bin-hadoop2.7/licenses/LICENSE-reflectasm.txt\n",
      "spark-2.4.4-bin-hadoop2.7/licenses/LICENSE-pyrolite.txt\n",
      "spark-2.4.4-bin-hadoop2.7/licenses/LICENSE-py4j.txt\n",
      "spark-2.4.4-bin-hadoop2.7/licenses/LICENSE-protobuf.txt\n",
      "spark-2.4.4-bin-hadoop2.7/licenses/LICENSE-pmml-model.txt\n",
      "spark-2.4.4-bin-hadoop2.7/licenses/LICENSE-paranamer.txt\n",
      "spark-2.4.4-bin-hadoop2.7/licenses/LICENSE-netlib.txt\n",
      "spark-2.4.4-bin-hadoop2.7/licenses/LICENSE-mustache.txt\n",
      "spark-2.4.4-bin-hadoop2.7/licenses/LICENSE-modernizr.txt\n",
      "spark-2.4.4-bin-hadoop2.7/licenses/LICENSE-minlog.txt\n",
      "spark-2.4.4-bin-hadoop2.7/licenses/LICENSE-matchMedia-polyfill.txt\n",
      "spark-2.4.4-bin-hadoop2.7/licenses/LICENSE-machinist.txt\n",
      "spark-2.4.4-bin-hadoop2.7/licenses/LICENSE-leveldbjni.txt\n",
      "spark-2.4.4-bin-hadoop2.7/licenses/LICENSE-kryo.txt\n",
      "spark-2.4.4-bin-hadoop2.7/LICENSE\n",
      "spark-2.4.4-bin-hadoop2.7/examples/\n",
      "spark-2.4.4-bin-hadoop2.7/examples/src/\n",
      "spark-2.4.4-bin-hadoop2.7/examples/src/main/\n",
      "spark-2.4.4-bin-hadoop2.7/examples/src/main/scala/\n",
      "spark-2.4.4-bin-hadoop2.7/examples/src/main/scala/org/\n",
      "spark-2.4.4-bin-hadoop2.7/examples/src/main/scala/org/apache/\n",
      "spark-2.4.4-bin-hadoop2.7/examples/src/main/scala/org/apache/spark/\n",
      "spark-2.4.4-bin-hadoop2.7/examples/src/main/scala/org/apache/spark/examples/\n",
      "spark-2.4.4-bin-hadoop2.7/examples/src/main/scala/org/apache/spark/examples/mllib/\n",
      "spark-2.4.4-bin-hadoop2.7/examples/src/main/scala/org/apache/spark/examples/mllib/ElementwiseProductExample.scala\n",
      "spark-2.4.4-bin-hadoop2.7/examples/src/main/scala/org/apache/spark/examples/mllib/DenseKMeans.scala\n",
      "spark-2.4.4-bin-hadoop2.7/examples/src/main/scala/org/apache/spark/examples/mllib/DecisionTreeRegressionExample.scala\n",
      "spark-2.4.4-bin-hadoop2.7/examples/src/main/scala/org/apache/spark/examples/mllib/DecisionTreeClassificationExample.scala\n",
      "spark-2.4.4-bin-hadoop2.7/examples/src/main/scala/org/apache/spark/examples/mllib/CosineSimilarity.scala\n",
      "spark-2.4.4-bin-hadoop2.7/examples/src/main/scala/org/apache/spark/examples/mllib/CorrelationsExample.scala\n",
      "spark-2.4.4-bin-hadoop2.7/examples/src/main/scala/org/apache/spark/examples/mllib/Correlations.scala\n",
      "spark-2.4.4-bin-hadoop2.7/examples/src/main/scala/org/apache/spark/examples/mllib/ChiSqSelectorExample.scala\n",
      "spark-2.4.4-bin-hadoop2.7/examples/src/main/scala/org/apache/spark/examples/mllib/BisectingKMeansExample.scala\n",
      "spark-2.4.4-bin-hadoop2.7/examples/src/main/scala/org/apache/spark/examples/mllib/BinaryClassificationMetricsExample.scala\n",
      "spark-2.4.4-bin-hadoop2.7/examples/src/main/scala/org/apache/spark/examples/mllib/AssociationRulesExample.scala\n",
      "spark-2.4.4-bin-hadoop2.7/examples/src/main/scala/org/apache/spark/examples/mllib/AbstractParams.scala\n",
      "spark-2.4.4-bin-hadoop2.7/examples/src/main/scala/org/apache/spark/examples/mllib/Word2VecExample.scala\n",
      "spark-2.4.4-bin-hadoop2.7/examples/src/main/scala/org/apache/spark/examples/mllib/TallSkinnySVD.scala\n",
      "spark-2.4.4-bin-hadoop2.7/examples/src/main/scala/org/apache/spark/examples/mllib/TallSkinnyPCA.scala\n",
      "spark-2.4.4-bin-hadoop2.7/examples/src/main/scala/org/apache/spark/examples/mllib/TFIDFExample.scala\n",
      "spark-2.4.4-bin-hadoop2.7/examples/src/main/scala/org/apache/spark/examples/mllib/SummaryStatisticsExample.scala\n",
      "spark-2.4.4-bin-hadoop2.7/examples/src/main/scala/org/apache/spark/examples/mllib/StreamingTestExample.scala\n",
      "spark-2.4.4-bin-hadoop2.7/examples/src/main/scala/org/apache/spark/examples/mllib/StreamingLogisticRegression.scala\n",
      "spark-2.4.4-bin-hadoop2.7/examples/src/main/scala/org/apache/spark/examples/mllib/StreamingLinearRegressionExample.scala\n",
      "spark-2.4.4-bin-hadoop2.7/examples/src/main/scala/org/apache/spark/examples/mllib/StreamingKMeansExample.scala\n",
      "spark-2.4.4-bin-hadoop2.7/examples/src/main/scala/org/apache/spark/examples/mllib/StratifiedSamplingExample.scala\n",
      "spark-2.4.4-bin-hadoop2.7/examples/src/main/scala/org/apache/spark/examples/mllib/StandardScalerExample.scala\n",
      "spark-2.4.4-bin-hadoop2.7/examples/src/main/scala/org/apache/spark/examples/mllib/SparseNaiveBayes.scala\n",
      "spark-2.4.4-bin-hadoop2.7/examples/src/main/scala/org/apache/spark/examples/mllib/SimpleFPGrowth.scala\n",
      "spark-2.4.4-bin-hadoop2.7/examples/src/main/scala/org/apache/spark/examples/mllib/SampledRDDs.scala\n",
      "spark-2.4.4-bin-hadoop2.7/examples/src/main/scala/org/apache/spark/examples/mllib/SVMWithSGDExample.scala\n",
      "spark-2.4.4-bin-hadoop2.7/examples/src/main/scala/org/apache/spark/examples/mllib/SVDExample.scala\n",
      "spark-2.4.4-bin-hadoop2.7/examples/src/main/scala/org/apache/spark/examples/mllib/RegressionMetricsExample.scala\n",
      "spark-2.4.4-bin-hadoop2.7/examples/src/main/scala/org/apache/spark/examples/mllib/RecommendationExample.scala\n",
      "spark-2.4.4-bin-hadoop2.7/examples/src/main/scala/org/apache/spark/examples/mllib/RandomRDDGeneration.scala\n",
      "spark-2.4.4-bin-hadoop2.7/examples/src/main/scala/org/apache/spark/examples/mllib/RandomForestRegressionExample.scala\n",
      "spark-2.4.4-bin-hadoop2.7/examples/src/main/scala/org/apache/spark/examples/mllib/RandomForestClassificationExample.scala\n",
      "spark-2.4.4-bin-hadoop2.7/examples/src/main/scala/org/apache/spark/examples/mllib/PrefixSpanExample.scala\n",
      "spark-2.4.4-bin-hadoop2.7/examples/src/main/scala/org/apache/spark/examples/mllib/PowerIterationClusteringExample.scala\n",
      "spark-2.4.4-bin-hadoop2.7/examples/src/main/scala/org/apache/spark/examples/mllib/PMMLModelExportExample.scala\n",
      "spark-2.4.4-bin-hadoop2.7/examples/src/main/scala/org/apache/spark/examples/mllib/PCAOnSourceVectorExample.scala\n",
      "spark-2.4.4-bin-hadoop2.7/examples/src/main/scala/org/apache/spark/examples/mllib/PCAOnRowMatrixExample.scala\n",
      "spark-2.4.4-bin-hadoop2.7/examples/src/main/scala/org/apache/spark/examples/mllib/PCAExample.scala\n",
      "spark-2.4.4-bin-hadoop2.7/examples/src/main/scala/org/apache/spark/examples/mllib/NormalizerExample.scala\n",
      "spark-2.4.4-bin-hadoop2.7/examples/src/main/scala/org/apache/spark/examples/mllib/NaiveBayesExample.scala\n",
      "spark-2.4.4-bin-hadoop2.7/examples/src/main/scala/org/apache/spark/examples/mllib/MultivariateSummarizer.scala\n",
      "spark-2.4.4-bin-hadoop2.7/examples/src/main/scala/org/apache/spark/examples/mllib/MulticlassMetricsExample.scala\n",
      "spark-2.4.4-bin-hadoop2.7/examples/src/main/scala/org/apache/spark/examples/mllib/MultiLabelMetricsExample.scala\n",
      "spark-2.4.4-bin-hadoop2.7/examples/src/main/scala/org/apache/spark/examples/mllib/LogisticRegressionWithLBFGSExample.scala\n",
      "spark-2.4.4-bin-hadoop2.7/examples/src/main/scala/org/apache/spark/examples/mllib/LinearRegressionWithSGDExample.scala\n",
      "spark-2.4.4-bin-hadoop2.7/examples/src/main/scala/org/apache/spark/examples/mllib/LatentDirichletAllocationExample.scala\n",
      "spark-2.4.4-bin-hadoop2.7/examples/src/main/scala/org/apache/spark/examples/mllib/LDAExample.scala\n",
      "spark-2.4.4-bin-hadoop2.7/examples/src/main/scala/org/apache/spark/examples/mllib/LBFGSExample.scala\n",
      "spark-2.4.4-bin-hadoop2.7/examples/src/main/scala/org/apache/spark/examples/mllib/KernelDensityEstimationExample.scala\n",
      "spark-2.4.4-bin-hadoop2.7/examples/src/main/scala/org/apache/spark/examples/mllib/KMeansExample.scala\n",
      "spark-2.4.4-bin-hadoop2.7/examples/src/main/scala/org/apache/spark/examples/mllib/IsotonicRegressionExample.scala\n",
      "spark-2.4.4-bin-hadoop2.7/examples/src/main/scala/org/apache/spark/examples/mllib/HypothesisTestingKolmogorovSmirnovTestExample.scala\n",
      "spark-2.4.4-bin-hadoop2.7/examples/src/main/scala/org/apache/spark/examples/mllib/HypothesisTestingExample.scala\n",
      "spark-2.4.4-bin-hadoop2.7/examples/src/main/scala/org/apache/spark/examples/mllib/GradientBoostingRegressionExample.scala\n",
      "spark-2.4.4-bin-hadoop2.7/examples/src/main/scala/org/apache/spark/examples/mllib/GradientBoostingClassificationExample.scala\n",
      "spark-2.4.4-bin-hadoop2.7/examples/src/main/scala/org/apache/spark/examples/mllib/GaussianMixtureExample.scala\n",
      "spark-2.4.4-bin-hadoop2.7/examples/src/main/scala/org/apache/spark/examples/mllib/FPGrowthExample.scala\n",
      "spark-2.4.4-bin-hadoop2.7/examples/src/main/scala/org/apache/spark/examples/mllib/RankingMetricsExample.scala\n",
      "spark-2.4.4-bin-hadoop2.7/examples/src/main/scala/org/apache/spark/examples/mllib/MovieLensALS.scala\n",
      "spark-2.4.4-bin-hadoop2.7/examples/src/main/scala/org/apache/spark/examples/mllib/LinearRegression.scala\n",
      "spark-2.4.4-bin-hadoop2.7/examples/src/main/scala/org/apache/spark/examples/mllib/GradientBoostedTreesRunner.scala\n",
      "spark-2.4.4-bin-hadoop2.7/examples/src/main/scala/org/apache/spark/examples/mllib/DecisionTreeRunner.scala\n",
      "spark-2.4.4-bin-hadoop2.7/examples/src/main/scala/org/apache/spark/examples/mllib/BinaryClassification.scala\n",
      "spark-2.4.4-bin-hadoop2.7/examples/src/main/scala/org/apache/spark/examples/ml/\n",
      "spark-2.4.4-bin-hadoop2.7/examples/src/main/scala/org/apache/spark/examples/ml/Word2VecExample.scala\n",
      "spark-2.4.4-bin-hadoop2.7/examples/src/main/scala/org/apache/spark/examples/ml/VectorSlicerExample.scala\n",
      "spark-2.4.4-bin-hadoop2.7/examples/src/main/scala/org/apache/spark/examples/ml/VectorSizeHintExample.scala\n",
      "spark-2.4.4-bin-hadoop2.7/examples/src/main/scala/org/apache/spark/examples/ml/VectorIndexerExample.scala\n",
      "spark-2.4.4-bin-hadoop2.7/examples/src/main/scala/org/apache/spark/examples/ml/VectorAssemblerExample.scala\n",
      "spark-2.4.4-bin-hadoop2.7/examples/src/main/scala/org/apache/spark/examples/ml/UnaryTransformerExample.scala\n",
      "spark-2.4.4-bin-hadoop2.7/examples/src/main/scala/org/apache/spark/examples/ml/TokenizerExample.scala\n",
      "spark-2.4.4-bin-hadoop2.7/examples/src/main/scala/org/apache/spark/examples/ml/TfIdfExample.scala\n",
      "spark-2.4.4-bin-hadoop2.7/examples/src/main/scala/org/apache/spark/examples/ml/SummarizerExample.scala\n",
      "spark-2.4.4-bin-hadoop2.7/examples/src/main/scala/org/apache/spark/examples/ml/StringIndexerExample.scala\n",
      "spark-2.4.4-bin-hadoop2.7/examples/src/main/scala/org/apache/spark/examples/ml/StopWordsRemoverExample.scala\n",
      "spark-2.4.4-bin-hadoop2.7/examples/src/main/scala/org/apache/spark/examples/ml/StandardScalerExample.scala\n",
      "spark-2.4.4-bin-hadoop2.7/examples/src/main/scala/org/apache/spark/examples/ml/SQLTransformerExample.scala\n",
      "spark-2.4.4-bin-hadoop2.7/examples/src/main/scala/org/apache/spark/examples/ml/RandomForestRegressorExample.scala\n",
      "spark-2.4.4-bin-hadoop2.7/examples/src/main/scala/org/apache/spark/examples/ml/RandomForestExample.scala\n",
      "spark-2.4.4-bin-hadoop2.7/examples/src/main/scala/org/apache/spark/examples/ml/RFormulaExample.scala\n",
      "spark-2.4.4-bin-hadoop2.7/examples/src/main/scala/org/apache/spark/examples/ml/QuantileDiscretizerExample.scala\n",
      "spark-2.4.4-bin-hadoop2.7/examples/src/main/scala/org/apache/spark/examples/ml/PowerIterationClusteringExample.scala\n",
      "spark-2.4.4-bin-hadoop2.7/examples/src/main/scala/org/apache/spark/examples/ml/PolynomialExpansionExample.scala\n",
      "spark-2.4.4-bin-hadoop2.7/examples/src/main/scala/org/apache/spark/examples/ml/PipelineExample.scala\n",
      "spark-2.4.4-bin-hadoop2.7/examples/src/main/scala/org/apache/spark/examples/ml/PCAExample.scala\n",
      "spark-2.4.4-bin-hadoop2.7/examples/src/main/scala/org/apache/spark/examples/ml/OneVsRestExample.scala\n",
      "spark-2.4.4-bin-hadoop2.7/examples/src/main/scala/org/apache/spark/examples/ml/NormalizerExample.scala\n",
      "spark-2.4.4-bin-hadoop2.7/examples/src/main/scala/org/apache/spark/examples/ml/NaiveBayesExample.scala\n",
      "spark-2.4.4-bin-hadoop2.7/examples/src/main/scala/org/apache/spark/examples/ml/NGramExample.scala\n",
      "spark-2.4.4-bin-hadoop2.7/examples/src/main/scala/org/apache/spark/examples/ml/MultilayerPerceptronClassifierExample.scala\n",
      "spark-2.4.4-bin-hadoop2.7/examples/src/main/scala/org/apache/spark/examples/ml/MulticlassLogisticRegressionWithElasticNetExample.scala\n",
      "spark-2.4.4-bin-hadoop2.7/examples/src/main/scala/org/apache/spark/examples/ml/ModelSelectionViaTrainValidationSplitExample.scala\n",
      "spark-2.4.4-bin-hadoop2.7/examples/src/main/scala/org/apache/spark/examples/ml/ModelSelectionViaCrossValidationExample.scala\n",
      "spark-2.4.4-bin-hadoop2.7/examples/src/main/scala/org/apache/spark/examples/ml/MinMaxScalerExample.scala\n",
      "spark-2.4.4-bin-hadoop2.7/examples/src/main/scala/org/apache/spark/examples/ml/MinHashLSHExample.scala\n",
      "spark-2.4.4-bin-hadoop2.7/examples/src/main/scala/org/apache/spark/examples/ml/MaxAbsScalerExample.scala\n",
      "spark-2.4.4-bin-hadoop2.7/examples/src/main/scala/org/apache/spark/examples/ml/LogisticRegressionWithElasticNetExample.scala\n",
      "spark-2.4.4-bin-hadoop2.7/examples/src/main/scala/org/apache/spark/examples/ml/LogisticRegressionSummaryExample.scala\n",
      "spark-2.4.4-bin-hadoop2.7/examples/src/main/scala/org/apache/spark/examples/ml/LogisticRegressionExample.scala\n",
      "spark-2.4.4-bin-hadoop2.7/examples/src/main/scala/org/apache/spark/examples/ml/LinearSVCExample.scala\n",
      "spark-2.4.4-bin-hadoop2.7/examples/src/main/scala/org/apache/spark/examples/ml/LinearRegressionWithElasticNetExample.scala\n",
      "spark-2.4.4-bin-hadoop2.7/examples/src/main/scala/org/apache/spark/examples/ml/LinearRegressionExample.scala\n",
      "spark-2.4.4-bin-hadoop2.7/examples/src/main/scala/org/apache/spark/examples/ml/LDAExample.scala\n",
      "spark-2.4.4-bin-hadoop2.7/examples/src/main/scala/org/apache/spark/examples/ml/KMeansExample.scala\n",
      "spark-2.4.4-bin-hadoop2.7/examples/src/main/scala/org/apache/spark/examples/ml/IsotonicRegressionExample.scala\n",
      "spark-2.4.4-bin-hadoop2.7/examples/src/main/scala/org/apache/spark/examples/ml/InteractionExample.scala\n",
      "spark-2.4.4-bin-hadoop2.7/examples/src/main/scala/org/apache/spark/examples/ml/IndexToStringExample.scala\n",
      "spark-2.4.4-bin-hadoop2.7/examples/src/main/scala/org/apache/spark/examples/ml/ImputerExample.scala\n",
      "spark-2.4.4-bin-hadoop2.7/examples/src/main/scala/org/apache/spark/examples/ml/GradientBoostedTreeRegressorExample.scala\n",
      "spark-2.4.4-bin-hadoop2.7/examples/src/main/scala/org/apache/spark/examples/ml/GeneralizedLinearRegressionExample.scala\n",
      "spark-2.4.4-bin-hadoop2.7/examples/src/main/scala/org/apache/spark/examples/ml/GaussianMixtureExample.scala\n",
      "spark-2.4.4-bin-hadoop2.7/examples/src/main/scala/org/apache/spark/examples/ml/GBTExample.scala\n",
      "spark-2.4.4-bin-hadoop2.7/examples/src/main/scala/org/apache/spark/examples/ml/FeatureHasherExample.scala\n",
      "spark-2.4.4-bin-hadoop2.7/examples/src/main/scala/org/apache/spark/examples/ml/EstimatorTransformerParamExample.scala\n",
      "spark-2.4.4-bin-hadoop2.7/examples/src/main/scala/org/apache/spark/examples/ml/ElementwiseProductExample.scala\n",
      "spark-2.4.4-bin-hadoop2.7/examples/src/main/scala/org/apache/spark/examples/ml/DeveloperApiExample.scala\n",
      "spark-2.4.4-bin-hadoop2.7/examples/src/main/scala/org/apache/spark/examples/ml/DecisionTreeRegressionExample.scala\n",
      "spark-2.4.4-bin-hadoop2.7/examples/src/main/scala/org/apache/spark/examples/ml/DecisionTreeExample.scala\n",
      "spark-2.4.4-bin-hadoop2.7/examples/src/main/scala/org/apache/spark/examples/ml/DataFrameExample.scala\n",
      "spark-2.4.4-bin-hadoop2.7/examples/src/main/scala/org/apache/spark/examples/ml/DCTExample.scala\n",
      "spark-2.4.4-bin-hadoop2.7/examples/src/main/scala/org/apache/spark/examples/ml/CountVectorizerExample.scala\n",
      "spark-2.4.4-bin-hadoop2.7/examples/src/main/scala/org/apache/spark/examples/ml/CorrelationExample.scala\n",
      "spark-2.4.4-bin-hadoop2.7/examples/src/main/scala/org/apache/spark/examples/ml/ChiSquareTestExample.scala\n",
      "spark-2.4.4-bin-hadoop2.7/examples/src/main/scala/org/apache/spark/examples/ml/ChiSqSelectorExample.scala\n",
      "spark-2.4.4-bin-hadoop2.7/examples/src/main/scala/org/apache/spark/examples/ml/BucketizerExample.scala\n",
      "spark-2.4.4-bin-hadoop2.7/examples/src/main/scala/org/apache/spark/examples/ml/BucketedRandomProjectionLSHExample.scala\n",
      "spark-2.4.4-bin-hadoop2.7/examples/src/main/scala/org/apache/spark/examples/ml/BinarizerExample.scala\n",
      "spark-2.4.4-bin-hadoop2.7/examples/src/main/scala/org/apache/spark/examples/ml/ALSExample.scala\n",
      "spark-2.4.4-bin-hadoop2.7/examples/src/main/scala/org/apache/spark/examples/ml/AFTSurvivalRegressionExample.scala\n",
      "spark-2.4.4-bin-hadoop2.7/examples/src/main/scala/org/apache/spark/examples/ml/RandomForestClassifierExample.scala\n",
      "spark-2.4.4-bin-hadoop2.7/examples/src/main/scala/org/apache/spark/examples/ml/PrefixSpanExample.scala\n",
      "spark-2.4.4-bin-hadoop2.7/examples/src/main/scala/org/apache/spark/examples/ml/OneHotEncoderEstimatorExample.scala\n",
      "spark-2.4.4-bin-hadoop2.7/examples/src/main/scala/org/apache/spark/examples/ml/GradientBoostedTreeClassifierExample.scala\n",
      "spark-2.4.4-bin-hadoop2.7/examples/src/main/scala/org/apache/spark/examples/ml/FPGrowthExample.scala\n",
      "spark-2.4.4-bin-hadoop2.7/examples/src/main/scala/org/apache/spark/examples/ml/DecisionTreeClassificationExample.scala\n",
      "spark-2.4.4-bin-hadoop2.7/examples/src/main/scala/org/apache/spark/examples/ml/BisectingKMeansExample.scala\n",
      "spark-2.4.4-bin-hadoop2.7/examples/src/main/scala/org/apache/spark/examples/graphx/\n",
      "spark-2.4.4-bin-hadoop2.7/examples/src/main/scala/org/apache/spark/examples/graphx/TriangleCountingExample.scala\n",
      "spark-2.4.4-bin-hadoop2.7/examples/src/main/scala/org/apache/spark/examples/graphx/SynthBenchmark.scala\n",
      "spark-2.4.4-bin-hadoop2.7/examples/src/main/scala/org/apache/spark/examples/graphx/SSSPExample.scala\n",
      "spark-2.4.4-bin-hadoop2.7/examples/src/main/scala/org/apache/spark/examples/graphx/PageRankExample.scala\n",
      "spark-2.4.4-bin-hadoop2.7/examples/src/main/scala/org/apache/spark/examples/graphx/LiveJournalPageRank.scala\n",
      "spark-2.4.4-bin-hadoop2.7/examples/src/main/scala/org/apache/spark/examples/graphx/ConnectedComponentsExample.scala\n",
      "spark-2.4.4-bin-hadoop2.7/examples/src/main/scala/org/apache/spark/examples/graphx/ComprehensiveExample.scala\n",
      "spark-2.4.4-bin-hadoop2.7/examples/src/main/scala/org/apache/spark/examples/graphx/Analytics.scala\n",
      "spark-2.4.4-bin-hadoop2.7/examples/src/main/scala/org/apache/spark/examples/graphx/AggregateMessagesExample.scala\n",
      "spark-2.4.4-bin-hadoop2.7/examples/src/main/scala/org/apache/spark/examples/SparkTC.scala\n",
      "spark-2.4.4-bin-hadoop2.7/examples/src/main/scala/org/apache/spark/examples/SparkRemoteFileTest.scala\n",
      "spark-2.4.4-bin-hadoop2.7/examples/src/main/scala/org/apache/spark/examples/SparkPi.scala\n",
      "spark-2.4.4-bin-hadoop2.7/examples/src/main/scala/org/apache/spark/examples/SparkPageRank.scala\n",
      "spark-2.4.4-bin-hadoop2.7/examples/src/main/scala/org/apache/spark/examples/SparkLR.scala\n",
      "spark-2.4.4-bin-hadoop2.7/examples/src/main/scala/org/apache/spark/examples/SparkKMeans.scala\n",
      "spark-2.4.4-bin-hadoop2.7/examples/src/main/scala/org/apache/spark/examples/SparkHdfsLR.scala\n",
      "spark-2.4.4-bin-hadoop2.7/examples/src/main/scala/org/apache/spark/examples/SparkALS.scala\n",
      "spark-2.4.4-bin-hadoop2.7/examples/src/main/scala/org/apache/spark/examples/SkewedGroupByTest.scala\n",
      "spark-2.4.4-bin-hadoop2.7/examples/src/main/scala/org/apache/spark/examples/SimpleSkewedGroupByTest.scala\n",
      "spark-2.4.4-bin-hadoop2.7/examples/src/main/scala/org/apache/spark/examples/MultiBroadcastTest.scala\n",
      "spark-2.4.4-bin-hadoop2.7/examples/src/main/scala/org/apache/spark/examples/LocalPi.scala\n",
      "spark-2.4.4-bin-hadoop2.7/examples/src/main/scala/org/apache/spark/examples/LocalLR.scala\n",
      "spark-2.4.4-bin-hadoop2.7/examples/src/main/scala/org/apache/spark/examples/LocalKMeans.scala\n",
      "spark-2.4.4-bin-hadoop2.7/examples/src/main/scala/org/apache/spark/examples/LocalFileLR.scala\n",
      "spark-2.4.4-bin-hadoop2.7/examples/src/main/scala/org/apache/spark/examples/LocalALS.scala\n",
      "spark-2.4.4-bin-hadoop2.7/examples/src/main/scala/org/apache/spark/examples/GroupByTest.scala\n",
      "spark-2.4.4-bin-hadoop2.7/examples/src/main/scala/org/apache/spark/examples/ExceptionHandlingTest.scala\n",
      "spark-2.4.4-bin-hadoop2.7/examples/src/main/scala/org/apache/spark/examples/DriverSubmissionTest.scala\n",
      "spark-2.4.4-bin-hadoop2.7/examples/src/main/scala/org/apache/spark/examples/BroadcastTest.scala\n",
      "spark-2.4.4-bin-hadoop2.7/examples/src/main/scala/org/apache/spark/examples/streaming/\n",
      "spark-2.4.4-bin-hadoop2.7/examples/src/main/scala/org/apache/spark/examples/streaming/clickstream/\n",
      "spark-2.4.4-bin-hadoop2.7/examples/src/main/scala/org/apache/spark/examples/streaming/clickstream/PageViewStream.scala\n",
      "spark-2.4.4-bin-hadoop2.7/examples/src/main/scala/org/apache/spark/examples/streaming/clickstream/PageViewGenerator.scala\n",
      "spark-2.4.4-bin-hadoop2.7/examples/src/main/scala/org/apache/spark/examples/streaming/StreamingExamples.scala\n",
      "spark-2.4.4-bin-hadoop2.7/examples/src/main/scala/org/apache/spark/examples/streaming/StatefulNetworkWordCount.scala\n",
      "spark-2.4.4-bin-hadoop2.7/examples/src/main/scala/org/apache/spark/examples/streaming/SqlNetworkWordCount.scala\n",
      "spark-2.4.4-bin-hadoop2.7/examples/src/main/scala/org/apache/spark/examples/streaming/RecoverableNetworkWordCount.scala\n",
      "spark-2.4.4-bin-hadoop2.7/examples/src/main/scala/org/apache/spark/examples/streaming/RawNetworkGrep.scala\n",
      "spark-2.4.4-bin-hadoop2.7/examples/src/main/scala/org/apache/spark/examples/streaming/QueueStream.scala\n",
      "spark-2.4.4-bin-hadoop2.7/examples/src/main/scala/org/apache/spark/examples/streaming/NetworkWordCount.scala\n",
      "spark-2.4.4-bin-hadoop2.7/examples/src/main/scala/org/apache/spark/examples/streaming/HdfsWordCount.scala\n",
      "spark-2.4.4-bin-hadoop2.7/examples/src/main/scala/org/apache/spark/examples/streaming/DirectKafkaWordCount.scala\n",
      "spark-2.4.4-bin-hadoop2.7/examples/src/main/scala/org/apache/spark/examples/streaming/CustomReceiver.scala\n",
      "spark-2.4.4-bin-hadoop2.7/examples/src/main/scala/org/apache/spark/examples/sql/\n",
      "spark-2.4.4-bin-hadoop2.7/examples/src/main/scala/org/apache/spark/examples/sql/streaming/\n",
      "spark-2.4.4-bin-hadoop2.7/examples/src/main/scala/org/apache/spark/examples/sql/streaming/StructuredSessionization.scala\n",
      "spark-2.4.4-bin-hadoop2.7/examples/src/main/scala/org/apache/spark/examples/sql/streaming/StructuredNetworkWordCountWindowed.scala\n",
      "spark-2.4.4-bin-hadoop2.7/examples/src/main/scala/org/apache/spark/examples/sql/streaming/StructuredNetworkWordCount.scala\n",
      "spark-2.4.4-bin-hadoop2.7/examples/src/main/scala/org/apache/spark/examples/sql/streaming/StructuredKafkaWordCount.scala\n",
      "spark-2.4.4-bin-hadoop2.7/examples/src/main/scala/org/apache/spark/examples/sql/hive/\n",
      "spark-2.4.4-bin-hadoop2.7/examples/src/main/scala/org/apache/spark/examples/sql/hive/SparkHiveExample.scala\n",
      "spark-2.4.4-bin-hadoop2.7/examples/src/main/scala/org/apache/spark/examples/sql/UserDefinedUntypedAggregation.scala\n",
      "spark-2.4.4-bin-hadoop2.7/examples/src/main/scala/org/apache/spark/examples/sql/UserDefinedTypedAggregation.scala\n",
      "spark-2.4.4-bin-hadoop2.7/examples/src/main/scala/org/apache/spark/examples/sql/RDDRelation.scala\n",
      "spark-2.4.4-bin-hadoop2.7/examples/src/main/scala/org/apache/spark/examples/sql/SparkSQLExample.scala\n",
      "spark-2.4.4-bin-hadoop2.7/examples/src/main/scala/org/apache/spark/examples/sql/SQLDataSourceExample.scala\n",
      "spark-2.4.4-bin-hadoop2.7/examples/src/main/scala/org/apache/spark/examples/pythonconverters/\n",
      "spark-2.4.4-bin-hadoop2.7/examples/src/main/scala/org/apache/spark/examples/pythonconverters/AvroConverters.scala\n",
      "spark-2.4.4-bin-hadoop2.7/examples/src/main/scala/org/apache/spark/examples/LogQuery.scala\n",
      "spark-2.4.4-bin-hadoop2.7/examples/src/main/scala/org/apache/spark/examples/HdfsTest.scala\n",
      "spark-2.4.4-bin-hadoop2.7/examples/src/main/scala/org/apache/spark/examples/DFSReadWriteTest.scala\n",
      "spark-2.4.4-bin-hadoop2.7/examples/src/main/resources/\n",
      "spark-2.4.4-bin-hadoop2.7/examples/src/main/resources/users.parquet\n",
      "spark-2.4.4-bin-hadoop2.7/examples/src/main/resources/users.orc\n",
      "spark-2.4.4-bin-hadoop2.7/examples/src/main/resources/users.avro\n",
      "spark-2.4.4-bin-hadoop2.7/examples/src/main/resources/user.avsc\n",
      "spark-2.4.4-bin-hadoop2.7/examples/src/main/resources/people.txt\n",
      "spark-2.4.4-bin-hadoop2.7/examples/src/main/resources/people.json\n",
      "spark-2.4.4-bin-hadoop2.7/examples/src/main/resources/people.csv\n",
      "spark-2.4.4-bin-hadoop2.7/examples/src/main/resources/kv1.txt\n",
      "spark-2.4.4-bin-hadoop2.7/examples/src/main/resources/full_user.avsc\n",
      "spark-2.4.4-bin-hadoop2.7/examples/src/main/resources/employees.json\n",
      "spark-2.4.4-bin-hadoop2.7/examples/src/main/r/\n",
      "spark-2.4.4-bin-hadoop2.7/examples/src/main/r/streaming/\n",
      "spark-2.4.4-bin-hadoop2.7/examples/src/main/r/streaming/structured_network_wordcount.R\n",
      "spark-2.4.4-bin-hadoop2.7/examples/src/main/r/ml/\n",
      "spark-2.4.4-bin-hadoop2.7/examples/src/main/r/ml/svmLinear.R\n",
      "spark-2.4.4-bin-hadoop2.7/examples/src/main/r/ml/survreg.R\n",
      "spark-2.4.4-bin-hadoop2.7/examples/src/main/r/ml/randomForest.R\n",
      "spark-2.4.4-bin-hadoop2.7/examples/src/main/r/ml/naiveBayes.R\n",
      "spark-2.4.4-bin-hadoop2.7/examples/src/main/r/ml/mlp.R\n",
      "spark-2.4.4-bin-hadoop2.7/examples/src/main/r/ml/ml.R\n",
      "spark-2.4.4-bin-hadoop2.7/examples/src/main/r/ml/logit.R\n",
      "spark-2.4.4-bin-hadoop2.7/examples/src/main/r/ml/lda.R\n",
      "spark-2.4.4-bin-hadoop2.7/examples/src/main/r/ml/kstest.R\n",
      "spark-2.4.4-bin-hadoop2.7/examples/src/main/r/ml/kmeans.R\n",
      "spark-2.4.4-bin-hadoop2.7/examples/src/main/r/ml/isoreg.R\n",
      "spark-2.4.4-bin-hadoop2.7/examples/src/main/r/ml/glm.R\n",
      "spark-2.4.4-bin-hadoop2.7/examples/src/main/r/ml/gbt.R\n",
      "spark-2.4.4-bin-hadoop2.7/examples/src/main/r/ml/gaussianMixture.R\n",
      "spark-2.4.4-bin-hadoop2.7/examples/src/main/r/ml/fpm.R\n",
      "spark-2.4.4-bin-hadoop2.7/examples/src/main/r/ml/decisionTree.R\n",
      "spark-2.4.4-bin-hadoop2.7/examples/src/main/r/ml/bisectingKmeans.R\n",
      "spark-2.4.4-bin-hadoop2.7/examples/src/main/r/ml/als.R\n",
      "spark-2.4.4-bin-hadoop2.7/examples/src/main/r/dataframe.R\n",
      "spark-2.4.4-bin-hadoop2.7/examples/src/main/r/data-manipulation.R\n",
      "spark-2.4.4-bin-hadoop2.7/examples/src/main/r/RSparkSQLExample.R\n",
      "spark-2.4.4-bin-hadoop2.7/examples/src/main/python/\n",
      "spark-2.4.4-bin-hadoop2.7/examples/src/main/python/wordcount.py\n",
      "spark-2.4.4-bin-hadoop2.7/examples/src/main/python/transitive_closure.py\n",
      "spark-2.4.4-bin-hadoop2.7/examples/src/main/python/streaming/\n",
      "spark-2.4.4-bin-hadoop2.7/examples/src/main/python/streaming/stateful_network_wordcount.py\n",
      "spark-2.4.4-bin-hadoop2.7/examples/src/main/python/streaming/sql_network_wordcount.py\n",
      "spark-2.4.4-bin-hadoop2.7/examples/src/main/python/streaming/queue_stream.py\n",
      "spark-2.4.4-bin-hadoop2.7/examples/src/main/python/streaming/network_wordjoinsentiments.py\n",
      "spark-2.4.4-bin-hadoop2.7/examples/src/main/python/streaming/network_wordcount.py\n",
      "spark-2.4.4-bin-hadoop2.7/examples/src/main/python/streaming/hdfs_wordcount.py\n",
      "spark-2.4.4-bin-hadoop2.7/examples/src/main/python/streaming/recoverable_network_wordcount.py\n",
      "spark-2.4.4-bin-hadoop2.7/examples/src/main/python/streaming/kafka_wordcount.py\n",
      "spark-2.4.4-bin-hadoop2.7/examples/src/main/python/streaming/flume_wordcount.py\n",
      "spark-2.4.4-bin-hadoop2.7/examples/src/main/python/streaming/direct_kafka_wordcount.py\n",
      "spark-2.4.4-bin-hadoop2.7/examples/src/main/python/status_api_demo.py\n",
      "spark-2.4.4-bin-hadoop2.7/examples/src/main/python/sql/\n",
      "spark-2.4.4-bin-hadoop2.7/examples/src/main/python/sql/streaming/\n",
      "spark-2.4.4-bin-hadoop2.7/examples/src/main/python/sql/streaming/structured_network_wordcount_windowed.py\n",
      "spark-2.4.4-bin-hadoop2.7/examples/src/main/python/sql/streaming/structured_network_wordcount.py\n",
      "spark-2.4.4-bin-hadoop2.7/examples/src/main/python/sql/streaming/structured_kafka_wordcount.py\n",
      "spark-2.4.4-bin-hadoop2.7/examples/src/main/python/sql/basic.py\n",
      "spark-2.4.4-bin-hadoop2.7/examples/src/main/python/sql/hive.py\n",
      "spark-2.4.4-bin-hadoop2.7/examples/src/main/python/sql/datasource.py\n",
      "spark-2.4.4-bin-hadoop2.7/examples/src/main/python/sql/arrow.py\n",
      "spark-2.4.4-bin-hadoop2.7/examples/src/main/python/sort.py\n",
      "spark-2.4.4-bin-hadoop2.7/examples/src/main/python/pi.py\n",
      "spark-2.4.4-bin-hadoop2.7/examples/src/main/python/parquet_inputformat.py\n",
      "spark-2.4.4-bin-hadoop2.7/examples/src/main/python/pagerank.py\n",
      "spark-2.4.4-bin-hadoop2.7/examples/src/main/python/mllib/\n",
      "spark-2.4.4-bin-hadoop2.7/examples/src/main/python/mllib/word2vec_example.py\n",
      "spark-2.4.4-bin-hadoop2.7/examples/src/main/python/mllib/word2vec.py\n",
      "spark-2.4.4-bin-hadoop2.7/examples/src/main/python/mllib/tf_idf_example.py\n",
      "spark-2.4.4-bin-hadoop2.7/examples/src/main/python/mllib/svm_with_sgd_example.py\n",
      "spark-2.4.4-bin-hadoop2.7/examples/src/main/python/mllib/svd_example.py\n",
      "spark-2.4.4-bin-hadoop2.7/examples/src/main/python/mllib/summary_statistics_example.py\n",
      "spark-2.4.4-bin-hadoop2.7/examples/src/main/python/mllib/streaming_linear_regression_example.py\n",
      "spark-2.4.4-bin-hadoop2.7/examples/src/main/python/mllib/streaming_k_means_example.py\n",
      "spark-2.4.4-bin-hadoop2.7/examples/src/main/python/mllib/stratified_sampling_example.py\n",
      "spark-2.4.4-bin-hadoop2.7/examples/src/main/python/mllib/sampled_rdds.py\n",
      "spark-2.4.4-bin-hadoop2.7/examples/src/main/python/mllib/regression_metrics_example.py\n",
      "spark-2.4.4-bin-hadoop2.7/examples/src/main/python/mllib/recommendation_example.py\n",
      "spark-2.4.4-bin-hadoop2.7/examples/src/main/python/mllib/random_rdd_generation.py\n",
      "spark-2.4.4-bin-hadoop2.7/examples/src/main/python/mllib/random_forest_regression_example.py\n",
      "spark-2.4.4-bin-hadoop2.7/examples/src/main/python/mllib/random_forest_classification_example.py\n",
      "spark-2.4.4-bin-hadoop2.7/examples/src/main/python/mllib/power_iteration_clustering_example.py\n",
      "spark-2.4.4-bin-hadoop2.7/examples/src/main/python/mllib/pca_rowmatrix_example.py\n",
      "spark-2.4.4-bin-hadoop2.7/examples/src/main/python/mllib/normalizer_example.py\n",
      "spark-2.4.4-bin-hadoop2.7/examples/src/main/python/mllib/naive_bayes_example.py\n",
      "spark-2.4.4-bin-hadoop2.7/examples/src/main/python/mllib/multi_label_metrics_example.py\n",
      "spark-2.4.4-bin-hadoop2.7/examples/src/main/python/mllib/logistic_regression_with_lbfgs_example.py\n",
      "spark-2.4.4-bin-hadoop2.7/examples/src/main/python/mllib/logistic_regression.py\n",
      "spark-2.4.4-bin-hadoop2.7/examples/src/main/python/mllib/linear_regression_with_sgd_example.py\n",
      "spark-2.4.4-bin-hadoop2.7/examples/src/main/python/mllib/latent_dirichlet_allocation_example.py\n",
      "spark-2.4.4-bin-hadoop2.7/examples/src/main/python/mllib/kmeans.py\n",
      "spark-2.4.4-bin-hadoop2.7/examples/src/main/python/mllib/kernel_density_estimation_example.py\n",
      "spark-2.4.4-bin-hadoop2.7/examples/src/main/python/mllib/k_means_example.py\n",
      "spark-2.4.4-bin-hadoop2.7/examples/src/main/python/mllib/hypothesis_testing_kolmogorov_smirnov_test_example.py\n",
      "spark-2.4.4-bin-hadoop2.7/examples/src/main/python/mllib/hypothesis_testing_example.py\n",
      "spark-2.4.4-bin-hadoop2.7/examples/src/main/python/mllib/gradient_boosting_regression_example.py\n",
      "spark-2.4.4-bin-hadoop2.7/examples/src/main/python/mllib/gradient_boosting_classification_example.py\n",
      "spark-2.4.4-bin-hadoop2.7/examples/src/main/python/mllib/gaussian_mixture_model.py\n",
      "spark-2.4.4-bin-hadoop2.7/examples/src/main/python/mllib/gaussian_mixture_example.py\n",
      "spark-2.4.4-bin-hadoop2.7/examples/src/main/python/mllib/fpgrowth_example.py\n",
      "spark-2.4.4-bin-hadoop2.7/examples/src/main/python/mllib/elementwise_product_example.py\n",
      "spark-2.4.4-bin-hadoop2.7/examples/src/main/python/mllib/decision_tree_regression_example.py\n",
      "spark-2.4.4-bin-hadoop2.7/examples/src/main/python/mllib/decision_tree_classification_example.py\n",
      "spark-2.4.4-bin-hadoop2.7/examples/src/main/python/mllib/correlations_example.py\n",
      "spark-2.4.4-bin-hadoop2.7/examples/src/main/python/mllib/correlations.py\n",
      "spark-2.4.4-bin-hadoop2.7/examples/src/main/python/mllib/binary_classification_metrics_example.py\n",
      "spark-2.4.4-bin-hadoop2.7/examples/src/main/python/mllib/standard_scaler_example.py\n",
      "spark-2.4.4-bin-hadoop2.7/examples/src/main/python/mllib/ranking_metrics_example.py\n",
      "spark-2.4.4-bin-hadoop2.7/examples/src/main/python/mllib/multi_class_metrics_example.py\n",
      "spark-2.4.4-bin-hadoop2.7/examples/src/main/python/mllib/isotonic_regression_example.py\n",
      "spark-2.4.4-bin-hadoop2.7/examples/src/main/python/mllib/bisecting_k_means_example.py\n",
      "spark-2.4.4-bin-hadoop2.7/examples/src/main/python/ml/\n",
      "spark-2.4.4-bin-hadoop2.7/examples/src/main/python/ml/word2vec_example.py\n",
      "spark-2.4.4-bin-hadoop2.7/examples/src/main/python/ml/vector_slicer_example.py\n",
      "spark-2.4.4-bin-hadoop2.7/examples/src/main/python/ml/vector_size_hint_example.py\n",
      "spark-2.4.4-bin-hadoop2.7/examples/src/main/python/ml/vector_indexer_example.py\n",
      "spark-2.4.4-bin-hadoop2.7/examples/src/main/python/ml/vector_assembler_example.py\n",
      "spark-2.4.4-bin-hadoop2.7/examples/src/main/python/ml/train_validation_split.py\n",
      "spark-2.4.4-bin-hadoop2.7/examples/src/main/python/ml/tokenizer_example.py\n",
      "spark-2.4.4-bin-hadoop2.7/examples/src/main/python/ml/tf_idf_example.py\n",
      "spark-2.4.4-bin-hadoop2.7/examples/src/main/python/ml/summarizer_example.py\n",
      "spark-2.4.4-bin-hadoop2.7/examples/src/main/python/ml/string_indexer_example.py\n",
      "spark-2.4.4-bin-hadoop2.7/examples/src/main/python/ml/stopwords_remover_example.py\n",
      "spark-2.4.4-bin-hadoop2.7/examples/src/main/python/ml/standard_scaler_example.py\n",
      "spark-2.4.4-bin-hadoop2.7/examples/src/main/python/ml/sql_transformer.py\n",
      "spark-2.4.4-bin-hadoop2.7/examples/src/main/python/ml/rformula_example.py\n",
      "spark-2.4.4-bin-hadoop2.7/examples/src/main/python/ml/random_forest_regressor_example.py\n",
      "spark-2.4.4-bin-hadoop2.7/examples/src/main/python/ml/random_forest_classifier_example.py\n",
      "spark-2.4.4-bin-hadoop2.7/examples/src/main/python/ml/quantile_discretizer_example.py\n",
      "spark-2.4.4-bin-hadoop2.7/examples/src/main/python/ml/prefixspan_example.py\n",
      "spark-2.4.4-bin-hadoop2.7/examples/src/main/python/ml/polynomial_expansion_example.py\n",
      "spark-2.4.4-bin-hadoop2.7/examples/src/main/python/ml/pipeline_example.py\n",
      "spark-2.4.4-bin-hadoop2.7/examples/src/main/python/ml/pca_example.py\n",
      "spark-2.4.4-bin-hadoop2.7/examples/src/main/python/ml/one_vs_rest_example.py\n",
      "spark-2.4.4-bin-hadoop2.7/examples/src/main/python/ml/normalizer_example.py\n",
      "spark-2.4.4-bin-hadoop2.7/examples/src/main/python/ml/naive_bayes_example.py\n",
      "spark-2.4.4-bin-hadoop2.7/examples/src/main/python/ml/n_gram_example.py\n",
      "spark-2.4.4-bin-hadoop2.7/examples/src/main/python/ml/multilayer_perceptron_classification.py\n",
      "spark-2.4.4-bin-hadoop2.7/examples/src/main/python/ml/multiclass_logistic_regression_with_elastic_net.py\n",
      "spark-2.4.4-bin-hadoop2.7/examples/src/main/python/ml/min_max_scaler_example.py\n",
      "spark-2.4.4-bin-hadoop2.7/examples/src/main/python/ml/min_hash_lsh_example.py\n",
      "spark-2.4.4-bin-hadoop2.7/examples/src/main/python/ml/max_abs_scaler_example.py\n",
      "spark-2.4.4-bin-hadoop2.7/examples/src/main/python/ml/logistic_regression_with_elastic_net.py\n",
      "spark-2.4.4-bin-hadoop2.7/examples/src/main/python/ml/logistic_regression_summary_example.py\n",
      "spark-2.4.4-bin-hadoop2.7/examples/src/main/python/ml/linearsvc.py\n",
      "spark-2.4.4-bin-hadoop2.7/examples/src/main/python/ml/linear_regression_with_elastic_net.py\n",
      "spark-2.4.4-bin-hadoop2.7/examples/src/main/python/ml/lda_example.py\n",
      "spark-2.4.4-bin-hadoop2.7/examples/src/main/python/ml/kmeans_example.py\n",
      "spark-2.4.4-bin-hadoop2.7/examples/src/main/python/ml/isotonic_regression_example.py\n",
      "spark-2.4.4-bin-hadoop2.7/examples/src/main/python/ml/index_to_string_example.py\n",
      "spark-2.4.4-bin-hadoop2.7/examples/src/main/python/ml/imputer_example.py\n",
      "spark-2.4.4-bin-hadoop2.7/examples/src/main/python/ml/gradient_boosted_tree_regressor_example.py\n",
      "spark-2.4.4-bin-hadoop2.7/examples/src/main/python/ml/gradient_boosted_tree_classifier_example.py\n",
      "spark-2.4.4-bin-hadoop2.7/examples/src/main/python/ml/generalized_linear_regression_example.py\n",
      "spark-2.4.4-bin-hadoop2.7/examples/src/main/python/ml/gaussian_mixture_example.py\n",
      "spark-2.4.4-bin-hadoop2.7/examples/src/main/python/ml/fpgrowth_example.py\n",
      "spark-2.4.4-bin-hadoop2.7/examples/src/main/python/ml/feature_hasher_example.py\n",
      "spark-2.4.4-bin-hadoop2.7/examples/src/main/python/ml/estimator_transformer_param_example.py\n",
      "spark-2.4.4-bin-hadoop2.7/examples/src/main/python/ml/elementwise_product_example.py\n",
      "spark-2.4.4-bin-hadoop2.7/examples/src/main/python/ml/decision_tree_regression_example.py\n",
      "spark-2.4.4-bin-hadoop2.7/examples/src/main/python/ml/decision_tree_classification_example.py\n",
      "spark-2.4.4-bin-hadoop2.7/examples/src/main/python/ml/dct_example.py\n",
      "spark-2.4.4-bin-hadoop2.7/examples/src/main/python/ml/dataframe_example.py\n",
      "spark-2.4.4-bin-hadoop2.7/examples/src/main/python/ml/cross_validator.py\n",
      "spark-2.4.4-bin-hadoop2.7/examples/src/main/python/ml/count_vectorizer_example.py\n",
      "spark-2.4.4-bin-hadoop2.7/examples/src/main/python/ml/correlation_example.py\n",
      "spark-2.4.4-bin-hadoop2.7/examples/src/main/python/ml/chisq_selector_example.py\n",
      "spark-2.4.4-bin-hadoop2.7/examples/src/main/python/ml/chi_square_test_example.py\n",
      "spark-2.4.4-bin-hadoop2.7/examples/src/main/python/ml/bucketizer_example.py\n",
      "spark-2.4.4-bin-hadoop2.7/examples/src/main/python/ml/bucketed_random_projection_lsh_example.py\n",
      "spark-2.4.4-bin-hadoop2.7/examples/src/main/python/ml/binarizer_example.py\n",
      "spark-2.4.4-bin-hadoop2.7/examples/src/main/python/ml/als_example.py\n",
      "spark-2.4.4-bin-hadoop2.7/examples/src/main/python/ml/aft_survival_regression.py\n",
      "spark-2.4.4-bin-hadoop2.7/examples/src/main/python/ml/onehot_encoder_estimator_example.py\n",
      "spark-2.4.4-bin-hadoop2.7/examples/src/main/python/ml/bisecting_k_means_example.py\n",
      "spark-2.4.4-bin-hadoop2.7/examples/src/main/python/logistic_regression.py\n",
      "spark-2.4.4-bin-hadoop2.7/examples/src/main/python/kmeans.py\n",
      "spark-2.4.4-bin-hadoop2.7/examples/src/main/python/avro_inputformat.py\n",
      "spark-2.4.4-bin-hadoop2.7/examples/src/main/python/als.py\n",
      "spark-2.4.4-bin-hadoop2.7/examples/src/main/java/\n",
      "spark-2.4.4-bin-hadoop2.7/examples/src/main/java/org/\n",
      "spark-2.4.4-bin-hadoop2.7/examples/src/main/java/org/apache/\n",
      "spark-2.4.4-bin-hadoop2.7/examples/src/main/java/org/apache/spark/\n",
      "spark-2.4.4-bin-hadoop2.7/examples/src/main/java/org/apache/spark/examples/\n",
      "spark-2.4.4-bin-hadoop2.7/examples/src/main/java/org/apache/spark/examples/streaming/\n",
      "spark-2.4.4-bin-hadoop2.7/examples/src/main/java/org/apache/spark/examples/streaming/JavaStatefulNetworkWordCount.java\n",
      "spark-2.4.4-bin-hadoop2.7/examples/src/main/java/org/apache/spark/examples/streaming/JavaSqlNetworkWordCount.java\n",
      "spark-2.4.4-bin-hadoop2.7/examples/src/main/java/org/apache/spark/examples/streaming/JavaRecoverableNetworkWordCount.java\n",
      "spark-2.4.4-bin-hadoop2.7/examples/src/main/java/org/apache/spark/examples/streaming/JavaRecord.java\n",
      "spark-2.4.4-bin-hadoop2.7/examples/src/main/java/org/apache/spark/examples/streaming/JavaQueueStream.java\n",
      "spark-2.4.4-bin-hadoop2.7/examples/src/main/java/org/apache/spark/examples/streaming/JavaNetworkWordCount.java\n",
      "spark-2.4.4-bin-hadoop2.7/examples/src/main/java/org/apache/spark/examples/streaming/JavaDirectKafkaWordCount.java\n",
      "spark-2.4.4-bin-hadoop2.7/examples/src/main/java/org/apache/spark/examples/streaming/JavaCustomReceiver.java\n",
      "spark-2.4.4-bin-hadoop2.7/examples/src/main/java/org/apache/spark/examples/sql/\n",
      "spark-2.4.4-bin-hadoop2.7/examples/src/main/java/org/apache/spark/examples/sql/streaming/\n",
      "spark-2.4.4-bin-hadoop2.7/examples/src/main/java/org/apache/spark/examples/sql/streaming/JavaStructuredNetworkWordCountWindowed.java\n",
      "spark-2.4.4-bin-hadoop2.7/examples/src/main/java/org/apache/spark/examples/sql/streaming/JavaStructuredNetworkWordCount.java\n",
      "spark-2.4.4-bin-hadoop2.7/examples/src/main/java/org/apache/spark/examples/sql/streaming/JavaStructuredKafkaWordCount.java\n",
      "spark-2.4.4-bin-hadoop2.7/examples/src/main/java/org/apache/spark/examples/sql/streaming/JavaStructuredSessionization.java\n",
      "spark-2.4.4-bin-hadoop2.7/examples/src/main/java/org/apache/spark/examples/sql/hive/\n",
      "spark-2.4.4-bin-hadoop2.7/examples/src/main/java/org/apache/spark/examples/sql/hive/JavaSparkHiveExample.java\n",
      "spark-2.4.4-bin-hadoop2.7/examples/src/main/java/org/apache/spark/examples/sql/JavaUserDefinedUntypedAggregation.java\n",
      "spark-2.4.4-bin-hadoop2.7/examples/src/main/java/org/apache/spark/examples/sql/JavaUserDefinedTypedAggregation.java\n",
      "spark-2.4.4-bin-hadoop2.7/examples/src/main/java/org/apache/spark/examples/sql/JavaSparkSQLExample.java\n",
      "spark-2.4.4-bin-hadoop2.7/examples/src/main/java/org/apache/spark/examples/sql/JavaSQLDataSourceExample.java\n",
      "spark-2.4.4-bin-hadoop2.7/examples/src/main/java/org/apache/spark/examples/mllib/\n",
      "spark-2.4.4-bin-hadoop2.7/examples/src/main/java/org/apache/spark/examples/mllib/JavaSummaryStatisticsExample.java\n",
      "spark-2.4.4-bin-hadoop2.7/examples/src/main/java/org/apache/spark/examples/mllib/JavaStreamingTestExample.java\n",
      "spark-2.4.4-bin-hadoop2.7/examples/src/main/java/org/apache/spark/examples/mllib/JavaStratifiedSamplingExample.java\n",
      "spark-2.4.4-bin-hadoop2.7/examples/src/main/java/org/apache/spark/examples/mllib/JavaSimpleFPGrowth.java\n",
      "spark-2.4.4-bin-hadoop2.7/examples/src/main/java/org/apache/spark/examples/mllib/JavaSVMWithSGDExample.java\n",
      "spark-2.4.4-bin-hadoop2.7/examples/src/main/java/org/apache/spark/examples/mllib/JavaSVDExample.java\n",
      "spark-2.4.4-bin-hadoop2.7/examples/src/main/java/org/apache/spark/examples/mllib/JavaRegressionMetricsExample.java\n",
      "spark-2.4.4-bin-hadoop2.7/examples/src/main/java/org/apache/spark/examples/mllib/JavaRecommendationExample.java\n",
      "spark-2.4.4-bin-hadoop2.7/examples/src/main/java/org/apache/spark/examples/mllib/JavaRandomForestRegressionExample.java\n",
      "spark-2.4.4-bin-hadoop2.7/examples/src/main/java/org/apache/spark/examples/mllib/JavaPrefixSpanExample.java\n",
      "spark-2.4.4-bin-hadoop2.7/examples/src/main/java/org/apache/spark/examples/mllib/JavaPowerIterationClusteringExample.java\n",
      "spark-2.4.4-bin-hadoop2.7/examples/src/main/java/org/apache/spark/examples/mllib/JavaPCAExample.java\n",
      "spark-2.4.4-bin-hadoop2.7/examples/src/main/java/org/apache/spark/examples/mllib/JavaNaiveBayesExample.java\n",
      "spark-2.4.4-bin-hadoop2.7/examples/src/main/java/org/apache/spark/examples/mllib/JavaMulticlassClassificationMetricsExample.java\n",
      "spark-2.4.4-bin-hadoop2.7/examples/src/main/java/org/apache/spark/examples/mllib/JavaMultiLabelClassificationMetricsExample.java\n",
      "spark-2.4.4-bin-hadoop2.7/examples/src/main/java/org/apache/spark/examples/mllib/JavaLogisticRegressionWithLBFGSExample.java\n",
      "spark-2.4.4-bin-hadoop2.7/examples/src/main/java/org/apache/spark/examples/mllib/JavaLinearRegressionWithSGDExample.java\n",
      "spark-2.4.4-bin-hadoop2.7/examples/src/main/java/org/apache/spark/examples/mllib/JavaLatentDirichletAllocationExample.java\n",
      "spark-2.4.4-bin-hadoop2.7/examples/src/main/java/org/apache/spark/examples/mllib/JavaLBFGSExample.java\n",
      "spark-2.4.4-bin-hadoop2.7/examples/src/main/java/org/apache/spark/examples/mllib/JavaKernelDensityEstimationExample.java\n",
      "spark-2.4.4-bin-hadoop2.7/examples/src/main/java/org/apache/spark/examples/mllib/JavaKMeansExample.java\n",
      "spark-2.4.4-bin-hadoop2.7/examples/src/main/java/org/apache/spark/examples/mllib/JavaIsotonicRegressionExample.java\n",
      "spark-2.4.4-bin-hadoop2.7/examples/src/main/java/org/apache/spark/examples/mllib/JavaHypothesisTestingKolmogorovSmirnovTestExample.java\n",
      "spark-2.4.4-bin-hadoop2.7/examples/src/main/java/org/apache/spark/examples/mllib/JavaHypothesisTestingExample.java\n",
      "spark-2.4.4-bin-hadoop2.7/examples/src/main/java/org/apache/spark/examples/mllib/JavaGradientBoostingRegressionExample.java\n",
      "spark-2.4.4-bin-hadoop2.7/examples/src/main/java/org/apache/spark/examples/mllib/JavaGradientBoostingClassificationExample.java\n",
      "spark-2.4.4-bin-hadoop2.7/examples/src/main/java/org/apache/spark/examples/mllib/JavaGaussianMixtureExample.java\n",
      "spark-2.4.4-bin-hadoop2.7/examples/src/main/java/org/apache/spark/examples/mllib/JavaElementwiseProductExample.java\n",
      "spark-2.4.4-bin-hadoop2.7/examples/src/main/java/org/apache/spark/examples/mllib/JavaDecisionTreeRegressionExample.java\n",
      "spark-2.4.4-bin-hadoop2.7/examples/src/main/java/org/apache/spark/examples/mllib/JavaDecisionTreeClassificationExample.java\n",
      "spark-2.4.4-bin-hadoop2.7/examples/src/main/java/org/apache/spark/examples/mllib/JavaChiSqSelectorExample.java\n",
      "spark-2.4.4-bin-hadoop2.7/examples/src/main/java/org/apache/spark/examples/mllib/JavaBisectingKMeansExample.java\n",
      "spark-2.4.4-bin-hadoop2.7/examples/src/main/java/org/apache/spark/examples/mllib/JavaBinaryClassificationMetricsExample.java\n",
      "spark-2.4.4-bin-hadoop2.7/examples/src/main/java/org/apache/spark/examples/mllib/JavaAssociationRulesExample.java\n",
      "spark-2.4.4-bin-hadoop2.7/examples/src/main/java/org/apache/spark/examples/mllib/JavaALS.java\n",
      "spark-2.4.4-bin-hadoop2.7/examples/src/main/java/org/apache/spark/examples/mllib/JavaRankingMetricsExample.java\n",
      "spark-2.4.4-bin-hadoop2.7/examples/src/main/java/org/apache/spark/examples/mllib/JavaRandomForestClassificationExample.java\n",
      "spark-2.4.4-bin-hadoop2.7/examples/src/main/java/org/apache/spark/examples/mllib/JavaCorrelationsExample.java\n",
      "spark-2.4.4-bin-hadoop2.7/examples/src/main/java/org/apache/spark/examples/ml/\n",
      "spark-2.4.4-bin-hadoop2.7/examples/src/main/java/org/apache/spark/examples/ml/JavaWord2VecExample.java\n",
      "spark-2.4.4-bin-hadoop2.7/examples/src/main/java/org/apache/spark/examples/ml/JavaVectorSlicerExample.java\n",
      "spark-2.4.4-bin-hadoop2.7/examples/src/main/java/org/apache/spark/examples/ml/JavaVectorSizeHintExample.java\n",
      "spark-2.4.4-bin-hadoop2.7/examples/src/main/java/org/apache/spark/examples/ml/JavaVectorIndexerExample.java\n",
      "spark-2.4.4-bin-hadoop2.7/examples/src/main/java/org/apache/spark/examples/ml/JavaVectorAssemblerExample.java\n",
      "spark-2.4.4-bin-hadoop2.7/examples/src/main/java/org/apache/spark/examples/ml/JavaTokenizerExample.java\n",
      "spark-2.4.4-bin-hadoop2.7/examples/src/main/java/org/apache/spark/examples/ml/JavaTfIdfExample.java\n",
      "spark-2.4.4-bin-hadoop2.7/examples/src/main/java/org/apache/spark/examples/ml/JavaSummarizerExample.java\n",
      "spark-2.4.4-bin-hadoop2.7/examples/src/main/java/org/apache/spark/examples/ml/JavaStringIndexerExample.java\n",
      "spark-2.4.4-bin-hadoop2.7/examples/src/main/java/org/apache/spark/examples/ml/JavaStopWordsRemoverExample.java\n",
      "spark-2.4.4-bin-hadoop2.7/examples/src/main/java/org/apache/spark/examples/ml/JavaStandardScalerExample.java\n",
      "spark-2.4.4-bin-hadoop2.7/examples/src/main/java/org/apache/spark/examples/ml/JavaSQLTransformerExample.java\n",
      "spark-2.4.4-bin-hadoop2.7/examples/src/main/java/org/apache/spark/examples/ml/JavaRandomForestRegressorExample.java\n",
      "spark-2.4.4-bin-hadoop2.7/examples/src/main/java/org/apache/spark/examples/ml/JavaRFormulaExample.java\n",
      "spark-2.4.4-bin-hadoop2.7/examples/src/main/java/org/apache/spark/examples/ml/JavaQuantileDiscretizerExample.java\n",
      "spark-2.4.4-bin-hadoop2.7/examples/src/main/java/org/apache/spark/examples/ml/JavaPowerIterationClusteringExample.java\n",
      "spark-2.4.4-bin-hadoop2.7/examples/src/main/java/org/apache/spark/examples/ml/JavaPolynomialExpansionExample.java\n",
      "spark-2.4.4-bin-hadoop2.7/examples/src/main/java/org/apache/spark/examples/ml/JavaPipelineExample.java\n",
      "spark-2.4.4-bin-hadoop2.7/examples/src/main/java/org/apache/spark/examples/ml/JavaPCAExample.java\n",
      "spark-2.4.4-bin-hadoop2.7/examples/src/main/java/org/apache/spark/examples/ml/JavaOneVsRestExample.java\n",
      "spark-2.4.4-bin-hadoop2.7/examples/src/main/java/org/apache/spark/examples/ml/JavaNormalizerExample.java\n",
      "spark-2.4.4-bin-hadoop2.7/examples/src/main/java/org/apache/spark/examples/ml/JavaNaiveBayesExample.java\n",
      "spark-2.4.4-bin-hadoop2.7/examples/src/main/java/org/apache/spark/examples/ml/JavaNGramExample.java\n",
      "spark-2.4.4-bin-hadoop2.7/examples/src/main/java/org/apache/spark/examples/ml/JavaMultilayerPerceptronClassifierExample.java\n",
      "spark-2.4.4-bin-hadoop2.7/examples/src/main/java/org/apache/spark/examples/ml/JavaMulticlassLogisticRegressionWithElasticNetExample.java\n",
      "spark-2.4.4-bin-hadoop2.7/examples/src/main/java/org/apache/spark/examples/ml/JavaModelSelectionViaTrainValidationSplitExample.java\n",
      "spark-2.4.4-bin-hadoop2.7/examples/src/main/java/org/apache/spark/examples/ml/JavaModelSelectionViaCrossValidationExample.java\n",
      "spark-2.4.4-bin-hadoop2.7/examples/src/main/java/org/apache/spark/examples/ml/JavaMinMaxScalerExample.java\n",
      "spark-2.4.4-bin-hadoop2.7/examples/src/main/java/org/apache/spark/examples/ml/JavaMinHashLSHExample.java\n",
      "spark-2.4.4-bin-hadoop2.7/examples/src/main/java/org/apache/spark/examples/ml/JavaMaxAbsScalerExample.java\n",
      "spark-2.4.4-bin-hadoop2.7/examples/src/main/java/org/apache/spark/examples/ml/JavaLogisticRegressionWithElasticNetExample.java\n",
      "spark-2.4.4-bin-hadoop2.7/examples/src/main/java/org/apache/spark/examples/ml/JavaLogisticRegressionSummaryExample.java\n",
      "spark-2.4.4-bin-hadoop2.7/examples/src/main/java/org/apache/spark/examples/ml/JavaLinearSVCExample.java\n",
      "spark-2.4.4-bin-hadoop2.7/examples/src/main/java/org/apache/spark/examples/ml/JavaLinearRegressionWithElasticNetExample.java\n",
      "spark-2.4.4-bin-hadoop2.7/examples/src/main/java/org/apache/spark/examples/ml/JavaLabeledDocument.java\n",
      "spark-2.4.4-bin-hadoop2.7/examples/src/main/java/org/apache/spark/examples/ml/JavaLDAExample.java\n",
      "spark-2.4.4-bin-hadoop2.7/examples/src/main/java/org/apache/spark/examples/ml/JavaKMeansExample.java\n",
      "spark-2.4.4-bin-hadoop2.7/examples/src/main/java/org/apache/spark/examples/ml/JavaIsotonicRegressionExample.java\n",
      "spark-2.4.4-bin-hadoop2.7/examples/src/main/java/org/apache/spark/examples/ml/JavaInteractionExample.java\n",
      "spark-2.4.4-bin-hadoop2.7/examples/src/main/java/org/apache/spark/examples/ml/JavaIndexToStringExample.java\n",
      "spark-2.4.4-bin-hadoop2.7/examples/src/main/java/org/apache/spark/examples/ml/JavaImputerExample.java\n",
      "spark-2.4.4-bin-hadoop2.7/examples/src/main/java/org/apache/spark/examples/ml/JavaGradientBoostedTreeRegressorExample.java\n",
      "spark-2.4.4-bin-hadoop2.7/examples/src/main/java/org/apache/spark/examples/ml/JavaGeneralizedLinearRegressionExample.java\n",
      "spark-2.4.4-bin-hadoop2.7/examples/src/main/java/org/apache/spark/examples/ml/JavaGaussianMixtureExample.java\n",
      "spark-2.4.4-bin-hadoop2.7/examples/src/main/java/org/apache/spark/examples/ml/JavaFeatureHasherExample.java\n",
      "spark-2.4.4-bin-hadoop2.7/examples/src/main/java/org/apache/spark/examples/ml/JavaFPGrowthExample.java\n",
      "spark-2.4.4-bin-hadoop2.7/examples/src/main/java/org/apache/spark/examples/ml/JavaEstimatorTransformerParamExample.java\n",
      "spark-2.4.4-bin-hadoop2.7/examples/src/main/java/org/apache/spark/examples/ml/JavaElementwiseProductExample.java\n",
      "spark-2.4.4-bin-hadoop2.7/examples/src/main/java/org/apache/spark/examples/ml/JavaDocument.java\n",
      "spark-2.4.4-bin-hadoop2.7/examples/src/main/java/org/apache/spark/examples/ml/JavaDecisionTreeRegressionExample.java\n",
      "spark-2.4.4-bin-hadoop2.7/examples/src/main/java/org/apache/spark/examples/ml/JavaDCTExample.java\n",
      "spark-2.4.4-bin-hadoop2.7/examples/src/main/java/org/apache/spark/examples/ml/JavaCountVectorizerExample.java\n",
      "spark-2.4.4-bin-hadoop2.7/examples/src/main/java/org/apache/spark/examples/ml/JavaCorrelationExample.java\n",
      "spark-2.4.4-bin-hadoop2.7/examples/src/main/java/org/apache/spark/examples/ml/JavaChiSquareTestExample.java\n",
      "spark-2.4.4-bin-hadoop2.7/examples/src/main/java/org/apache/spark/examples/ml/JavaChiSqSelectorExample.java\n",
      "spark-2.4.4-bin-hadoop2.7/examples/src/main/java/org/apache/spark/examples/ml/JavaBucketizerExample.java\n",
      "spark-2.4.4-bin-hadoop2.7/examples/src/main/java/org/apache/spark/examples/ml/JavaBucketedRandomProjectionLSHExample.java\n",
      "spark-2.4.4-bin-hadoop2.7/examples/src/main/java/org/apache/spark/examples/ml/JavaBinarizerExample.java\n",
      "spark-2.4.4-bin-hadoop2.7/examples/src/main/java/org/apache/spark/examples/ml/JavaAFTSurvivalRegressionExample.java\n",
      "spark-2.4.4-bin-hadoop2.7/examples/src/main/java/org/apache/spark/examples/ml/JavaRandomForestClassifierExample.java\n",
      "spark-2.4.4-bin-hadoop2.7/examples/src/main/java/org/apache/spark/examples/ml/JavaPrefixSpanExample.java\n",
      "spark-2.4.4-bin-hadoop2.7/examples/src/main/java/org/apache/spark/examples/ml/JavaOneHotEncoderEstimatorExample.java\n",
      "spark-2.4.4-bin-hadoop2.7/examples/src/main/java/org/apache/spark/examples/ml/JavaGradientBoostedTreeClassifierExample.java\n",
      "spark-2.4.4-bin-hadoop2.7/examples/src/main/java/org/apache/spark/examples/ml/JavaDecisionTreeClassificationExample.java\n",
      "spark-2.4.4-bin-hadoop2.7/examples/src/main/java/org/apache/spark/examples/ml/JavaBisectingKMeansExample.java\n",
      "spark-2.4.4-bin-hadoop2.7/examples/src/main/java/org/apache/spark/examples/ml/JavaALSExample.java\n",
      "spark-2.4.4-bin-hadoop2.7/examples/src/main/java/org/apache/spark/examples/JavaWordCount.java\n",
      "spark-2.4.4-bin-hadoop2.7/examples/src/main/java/org/apache/spark/examples/JavaStatusTrackerDemo.java\n",
      "spark-2.4.4-bin-hadoop2.7/examples/src/main/java/org/apache/spark/examples/JavaSparkPi.java\n",
      "spark-2.4.4-bin-hadoop2.7/examples/src/main/java/org/apache/spark/examples/JavaPageRank.java\n",
      "spark-2.4.4-bin-hadoop2.7/examples/src/main/java/org/apache/spark/examples/JavaLogQuery.java\n",
      "spark-2.4.4-bin-hadoop2.7/examples/src/main/java/org/apache/spark/examples/JavaHdfsLR.java\n",
      "spark-2.4.4-bin-hadoop2.7/examples/src/main/java/org/apache/spark/examples/JavaTC.java\n",
      "spark-2.4.4-bin-hadoop2.7/examples/jars/\n",
      "spark-2.4.4-bin-hadoop2.7/examples/jars/spark-examples_2.11-2.4.4.jar\n",
      "spark-2.4.4-bin-hadoop2.7/examples/jars/scopt_2.11-3.7.0.jar\n",
      "spark-2.4.4-bin-hadoop2.7/kubernetes/\n",
      "spark-2.4.4-bin-hadoop2.7/kubernetes/tests/\n",
      "spark-2.4.4-bin-hadoop2.7/kubernetes/tests/pyfiles.py\n",
      "spark-2.4.4-bin-hadoop2.7/kubernetes/tests/worker_memory_check.py\n",
      "spark-2.4.4-bin-hadoop2.7/kubernetes/tests/py_container_checks.py\n",
      "spark-2.4.4-bin-hadoop2.7/kubernetes/dockerfiles/\n",
      "spark-2.4.4-bin-hadoop2.7/kubernetes/dockerfiles/spark/\n",
      "spark-2.4.4-bin-hadoop2.7/kubernetes/dockerfiles/spark/entrypoint.sh\n",
      "spark-2.4.4-bin-hadoop2.7/kubernetes/dockerfiles/spark/Dockerfile\n",
      "spark-2.4.4-bin-hadoop2.7/kubernetes/dockerfiles/spark/bindings/\n",
      "spark-2.4.4-bin-hadoop2.7/kubernetes/dockerfiles/spark/bindings/python/\n",
      "spark-2.4.4-bin-hadoop2.7/kubernetes/dockerfiles/spark/bindings/python/Dockerfile\n",
      "spark-2.4.4-bin-hadoop2.7/kubernetes/dockerfiles/spark/bindings/R/\n",
      "spark-2.4.4-bin-hadoop2.7/kubernetes/dockerfiles/spark/bindings/R/Dockerfile\n",
      "spark-2.4.4-bin-hadoop2.7/yarn/\n",
      "spark-2.4.4-bin-hadoop2.7/yarn/spark-2.4.4-yarn-shuffle.jar\n",
      "spark-2.4.4-bin-hadoop2.7/jars/\n",
      "spark-2.4.4-bin-hadoop2.7/jars/jackson-mapper-asl-1.9.13.jar\n",
      "spark-2.4.4-bin-hadoop2.7/jars/jackson-jaxrs-1.9.13.jar\n",
      "spark-2.4.4-bin-hadoop2.7/jars/jackson-dataformat-yaml-2.6.7.jar\n",
      "spark-2.4.4-bin-hadoop2.7/jars/jackson-databind-2.6.7.1.jar\n",
      "spark-2.4.4-bin-hadoop2.7/jars/jackson-core-asl-1.9.13.jar\n",
      "spark-2.4.4-bin-hadoop2.7/jars/jackson-core-2.6.7.jar\n",
      "spark-2.4.4-bin-hadoop2.7/jars/jackson-annotations-2.6.7.jar\n",
      "spark-2.4.4-bin-hadoop2.7/jars/ivy-2.4.0.jar\n",
      "spark-2.4.4-bin-hadoop2.7/jars/httpcore-4.4.10.jar\n",
      "spark-2.4.4-bin-hadoop2.7/jars/httpclient-4.5.6.jar\n",
      "spark-2.4.4-bin-hadoop2.7/jars/htrace-core-3.1.0-incubating.jar\n",
      "spark-2.4.4-bin-hadoop2.7/jars/hppc-0.7.2.jar\n",
      "spark-2.4.4-bin-hadoop2.7/jars/hk2-utils-2.4.0-b34.jar\n",
      "spark-2.4.4-bin-hadoop2.7/jars/hk2-locator-2.4.0-b34.jar\n",
      "spark-2.4.4-bin-hadoop2.7/jars/hk2-api-2.4.0-b34.jar\n",
      "spark-2.4.4-bin-hadoop2.7/jars/hive-metastore-1.2.1.spark2.jar\n",
      "spark-2.4.4-bin-hadoop2.7/jars/hive-jdbc-1.2.1.spark2.jar\n",
      "spark-2.4.4-bin-hadoop2.7/jars/hive-exec-1.2.1.spark2.jar\n",
      "spark-2.4.4-bin-hadoop2.7/jars/hive-cli-1.2.1.spark2.jar\n",
      "spark-2.4.4-bin-hadoop2.7/jars/hive-beeline-1.2.1.spark2.jar\n",
      "spark-2.4.4-bin-hadoop2.7/jars/hadoop-yarn-server-web-proxy-2.7.3.jar\n",
      "spark-2.4.4-bin-hadoop2.7/jars/hadoop-yarn-server-common-2.7.3.jar\n",
      "spark-2.4.4-bin-hadoop2.7/jars/hadoop-yarn-common-2.7.3.jar\n",
      "spark-2.4.4-bin-hadoop2.7/jars/hadoop-yarn-client-2.7.3.jar\n",
      "spark-2.4.4-bin-hadoop2.7/jars/hadoop-yarn-api-2.7.3.jar\n",
      "spark-2.4.4-bin-hadoop2.7/jars/hadoop-mapreduce-client-shuffle-2.7.3.jar\n",
      "spark-2.4.4-bin-hadoop2.7/jars/hadoop-mapreduce-client-jobclient-2.7.3.jar\n",
      "spark-2.4.4-bin-hadoop2.7/jars/hadoop-mapreduce-client-core-2.7.3.jar\n",
      "spark-2.4.4-bin-hadoop2.7/jars/hadoop-mapreduce-client-common-2.7.3.jar\n",
      "spark-2.4.4-bin-hadoop2.7/jars/hadoop-mapreduce-client-app-2.7.3.jar\n",
      "spark-2.4.4-bin-hadoop2.7/jars/hadoop-hdfs-2.7.3.jar\n",
      "spark-2.4.4-bin-hadoop2.7/jars/hadoop-common-2.7.3.jar\n",
      "spark-2.4.4-bin-hadoop2.7/jars/hadoop-client-2.7.3.jar\n",
      "spark-2.4.4-bin-hadoop2.7/jars/hadoop-auth-2.7.3.jar\n",
      "spark-2.4.4-bin-hadoop2.7/jars/hadoop-annotations-2.7.3.jar\n",
      "spark-2.4.4-bin-hadoop2.7/jars/guice-servlet-3.0.jar\n",
      "spark-2.4.4-bin-hadoop2.7/jars/guice-3.0.jar\n",
      "spark-2.4.4-bin-hadoop2.7/jars/guava-14.0.1.jar\n",
      "spark-2.4.4-bin-hadoop2.7/jars/gson-2.2.4.jar\n",
      "spark-2.4.4-bin-hadoop2.7/jars/generex-1.0.1.jar\n",
      "spark-2.4.4-bin-hadoop2.7/jars/flatbuffers-1.2.0-3f79e055.jar\n",
      "spark-2.4.4-bin-hadoop2.7/jars/eigenbase-properties-1.1.5.jar\n",
      "spark-2.4.4-bin-hadoop2.7/jars/derby-10.12.1.1.jar\n",
      "spark-2.4.4-bin-hadoop2.7/jars/datanucleus-rdbms-3.2.9.jar\n",
      "spark-2.4.4-bin-hadoop2.7/jars/datanucleus-core-3.2.10.jar\n",
      "spark-2.4.4-bin-hadoop2.7/jars/datanucleus-api-jdo-3.2.6.jar\n",
      "spark-2.4.4-bin-hadoop2.7/jars/curator-recipes-2.7.1.jar\n",
      "spark-2.4.4-bin-hadoop2.7/jars/curator-framework-2.7.1.jar\n",
      "spark-2.4.4-bin-hadoop2.7/jars/curator-client-2.7.1.jar\n",
      "spark-2.4.4-bin-hadoop2.7/jars/core-1.1.2.jar\n",
      "spark-2.4.4-bin-hadoop2.7/jars/compress-lzf-1.0.3.jar\n",
      "spark-2.4.4-bin-hadoop2.7/jars/commons-pool-1.5.4.jar\n",
      "spark-2.4.4-bin-hadoop2.7/jars/commons-net-3.1.jar\n",
      "spark-2.4.4-bin-hadoop2.7/jars/commons-math3-3.4.1.jar\n",
      "spark-2.4.4-bin-hadoop2.7/jars/commons-logging-1.1.3.jar\n",
      "spark-2.4.4-bin-hadoop2.7/jars/commons-lang3-3.5.jar\n",
      "spark-2.4.4-bin-hadoop2.7/jars/commons-lang-2.6.jar\n",
      "spark-2.4.4-bin-hadoop2.7/jars/commons-io-2.4.jar\n",
      "spark-2.4.4-bin-hadoop2.7/jars/commons-httpclient-3.1.jar\n",
      "spark-2.4.4-bin-hadoop2.7/jars/commons-digester-1.8.jar\n",
      "spark-2.4.4-bin-hadoop2.7/jars/commons-dbcp-1.4.jar\n",
      "spark-2.4.4-bin-hadoop2.7/jars/commons-crypto-1.0.0.jar\n",
      "spark-2.4.4-bin-hadoop2.7/jars/commons-configuration-1.6.jar\n",
      "spark-2.4.4-bin-hadoop2.7/jars/commons-compress-1.8.1.jar\n",
      "spark-2.4.4-bin-hadoop2.7/jars/commons-compiler-3.0.9.jar\n",
      "spark-2.4.4-bin-hadoop2.7/jars/commons-collections-3.2.2.jar\n",
      "spark-2.4.4-bin-hadoop2.7/jars/commons-codec-1.10.jar\n",
      "spark-2.4.4-bin-hadoop2.7/jars/commons-cli-1.2.jar\n",
      "spark-2.4.4-bin-hadoop2.7/jars/commons-beanutils-1.9.3.jar\n",
      "spark-2.4.4-bin-hadoop2.7/jars/chill_2.11-0.9.3.jar\n",
      "spark-2.4.4-bin-hadoop2.7/jars/chill-java-0.9.3.jar\n",
      "spark-2.4.4-bin-hadoop2.7/jars/calcite-linq4j-1.2.0-incubating.jar\n",
      "spark-2.4.4-bin-hadoop2.7/jars/calcite-core-1.2.0-incubating.jar\n",
      "spark-2.4.4-bin-hadoop2.7/jars/calcite-avatica-1.2.0-incubating.jar\n",
      "spark-2.4.4-bin-hadoop2.7/jars/breeze_2.11-0.13.2.jar\n",
      "spark-2.4.4-bin-hadoop2.7/jars/breeze-macros_2.11-0.13.2.jar\n",
      "spark-2.4.4-bin-hadoop2.7/jars/bonecp-0.8.0.RELEASE.jar\n",
      "spark-2.4.4-bin-hadoop2.7/jars/avro-mapred-1.8.2-hadoop2.jar\n",
      "spark-2.4.4-bin-hadoop2.7/jars/avro-ipc-1.8.2.jar\n",
      "spark-2.4.4-bin-hadoop2.7/jars/avro-1.8.2.jar\n",
      "spark-2.4.4-bin-hadoop2.7/jars/automaton-1.11-8.jar\n",
      "spark-2.4.4-bin-hadoop2.7/jars/arrow-vector-0.10.0.jar\n",
      "spark-2.4.4-bin-hadoop2.7/jars/arrow-memory-0.10.0.jar\n",
      "spark-2.4.4-bin-hadoop2.7/jars/arrow-format-0.10.0.jar\n",
      "spark-2.4.4-bin-hadoop2.7/jars/arpack_combined_all-0.1.jar\n",
      "spark-2.4.4-bin-hadoop2.7/jars/api-util-1.0.0-M20.jar\n",
      "spark-2.4.4-bin-hadoop2.7/jars/api-asn1-api-1.0.0-M20.jar\n",
      "spark-2.4.4-bin-hadoop2.7/jars/apacheds-kerberos-codec-2.0.0-M15.jar\n",
      "spark-2.4.4-bin-hadoop2.7/jars/apacheds-i18n-2.0.0-M15.jar\n",
      "spark-2.4.4-bin-hadoop2.7/jars/apache-log4j-extras-1.2.17.jar\n",
      "spark-2.4.4-bin-hadoop2.7/jars/aopalliance-repackaged-2.4.0-b34.jar\n",
      "spark-2.4.4-bin-hadoop2.7/jars/aopalliance-1.0.jar\n",
      "spark-2.4.4-bin-hadoop2.7/jars/antlr4-runtime-4.7.jar\n",
      "spark-2.4.4-bin-hadoop2.7/jars/antlr-runtime-3.4.jar\n",
      "spark-2.4.4-bin-hadoop2.7/jars/antlr-2.7.7.jar\n",
      "spark-2.4.4-bin-hadoop2.7/jars/aircompressor-0.10.jar\n",
      "spark-2.4.4-bin-hadoop2.7/jars/activation-1.1.1.jar\n",
      "spark-2.4.4-bin-hadoop2.7/jars/ST4-4.0.4.jar\n",
      "spark-2.4.4-bin-hadoop2.7/jars/RoaringBitmap-0.7.45.jar\n",
      "spark-2.4.4-bin-hadoop2.7/jars/JavaEWAH-0.3.2.jar\n",
      "spark-2.4.4-bin-hadoop2.7/jars/zstd-jni-1.3.2-2.jar\n",
      "spark-2.4.4-bin-hadoop2.7/jars/zookeeper-3.4.6.jar\n",
      "spark-2.4.4-bin-hadoop2.7/jars/zjsonpatch-0.3.0.jar\n",
      "spark-2.4.4-bin-hadoop2.7/jars/xz-1.5.jar\n",
      "spark-2.4.4-bin-hadoop2.7/jars/xmlenc-0.52.jar\n",
      "spark-2.4.4-bin-hadoop2.7/jars/xercesImpl-2.9.1.jar\n",
      "spark-2.4.4-bin-hadoop2.7/jars/xbean-asm6-shaded-4.8.jar\n",
      "spark-2.4.4-bin-hadoop2.7/jars/validation-api-1.1.0.Final.jar\n",
      "spark-2.4.4-bin-hadoop2.7/jars/univocity-parsers-2.7.3.jar\n",
      "spark-2.4.4-bin-hadoop2.7/jars/super-csv-2.2.0.jar\n",
      "spark-2.4.4-bin-hadoop2.7/jars/stringtemplate-3.2.1.jar\n",
      "spark-2.4.4-bin-hadoop2.7/jars/stream-2.7.0.jar\n",
      "spark-2.4.4-bin-hadoop2.7/jars/stax-api-1.0.1.jar\n",
      "spark-2.4.4-bin-hadoop2.7/jars/stax-api-1.0-2.jar\n",
      "spark-2.4.4-bin-hadoop2.7/jars/spire_2.11-0.13.0.jar\n",
      "spark-2.4.4-bin-hadoop2.7/jars/spire-macros_2.11-0.13.0.jar\n",
      "spark-2.4.4-bin-hadoop2.7/jars/spark-yarn_2.11-2.4.4.jar\n",
      "spark-2.4.4-bin-hadoop2.7/jars/spark-unsafe_2.11-2.4.4.jar\n",
      "spark-2.4.4-bin-hadoop2.7/jars/spark-tags_2.11-2.4.4.jar\n",
      "spark-2.4.4-bin-hadoop2.7/jars/spark-tags_2.11-2.4.4-tests.jar\n",
      "spark-2.4.4-bin-hadoop2.7/jars/spark-streaming_2.11-2.4.4.jar\n",
      "spark-2.4.4-bin-hadoop2.7/jars/spark-sql_2.11-2.4.4.jar\n",
      "spark-2.4.4-bin-hadoop2.7/jars/spark-sketch_2.11-2.4.4.jar\n",
      "spark-2.4.4-bin-hadoop2.7/jars/spark-repl_2.11-2.4.4.jar\n",
      "spark-2.4.4-bin-hadoop2.7/jars/spark-network-shuffle_2.11-2.4.4.jar\n",
      "spark-2.4.4-bin-hadoop2.7/jars/spark-network-common_2.11-2.4.4.jar\n",
      "spark-2.4.4-bin-hadoop2.7/jars/spark-mllib_2.11-2.4.4.jar\n",
      "spark-2.4.4-bin-hadoop2.7/jars/spark-mllib-local_2.11-2.4.4.jar\n",
      "spark-2.4.4-bin-hadoop2.7/jars/spark-mesos_2.11-2.4.4.jar\n",
      "spark-2.4.4-bin-hadoop2.7/jars/spark-launcher_2.11-2.4.4.jar\n",
      "spark-2.4.4-bin-hadoop2.7/jars/spark-kvstore_2.11-2.4.4.jar\n",
      "spark-2.4.4-bin-hadoop2.7/jars/spark-kubernetes_2.11-2.4.4.jar\n",
      "spark-2.4.4-bin-hadoop2.7/jars/spark-hive_2.11-2.4.4.jar\n",
      "spark-2.4.4-bin-hadoop2.7/jars/spark-hive-thriftserver_2.11-2.4.4.jar\n",
      "spark-2.4.4-bin-hadoop2.7/jars/spark-graphx_2.11-2.4.4.jar\n",
      "spark-2.4.4-bin-hadoop2.7/jars/spark-core_2.11-2.4.4.jar\n",
      "spark-2.4.4-bin-hadoop2.7/jars/spark-catalyst_2.11-2.4.4.jar\n",
      "spark-2.4.4-bin-hadoop2.7/jars/snappy-java-1.1.7.3.jar\n",
      "spark-2.4.4-bin-hadoop2.7/jars/snappy-0.2.jar\n",
      "spark-2.4.4-bin-hadoop2.7/jars/snakeyaml-1.15.jar\n",
      "spark-2.4.4-bin-hadoop2.7/jars/slf4j-log4j12-1.7.16.jar\n",
      "spark-2.4.4-bin-hadoop2.7/jars/slf4j-api-1.7.16.jar\n",
      "spark-2.4.4-bin-hadoop2.7/jars/shims-0.7.45.jar\n",
      "spark-2.4.4-bin-hadoop2.7/jars/shapeless_2.11-2.3.2.jar\n",
      "spark-2.4.4-bin-hadoop2.7/jars/scala-xml_2.11-1.0.5.jar\n",
      "spark-2.4.4-bin-hadoop2.7/jars/scala-reflect-2.11.12.jar\n",
      "spark-2.4.4-bin-hadoop2.7/jars/scala-parser-combinators_2.11-1.1.0.jar\n",
      "spark-2.4.4-bin-hadoop2.7/jars/scala-library-2.11.12.jar\n",
      "spark-2.4.4-bin-hadoop2.7/jars/scala-compiler-2.11.12.jar\n",
      "spark-2.4.4-bin-hadoop2.7/jars/pyrolite-4.13.jar\n",
      "spark-2.4.4-bin-hadoop2.7/jars/py4j-0.10.7.jar\n",
      "spark-2.4.4-bin-hadoop2.7/jars/protobuf-java-2.5.0.jar\n",
      "spark-2.4.4-bin-hadoop2.7/jars/parquet-jackson-1.10.1.jar\n",
      "spark-2.4.4-bin-hadoop2.7/jars/parquet-hadoop-bundle-1.6.0.jar\n",
      "spark-2.4.4-bin-hadoop2.7/jars/parquet-hadoop-1.10.1.jar\n",
      "spark-2.4.4-bin-hadoop2.7/jars/parquet-format-2.4.0.jar\n",
      "spark-2.4.4-bin-hadoop2.7/jars/parquet-encoding-1.10.1.jar\n",
      "spark-2.4.4-bin-hadoop2.7/jars/parquet-common-1.10.1.jar\n",
      "spark-2.4.4-bin-hadoop2.7/jars/parquet-column-1.10.1.jar\n",
      "spark-2.4.4-bin-hadoop2.7/jars/paranamer-2.8.jar\n",
      "spark-2.4.4-bin-hadoop2.7/jars/osgi-resource-locator-1.0.1.jar\n",
      "spark-2.4.4-bin-hadoop2.7/jars/oro-2.0.8.jar\n",
      "spark-2.4.4-bin-hadoop2.7/jars/orc-shims-1.5.5.jar\n",
      "spark-2.4.4-bin-hadoop2.7/jars/orc-mapreduce-1.5.5-nohive.jar\n",
      "spark-2.4.4-bin-hadoop2.7/jars/orc-core-1.5.5-nohive.jar\n",
      "spark-2.4.4-bin-hadoop2.7/jars/opencsv-2.3.jar\n",
      "spark-2.4.4-bin-hadoop2.7/jars/okio-1.13.0.jar\n",
      "spark-2.4.4-bin-hadoop2.7/jars/okhttp-3.8.1.jar\n",
      "spark-2.4.4-bin-hadoop2.7/jars/objenesis-2.5.1.jar\n",
      "spark-2.4.4-bin-hadoop2.7/jars/netty-all-4.1.17.Final.jar\n",
      "spark-2.4.4-bin-hadoop2.7/jars/netty-3.9.9.Final.jar\n",
      "spark-2.4.4-bin-hadoop2.7/jars/minlog-1.3.0.jar\n",
      "spark-2.4.4-bin-hadoop2.7/jars/metrics-jvm-3.1.5.jar\n",
      "spark-2.4.4-bin-hadoop2.7/jars/metrics-json-3.1.5.jar\n",
      "spark-2.4.4-bin-hadoop2.7/jars/metrics-graphite-3.1.5.jar\n",
      "spark-2.4.4-bin-hadoop2.7/jars/metrics-core-3.1.5.jar\n",
      "spark-2.4.4-bin-hadoop2.7/jars/mesos-1.4.0-shaded-protobuf.jar\n",
      "spark-2.4.4-bin-hadoop2.7/jars/macro-compat_2.11-1.1.1.jar\n",
      "spark-2.4.4-bin-hadoop2.7/jars/machinist_2.11-0.6.1.jar\n",
      "spark-2.4.4-bin-hadoop2.7/jars/lz4-java-1.4.0.jar\n",
      "spark-2.4.4-bin-hadoop2.7/jars/logging-interceptor-3.12.0.jar\n",
      "spark-2.4.4-bin-hadoop2.7/jars/log4j-1.2.17.jar\n",
      "spark-2.4.4-bin-hadoop2.7/jars/libthrift-0.9.3.jar\n",
      "spark-2.4.4-bin-hadoop2.7/jars/libfb303-0.9.3.jar\n",
      "spark-2.4.4-bin-hadoop2.7/jars/leveldbjni-all-1.8.jar\n",
      "spark-2.4.4-bin-hadoop2.7/jars/kubernetes-model-common-4.1.2.jar\n",
      "spark-2.4.4-bin-hadoop2.7/jars/kubernetes-model-4.1.2.jar\n",
      "spark-2.4.4-bin-hadoop2.7/jars/kubernetes-client-4.1.2.jar\n",
      "spark-2.4.4-bin-hadoop2.7/jars/kryo-shaded-4.0.2.jar\n",
      "spark-2.4.4-bin-hadoop2.7/jars/jul-to-slf4j-1.7.16.jar\n",
      "spark-2.4.4-bin-hadoop2.7/jars/jtransforms-2.4.0.jar\n",
      "spark-2.4.4-bin-hadoop2.7/jars/jta-1.1.jar\n",
      "spark-2.4.4-bin-hadoop2.7/jars/jsr305-1.3.9.jar\n",
      "spark-2.4.4-bin-hadoop2.7/jars/jsp-api-2.1.jar\n",
      "spark-2.4.4-bin-hadoop2.7/jars/json4s-scalap_2.11-3.5.3.jar\n",
      "spark-2.4.4-bin-hadoop2.7/jars/json4s-jackson_2.11-3.5.3.jar\n",
      "spark-2.4.4-bin-hadoop2.7/jars/json4s-core_2.11-3.5.3.jar\n",
      "spark-2.4.4-bin-hadoop2.7/jars/json4s-ast_2.11-3.5.3.jar\n",
      "spark-2.4.4-bin-hadoop2.7/jars/jpam-1.1.jar\n",
      "spark-2.4.4-bin-hadoop2.7/jars/jodd-core-3.5.2.jar\n",
      "spark-2.4.4-bin-hadoop2.7/jars/joda-time-2.9.3.jar\n",
      "spark-2.4.4-bin-hadoop2.7/jars/jline-2.14.6.jar\n",
      "spark-2.4.4-bin-hadoop2.7/jars/jetty-util-6.1.26.jar\n",
      "spark-2.4.4-bin-hadoop2.7/jars/jetty-6.1.26.jar\n",
      "spark-2.4.4-bin-hadoop2.7/jars/jersey-server-2.22.2.jar\n",
      "spark-2.4.4-bin-hadoop2.7/jars/jersey-media-jaxb-2.22.2.jar\n",
      "spark-2.4.4-bin-hadoop2.7/jars/jersey-guava-2.22.2.jar\n",
      "spark-2.4.4-bin-hadoop2.7/jars/jersey-container-servlet-core-2.22.2.jar\n",
      "spark-2.4.4-bin-hadoop2.7/jars/jersey-container-servlet-2.22.2.jar\n",
      "spark-2.4.4-bin-hadoop2.7/jars/jersey-common-2.22.2.jar\n",
      "spark-2.4.4-bin-hadoop2.7/jars/jersey-client-2.22.2.jar\n",
      "spark-2.4.4-bin-hadoop2.7/jars/jdo-api-3.0.1.jar\n",
      "spark-2.4.4-bin-hadoop2.7/jars/jcl-over-slf4j-1.7.16.jar\n",
      "spark-2.4.4-bin-hadoop2.7/jars/jaxb-api-2.2.2.jar\n",
      "spark-2.4.4-bin-hadoop2.7/jars/javolution-5.5.1.jar\n",
      "spark-2.4.4-bin-hadoop2.7/jars/javax.ws.rs-api-2.0.1.jar\n",
      "spark-2.4.4-bin-hadoop2.7/jars/javax.servlet-api-3.1.0.jar\n",
      "spark-2.4.4-bin-hadoop2.7/jars/javax.inject-2.4.0-b34.jar\n",
      "spark-2.4.4-bin-hadoop2.7/jars/javax.inject-1.jar\n",
      "spark-2.4.4-bin-hadoop2.7/jars/javax.annotation-api-1.2.jar\n",
      "spark-2.4.4-bin-hadoop2.7/jars/javassist-3.18.1-GA.jar\n",
      "spark-2.4.4-bin-hadoop2.7/jars/janino-3.0.9.jar\n",
      "spark-2.4.4-bin-hadoop2.7/jars/jackson-xc-1.9.13.jar\n",
      "spark-2.4.4-bin-hadoop2.7/jars/jackson-module-scala_2.11-2.6.7.1.jar\n",
      "spark-2.4.4-bin-hadoop2.7/jars/jackson-module-paranamer-2.7.9.jar\n",
      "spark-2.4.4-bin-hadoop2.7/jars/jackson-module-jaxb-annotations-2.6.7.jar\n",
      "spark-2.4.4-bin-hadoop2.7/RELEASE\n"
     ]
    }
   ],
   "source": [
    "!tar -xvf spark-2.4.4-bin-hadoop2.7.tgz"
   ]
  },
  {
   "cell_type": "code",
   "execution_count": 0,
   "metadata": {
    "colab": {},
    "colab_type": "code",
    "id": "CFa51YFhY37b"
   },
   "outputs": [],
   "source": [
    "!pip install -q findspark"
   ]
  },
  {
   "cell_type": "code",
   "execution_count": 0,
   "metadata": {
    "colab": {},
    "colab_type": "code",
    "id": "7bP1vcujY9fM"
   },
   "outputs": [],
   "source": [
    "import os\n",
    "os.environ[\"JAVA_HOME\"] = \"/usr/lib/jvm/java-8-openjdk-amd64\"\n",
    "os.environ[\"SPARK_HOME\"] = \"/content/spark-2.4.4-bin-hadoop2.7\""
   ]
  },
  {
   "cell_type": "code",
   "execution_count": 0,
   "metadata": {
    "colab": {},
    "colab_type": "code",
    "id": "DybwDRAaZE_f"
   },
   "outputs": [],
   "source": [
    "import findspark\n",
    "findspark.init()\n",
    "from pyspark.sql import SparkSession\n",
    "\n",
    "spark = SparkSession.builder.master(\"local[*]\").getOrCreate()"
   ]
  },
  {
   "cell_type": "markdown",
   "metadata": {
    "colab_type": "text",
    "id": "-eTcKj8dFzGX"
   },
   "source": [
    "Имена столбцов задала еще в csv файле. Так мне показалось быстрее"
   ]
  },
  {
   "cell_type": "code",
   "execution_count": 0,
   "metadata": {
    "colab": {},
    "colab_type": "code",
    "id": "huD799w-ZNXu"
   },
   "outputs": [],
   "source": [
    "movies = spark.read.csv('item.csv', sep = '|', inferSchema=True, header=True)"
   ]
  },
  {
   "cell_type": "code",
   "execution_count": 57,
   "metadata": {
    "colab": {
     "base_uri": "https://localhost:8080/",
     "height": 479
    },
    "colab_type": "code",
    "id": "Lr28osNEZQIv",
    "outputId": "2de2f978-9e39-4993-a95e-f1d43c3d169d"
   },
   "outputs": [
    {
     "name": "stdout",
     "output_type": "stream",
     "text": [
      "+--------+--------------------+------------+------------------+--------------------+-------+------+---------+---------+----------+------+-----+-----------+-----+-------+---------+------+-------+-------+-------+------+--------+---+-------+\n",
      "|movie_ID|         movie title|release date|video release date|            IMDb URL|unknown|Action|Adventure|Animation|Children's|Comedy|Crime|Documentary|Drama|Fantasy|Film-Noir|Horror|Musical|Mystery|Romance|Sci-Fi|Thriller|War|Western|\n",
      "+--------+--------------------+------------+------------------+--------------------+-------+------+---------+---------+----------+------+-----+-----------+-----+-------+---------+------+-------+-------+-------+------+--------+---+-------+\n",
      "|       1|    Toy Story (1995)| 01-Jan-1995|              null|http://us.imdb.co...|      0|     0|        0|        1|         1|     1|    0|          0|    0|      0|        0|     0|      0|      0|      0|     0|       0|  0|      0|\n",
      "|       2|    GoldenEye (1995)| 01-Jan-1995|              null|http://us.imdb.co...|      0|     1|        1|        0|         0|     0|    0|          0|    0|      0|        0|     0|      0|      0|      0|     0|       1|  0|      0|\n",
      "|       3|   Four Rooms (1995)| 01-Jan-1995|              null|http://us.imdb.co...|      0|     0|        0|        0|         0|     0|    0|          0|    0|      0|        0|     0|      0|      0|      0|     0|       1|  0|      0|\n",
      "|       4|   Get Shorty (1995)| 01-Jan-1995|              null|http://us.imdb.co...|      0|     1|        0|        0|         0|     1|    0|          0|    1|      0|        0|     0|      0|      0|      0|     0|       0|  0|      0|\n",
      "|       5|      Copycat (1995)| 01-Jan-1995|              null|http://us.imdb.co...|      0|     0|        0|        0|         0|     0|    1|          0|    1|      0|        0|     0|      0|      0|      0|     0|       1|  0|      0|\n",
      "|       6|Shanghai Triad (Y...| 01-Jan-1995|              null|http://us.imdb.co...|      0|     0|        0|        0|         0|     0|    0|          0|    1|      0|        0|     0|      0|      0|      0|     0|       0|  0|      0|\n",
      "|       7|Twelve Monkeys (1...| 01-Jan-1995|              null|http://us.imdb.co...|      0|     0|        0|        0|         0|     0|    0|          0|    1|      0|        0|     0|      0|      0|      0|     1|       0|  0|      0|\n",
      "|       8|         Babe (1995)| 01-Jan-1995|              null|http://us.imdb.co...|      0|     0|        0|        0|         1|     1|    0|          0|    1|      0|        0|     0|      0|      0|      0|     0|       0|  0|      0|\n",
      "|       9|Dead Man Walking ...| 01-Jan-1995|              null|http://us.imdb.co...|      0|     0|        0|        0|         0|     0|    0|          0|    1|      0|        0|     0|      0|      0|      0|     0|       0|  0|      0|\n",
      "|      10|  Richard III (1995)| 22-Jan-1996|              null|http://us.imdb.co...|      0|     0|        0|        0|         0|     0|    0|          0|    1|      0|        0|     0|      0|      0|      0|     0|       0|  1|      0|\n",
      "|      11|Seven (Se7en) (1995)| 01-Jan-1995|              null|http://us.imdb.co...|      0|     0|        0|        0|         0|     0|    1|          0|    0|      0|        0|     0|      0|      0|      0|     0|       1|  0|      0|\n",
      "|      12|Usual Suspects, T...| 14-Aug-1995|              null|http://us.imdb.co...|      0|     0|        0|        0|         0|     0|    1|          0|    0|      0|        0|     0|      0|      0|      0|     0|       1|  0|      0|\n",
      "|      13|Mighty Aphrodite ...| 30-Oct-1995|              null|http://us.imdb.co...|      0|     0|        0|        0|         0|     1|    0|          0|    0|      0|        0|     0|      0|      0|      0|     0|       0|  0|      0|\n",
      "|      14|  Postino, Il (1994)| 01-Jan-1994|              null|http://us.imdb.co...|      0|     0|        0|        0|         0|     0|    0|          0|    1|      0|        0|     0|      0|      0|      1|     0|       0|  0|      0|\n",
      "|      15|Mr. Holland's Opu...| 29-Jan-1996|              null|http://us.imdb.co...|      0|     0|        0|        0|         0|     0|    0|          0|    1|      0|        0|     0|      0|      0|      0|     0|       0|  0|      0|\n",
      "|      16|French Twist (Gaz...| 01-Jan-1995|              null|http://us.imdb.co...|      0|     0|        0|        0|         0|     1|    0|          0|    0|      0|        0|     0|      0|      0|      1|     0|       0|  0|      0|\n",
      "|      17|From Dusk Till Da...| 05-Feb-1996|              null|http://us.imdb.co...|      0|     1|        0|        0|         0|     1|    1|          0|    0|      0|        0|     1|      0|      0|      0|     0|       1|  0|      0|\n",
      "|      18|White Balloon, Th...| 01-Jan-1995|              null|http://us.imdb.co...|      0|     0|        0|        0|         0|     0|    0|          0|    1|      0|        0|     0|      0|      0|      0|     0|       0|  0|      0|\n",
      "|      19|Antonia's Line (1...| 01-Jan-1995|              null|http://us.imdb.co...|      0|     0|        0|        0|         0|     0|    0|          0|    1|      0|        0|     0|      0|      0|      0|     0|       0|  0|      0|\n",
      "|      20|Angels and Insect...| 01-Jan-1995|              null|http://us.imdb.co...|      0|     0|        0|        0|         0|     0|    0|          0|    1|      0|        0|     0|      0|      0|      1|     0|       0|  0|      0|\n",
      "+--------+--------------------+------------+------------------+--------------------+-------+------+---------+---------+----------+------+-----+-----------+-----+-------+---------+------+-------+-------+-------+------+--------+---+-------+\n",
      "only showing top 20 rows\n",
      "\n"
     ]
    }
   ],
   "source": [
    "movies.show()"
   ]
  },
  {
   "cell_type": "code",
   "execution_count": 58,
   "metadata": {
    "colab": {
     "base_uri": "https://localhost:8080/",
     "height": 459
    },
    "colab_type": "code",
    "id": "jWI_ay5la48Z",
    "outputId": "169347e1-f9e3-4678-88b2-e9f092241d2f"
   },
   "outputs": [
    {
     "name": "stdout",
     "output_type": "stream",
     "text": [
      "root\n",
      " |-- movie_ID: integer (nullable = true)\n",
      " |-- movie title: string (nullable = true)\n",
      " |-- release date: string (nullable = true)\n",
      " |-- video release date: string (nullable = true)\n",
      " |-- IMDb URL: string (nullable = true)\n",
      " |-- unknown: integer (nullable = true)\n",
      " |-- Action: integer (nullable = true)\n",
      " |-- Adventure: integer (nullable = true)\n",
      " |-- Animation: integer (nullable = true)\n",
      " |-- Children's: integer (nullable = true)\n",
      " |-- Comedy: integer (nullable = true)\n",
      " |-- Crime: integer (nullable = true)\n",
      " |-- Documentary: integer (nullable = true)\n",
      " |-- Drama: integer (nullable = true)\n",
      " |-- Fantasy: integer (nullable = true)\n",
      " |-- Film-Noir: integer (nullable = true)\n",
      " |-- Horror: integer (nullable = true)\n",
      " |-- Musical: integer (nullable = true)\n",
      " |-- Mystery: integer (nullable = true)\n",
      " |-- Romance: integer (nullable = true)\n",
      " |-- Sci-Fi: integer (nullable = true)\n",
      " |-- Thriller: integer (nullable = true)\n",
      " |-- War: integer (nullable = true)\n",
      " |-- Western: integer (nullable = true)\n",
      "\n"
     ]
    }
   ],
   "source": [
    "movies.printSchema()"
   ]
  },
  {
   "cell_type": "code",
   "execution_count": 0,
   "metadata": {
    "colab": {},
    "colab_type": "code",
    "id": "HYJrxwjiZWvQ"
   },
   "outputs": [],
   "source": [
    "ratings = spark.read.csv('data.csv', sep = '\\t', inferSchema=True, header=True)"
   ]
  },
  {
   "cell_type": "code",
   "execution_count": 60,
   "metadata": {
    "colab": {
     "base_uri": "https://localhost:8080/",
     "height": 459
    },
    "colab_type": "code",
    "id": "sOcxGij4aP5c",
    "outputId": "83fc33a5-29b2-489b-a465-fd4105b54776"
   },
   "outputs": [
    {
     "name": "stdout",
     "output_type": "stream",
     "text": [
      "+-------+--------+------+---------+\n",
      "|user_ID|movie_ID|Rating|Timestamp|\n",
      "+-------+--------+------+---------+\n",
      "|    196|     242|     3|881250949|\n",
      "|    186|     302|     3|891717742|\n",
      "|     22|     377|     1|878887116|\n",
      "|    244|      51|     2|880606923|\n",
      "|    166|     346|     1|886397596|\n",
      "|    298|     474|     4|884182806|\n",
      "|    115|     265|     2|881171488|\n",
      "|    253|     465|     5|891628467|\n",
      "|    305|     451|     3|886324817|\n",
      "|      6|      86|     3|883603013|\n",
      "|     62|     257|     2|879372434|\n",
      "|    286|    1014|     5|879781125|\n",
      "|    200|     222|     5|876042340|\n",
      "|    210|      40|     3|891035994|\n",
      "|    224|      29|     3|888104457|\n",
      "|    303|     785|     3|879485318|\n",
      "|    122|     387|     5|879270459|\n",
      "|    194|     274|     2|879539794|\n",
      "|    291|    1042|     4|874834944|\n",
      "|    234|    1184|     2|892079237|\n",
      "+-------+--------+------+---------+\n",
      "only showing top 20 rows\n",
      "\n"
     ]
    }
   ],
   "source": [
    "ratings.show()"
   ]
  },
  {
   "cell_type": "code",
   "execution_count": 61,
   "metadata": {
    "colab": {
     "base_uri": "https://localhost:8080/",
     "height": 119
    },
    "colab_type": "code",
    "id": "1k4tdcxUiGNm",
    "outputId": "a83030ee-f118-4aac-b49d-cacd0b3f8bb4"
   },
   "outputs": [
    {
     "name": "stdout",
     "output_type": "stream",
     "text": [
      "root\n",
      " |-- user_ID: integer (nullable = true)\n",
      " |-- movie_ID: integer (nullable = true)\n",
      " |-- Rating: integer (nullable = true)\n",
      " |-- Timestamp: integer (nullable = true)\n",
      "\n"
     ]
    }
   ],
   "source": [
    "ratings.printSchema()"
   ]
  },
  {
   "cell_type": "markdown",
   "metadata": {
    "colab_type": "text",
    "id": "tc5AJTrsgF53"
   },
   "source": [
    "# 9. Средствами спарка вывести среднюю оценку для каждого фильма"
   ]
  },
  {
   "cell_type": "code",
   "execution_count": 0,
   "metadata": {
    "colab": {},
    "colab_type": "code",
    "id": "rZO0uobrkUTX"
   },
   "outputs": [],
   "source": [
    "from pyspark.sql.functions import format_number"
   ]
  },
  {
   "cell_type": "code",
   "execution_count": 63,
   "metadata": {
    "colab": {
     "base_uri": "https://localhost:8080/",
     "height": 459
    },
    "colab_type": "code",
    "id": "-Vi2XLbwaQX7",
    "outputId": "2df94c0c-5acc-476c-e067-7bb2e83203c6"
   },
   "outputs": [
    {
     "name": "stdout",
     "output_type": "stream",
     "text": [
      "+--------+------------------+\n",
      "|movie_ID|       avg(Rating)|\n",
      "+--------+------------------+\n",
      "|     496| 4.121212121212121|\n",
      "|     471|3.6108597285067874|\n",
      "|     463| 3.859154929577465|\n",
      "|     148|          3.203125|\n",
      "|    1342|               2.5|\n",
      "|     833| 3.204081632653061|\n",
      "|    1088| 2.230769230769231|\n",
      "|    1591|3.1666666666666665|\n",
      "|    1238|             3.125|\n",
      "|    1580|               1.0|\n",
      "|    1645|               4.0|\n",
      "|     392|3.5441176470588234|\n",
      "|     623| 2.923076923076923|\n",
      "|     540| 2.511627906976744|\n",
      "|     858|               1.0|\n",
      "|     737| 2.983050847457627|\n",
      "|     243|2.4393939393939394|\n",
      "|    1025|2.9318181818181817|\n",
      "|    1084| 3.857142857142857|\n",
      "|    1127| 2.909090909090909|\n",
      "+--------+------------------+\n",
      "only showing top 20 rows\n",
      "\n"
     ]
    }
   ],
   "source": [
    "ratings.select(['movie_ID','Rating']).groupby(\"movie_ID\").mean('Rating').show()"
   ]
  },
  {
   "cell_type": "markdown",
   "metadata": {
    "colab_type": "text",
    "id": "YY_pnxe9nEKS"
   },
   "source": [
    "# 10. Посчитайте средствами спарка среднюю оценку для каждого жанра"
   ]
  },
  {
   "cell_type": "code",
   "execution_count": 64,
   "metadata": {
    "colab": {
     "base_uri": "https://localhost:8080/",
     "height": 459
    },
    "colab_type": "code",
    "id": "Xqu-s6wQptQK",
    "outputId": "23f39d19-bdd7-4f4d-c4d3-d76e72d95dca"
   },
   "outputs": [
    {
     "name": "stdout",
     "output_type": "stream",
     "text": [
      "+--------+-------+------+---------+---------+----------+------+-----+-----------+-----+-------+---------+------+-------+-------+-------+------+--------+---+-------+\n",
      "|movie_ID|unknown|Action|Adventure|Animation|Children's|Comedy|Crime|Documentary|Drama|Fantasy|Film-Noir|Horror|Musical|Mystery|Romance|Sci-Fi|Thriller|War|Western|\n",
      "+--------+-------+------+---------+---------+----------+------+-----+-----------+-----+-------+---------+------+-------+-------+-------+------+--------+---+-------+\n",
      "|       1|      0|     0|        0|        1|         1|     1|    0|          0|    0|      0|        0|     0|      0|      0|      0|     0|       0|  0|      0|\n",
      "|       2|      0|     1|        1|        0|         0|     0|    0|          0|    0|      0|        0|     0|      0|      0|      0|     0|       1|  0|      0|\n",
      "|       3|      0|     0|        0|        0|         0|     0|    0|          0|    0|      0|        0|     0|      0|      0|      0|     0|       1|  0|      0|\n",
      "|       4|      0|     1|        0|        0|         0|     1|    0|          0|    1|      0|        0|     0|      0|      0|      0|     0|       0|  0|      0|\n",
      "|       5|      0|     0|        0|        0|         0|     0|    1|          0|    1|      0|        0|     0|      0|      0|      0|     0|       1|  0|      0|\n",
      "|       6|      0|     0|        0|        0|         0|     0|    0|          0|    1|      0|        0|     0|      0|      0|      0|     0|       0|  0|      0|\n",
      "|       7|      0|     0|        0|        0|         0|     0|    0|          0|    1|      0|        0|     0|      0|      0|      0|     1|       0|  0|      0|\n",
      "|       8|      0|     0|        0|        0|         1|     1|    0|          0|    1|      0|        0|     0|      0|      0|      0|     0|       0|  0|      0|\n",
      "|       9|      0|     0|        0|        0|         0|     0|    0|          0|    1|      0|        0|     0|      0|      0|      0|     0|       0|  0|      0|\n",
      "|      10|      0|     0|        0|        0|         0|     0|    0|          0|    1|      0|        0|     0|      0|      0|      0|     0|       0|  1|      0|\n",
      "|      11|      0|     0|        0|        0|         0|     0|    1|          0|    0|      0|        0|     0|      0|      0|      0|     0|       1|  0|      0|\n",
      "|      12|      0|     0|        0|        0|         0|     0|    1|          0|    0|      0|        0|     0|      0|      0|      0|     0|       1|  0|      0|\n",
      "|      13|      0|     0|        0|        0|         0|     1|    0|          0|    0|      0|        0|     0|      0|      0|      0|     0|       0|  0|      0|\n",
      "|      14|      0|     0|        0|        0|         0|     0|    0|          0|    1|      0|        0|     0|      0|      0|      1|     0|       0|  0|      0|\n",
      "|      15|      0|     0|        0|        0|         0|     0|    0|          0|    1|      0|        0|     0|      0|      0|      0|     0|       0|  0|      0|\n",
      "|      16|      0|     0|        0|        0|         0|     1|    0|          0|    0|      0|        0|     0|      0|      0|      1|     0|       0|  0|      0|\n",
      "|      17|      0|     1|        0|        0|         0|     1|    1|          0|    0|      0|        0|     1|      0|      0|      0|     0|       1|  0|      0|\n",
      "|      18|      0|     0|        0|        0|         0|     0|    0|          0|    1|      0|        0|     0|      0|      0|      0|     0|       0|  0|      0|\n",
      "|      19|      0|     0|        0|        0|         0|     0|    0|          0|    1|      0|        0|     0|      0|      0|      0|     0|       0|  0|      0|\n",
      "|      20|      0|     0|        0|        0|         0|     0|    0|          0|    1|      0|        0|     0|      0|      0|      1|     0|       0|  0|      0|\n",
      "+--------+-------+------+---------+---------+----------+------+-----+-----------+-----+-------+---------+------+-------+-------+-------+------+--------+---+-------+\n",
      "only showing top 20 rows\n",
      "\n"
     ]
    }
   ],
   "source": [
    "movies_dropped = movies.select(['movie_ID', 'unknown', 'Action', 'Adventure', 'Animation', \"Children's\", 'Comedy', 'Crime', 'Documentary', 'Drama', 'Fantasy', 'Film-Noir', 'Horror', 'Musical', 'Mystery', 'Romance', 'Sci-Fi', 'Thriller', 'War', 'Western'])\n",
    "movies_dropped.show()"
   ]
  },
  {
   "cell_type": "code",
   "execution_count": 0,
   "metadata": {
    "colab": {},
    "colab_type": "code",
    "id": "MQ-vHJPks953"
   },
   "outputs": [],
   "source": [
    "ratings_dropped = ratings.select(['movie_ID', 'Rating'])"
   ]
  },
  {
   "cell_type": "code",
   "execution_count": 72,
   "metadata": {
    "colab": {
     "base_uri": "https://localhost:8080/",
     "height": 479
    },
    "colab_type": "code",
    "id": "B4OqnUg3aQzj",
    "outputId": "ec874e50-8980-4e7f-ce01-64b8f7a0ae55"
   },
   "outputs": [
    {
     "name": "stdout",
     "output_type": "stream",
     "text": [
      "+--------+------+-------+------+---------+---------+----------+------+-----+-----------+-----+-------+---------+------+-------+-------+-------+------+--------+---+-------+\n",
      "|movie_ID|Rating|unknown|Action|Adventure|Animation|Children's|Comedy|Crime|Documentary|Drama|Fantasy|Film-Noir|Horror|Musical|Mystery|Romance|Sci-Fi|Thriller|War|Western|\n",
      "+--------+------+-------+------+---------+---------+----------+------+-----+-----------+-----+-------+---------+------+-------+-------+-------+------+--------+---+-------+\n",
      "|     242|     3|      0|     0|        0|        0|         0|     1|    0|          0|    0|      0|        0|     0|      0|      0|      0|     0|       0|  0|      0|\n",
      "|     302|     3|      0|     0|        0|        0|         0|     0|    1|          0|    0|      0|        1|     0|      0|      1|      0|     0|       1|  0|      0|\n",
      "|     377|     1|      0|     0|        0|        0|         1|     1|    0|          0|    0|      0|        0|     0|      0|      0|      0|     0|       0|  0|      0|\n",
      "|      51|     2|      0|     0|        0|        0|         0|     0|    0|          0|    1|      0|        0|     0|      0|      0|      1|     0|       0|  1|      1|\n",
      "|     346|     1|      0|     0|        0|        0|         0|     0|    1|          0|    1|      0|        0|     0|      0|      0|      0|     0|       0|  0|      0|\n",
      "|     474|     4|      0|     0|        0|        0|         0|     0|    0|          0|    0|      0|        0|     0|      0|      0|      0|     1|       0|  1|      0|\n",
      "|     265|     2|      0|     1|        0|        0|         0|     0|    0|          0|    0|      0|        0|     0|      0|      0|      0|     0|       1|  0|      0|\n",
      "|     465|     5|      0|     0|        1|        0|         1|     0|    0|          0|    0|      0|        0|     0|      0|      0|      1|     0|       0|  0|      0|\n",
      "|     451|     3|      0|     0|        0|        0|         0|     1|    0|          0|    0|      0|        0|     0|      1|      0|      1|     0|       0|  0|      0|\n",
      "|      86|     3|      0|     0|        0|        0|         0|     0|    0|          0|    1|      0|        0|     0|      0|      0|      0|     0|       0|  0|      0|\n",
      "|     257|     2|      0|     1|        1|        0|         0|     1|    0|          0|    0|      0|        0|     0|      0|      0|      0|     1|       0|  0|      0|\n",
      "|    1014|     5|      0|     0|        0|        0|         0|     1|    0|          0|    0|      0|        0|     0|      0|      0|      0|     0|       0|  0|      0|\n",
      "|     222|     5|      0|     1|        1|        0|         0|     0|    0|          0|    0|      0|        0|     0|      0|      0|      0|     1|       0|  0|      0|\n",
      "|      40|     3|      0|     0|        0|        0|         0|     1|    0|          0|    0|      0|        0|     0|      0|      0|      0|     0|       0|  0|      0|\n",
      "|      29|     3|      0|     1|        1|        0|         0|     1|    1|          0|    0|      0|        0|     0|      0|      0|      0|     0|       0|  0|      0|\n",
      "|     785|     3|      0|     0|        0|        0|         0|     1|    0|          0|    0|      0|        0|     0|      0|      0|      1|     0|       0|  0|      0|\n",
      "|     387|     5|      0|     0|        0|        0|         0|     0|    0|          0|    1|      0|        0|     0|      0|      0|      0|     0|       0|  0|      0|\n",
      "|     274|     2|      0|     0|        0|        0|         0|     1|    0|          0|    0|      0|        0|     0|      0|      0|      1|     0|       0|  0|      0|\n",
      "|    1042|     4|      0|     0|        0|        0|         0|     0|    0|          0|    0|      0|        0|     0|      0|      1|      0|     0|       1|  0|      0|\n",
      "|    1184|     2|      0|     0|        0|        0|         0|     0|    0|          1|    0|      0|        0|     0|      0|      0|      0|     0|       0|  0|      0|\n",
      "+--------+------+-------+------+---------+---------+----------+------+-----+-----------+-----+-------+---------+------+-------+-------+-------+------+--------+---+-------+\n",
      "only showing top 20 rows\n",
      "\n"
     ]
    }
   ],
   "source": [
    "from pyspark.sql import Row\n",
    "movies_with_avg= ratings_dropped.join(movies_dropped, 'movie_ID', how = 'inner')\n",
    "movies_with_avg.show()"
   ]
  },
  {
   "cell_type": "markdown",
   "metadata": {
    "colab_type": "text",
    "id": "fSuequjBGDDy"
   },
   "source": [
    "Не самое изящное решение"
   ]
  },
  {
   "cell_type": "code",
   "execution_count": 73,
   "metadata": {
    "colab": {
     "base_uri": "https://localhost:8080/",
     "height": 119
    },
    "colab_type": "code",
    "id": "fj5BD1ROnCn4",
    "outputId": "eda298a1-cb5d-457b-e4f8-55d09d109e2c"
   },
   "outputs": [
    {
     "name": "stdout",
     "output_type": "stream",
     "text": [
      "+-------+-----------+\n",
      "|unknown|avg(Rating)|\n",
      "+-------+-----------+\n",
      "|      1|        3.2|\n",
      "+-------+-----------+\n",
      "\n"
     ]
    }
   ],
   "source": [
    "movies_with_avg_unknown = movies_with_avg.where(movies_with_avg['unknown'] == 1).select(['unknown','Rating']).groupby(\"unknown\").mean('Rating').show()"
   ]
  },
  {
   "cell_type": "code",
   "execution_count": 85,
   "metadata": {
    "colab": {
     "base_uri": "https://localhost:8080/",
     "height": 119
    },
    "colab_type": "code",
    "id": "63lr8-DqnDCg",
    "outputId": "d6fe6b60-d6b4-4f46-b58f-e91cc7a1fe9a"
   },
   "outputs": [
    {
     "name": "stdout",
     "output_type": "stream",
     "text": [
      "+------+-----------------+\n",
      "|Action|      avg(Rating)|\n",
      "+------+-----------------+\n",
      "|     1|3.480245417953027|\n",
      "+------+-----------------+\n",
      "\n"
     ]
    }
   ],
   "source": [
    "movies_with_avg_Action = movies_with_avg.where(movies_with_avg['Action'] == 1).select(['Action','Rating']).groupby(\"Action\").mean('Rating').show()"
   ]
  },
  {
   "cell_type": "code",
   "execution_count": 91,
   "metadata": {
    "colab": {
     "base_uri": "https://localhost:8080/",
     "height": 119
    },
    "colab_type": "code",
    "id": "cfbNWAInnDc3",
    "outputId": "eef732e6-4f8a-4aad-8887-e16031618e91"
   },
   "outputs": [
    {
     "name": "stdout",
     "output_type": "stream",
     "text": [
      "+---------+-----------------+\n",
      "|Adventure|      avg(Rating)|\n",
      "+---------+-----------------+\n",
      "|        1|3.503526503308369|\n",
      "+---------+-----------------+\n",
      "\n"
     ]
    }
   ],
   "source": [
    "movies_with_avg_Adventure = movies_with_avg.where(movies_with_avg['Adventure'] == 1).select(['Adventure','Rating']).groupby(\"Adventure\").mean('Rating').show()"
   ]
  },
  {
   "cell_type": "code",
   "execution_count": 92,
   "metadata": {
    "colab": {
     "base_uri": "https://localhost:8080/",
     "height": 119
    },
    "colab_type": "code",
    "id": "H4ZmBfCLaRGT",
    "outputId": "526b6f9d-991b-4127-ed38-1426c8e05229"
   },
   "outputs": [
    {
     "name": "stdout",
     "output_type": "stream",
     "text": [
      "+---------+------------------+\n",
      "|Animation|       avg(Rating)|\n",
      "+---------+------------------+\n",
      "|        1|3.5766990291262135|\n",
      "+---------+------------------+\n",
      "\n"
     ]
    }
   ],
   "source": [
    "movies_with_avg_Animation = movies_with_avg.where(movies_with_avg['Animation'] == 1).select(['Animation','Rating']).groupby(\"Animation\").mean('Rating').show()"
   ]
  },
  {
   "cell_type": "code",
   "execution_count": 93,
   "metadata": {
    "colab": {
     "base_uri": "https://localhost:8080/",
     "height": 119
    },
    "colab_type": "code",
    "id": "efGnoToW06a7",
    "outputId": "6ff7cc7c-0d6f-4088-ebf8-f9ca4a7352ad"
   },
   "outputs": [
    {
     "name": "stdout",
     "output_type": "stream",
     "text": [
      "+----------+------------------+\n",
      "|Children's|       avg(Rating)|\n",
      "+----------+------------------+\n",
      "|         1|3.3532442216652742|\n",
      "+----------+------------------+\n",
      "\n"
     ]
    }
   ],
   "source": [
    "movies_with_avg_Children = movies_with_avg.where(movies_with_avg[\"Children's\"] == 1).select([\"Children's\",'Rating']).groupby(\"Children's\").mean('Rating').show()"
   ]
  },
  {
   "cell_type": "code",
   "execution_count": 94,
   "metadata": {
    "colab": {
     "base_uri": "https://localhost:8080/",
     "height": 119
    },
    "colab_type": "code",
    "id": "soWZDtKI06sx",
    "outputId": "d005b624-2d8d-4beb-fca2-90ec784c7e8d"
   },
   "outputs": [
    {
     "name": "stdout",
     "output_type": "stream",
     "text": [
      "+------+------------------+\n",
      "|Comedy|       avg(Rating)|\n",
      "+------+------------------+\n",
      "|     1|3.3940734781442745|\n",
      "+------+------------------+\n",
      "\n"
     ]
    }
   ],
   "source": [
    "movies_with_avg_Comedy = movies_with_avg.where(movies_with_avg[\"Comedy\"] == 1).select([\"Comedy\",'Rating']).groupby(\"Comedy\").mean('Rating').show()"
   ]
  },
  {
   "cell_type": "code",
   "execution_count": 95,
   "metadata": {
    "colab": {
     "base_uri": "https://localhost:8080/",
     "height": 119
    },
    "colab_type": "code",
    "id": "_a5PeyFH069B",
    "outputId": "42e30d2b-953b-4cae-9dc8-ad5d7c793e17"
   },
   "outputs": [
    {
     "name": "stdout",
     "output_type": "stream",
     "text": [
      "+-----+------------------+\n",
      "|Crime|       avg(Rating)|\n",
      "+-----+------------------+\n",
      "|    1|3.6322780881440098|\n",
      "+-----+------------------+\n",
      "\n"
     ]
    }
   ],
   "source": [
    "movies_with_avg_Crime = movies_with_avg.where(movies_with_avg[\"Crime\"] == 1).select([\"Crime\",'Rating']).groupby(\"Crime\").mean('Rating').show()"
   ]
  },
  {
   "cell_type": "code",
   "execution_count": 96,
   "metadata": {
    "colab": {
     "base_uri": "https://localhost:8080/",
     "height": 119
    },
    "colab_type": "code",
    "id": "b5Djaa3J07P0",
    "outputId": "ba11a399-75ff-4fe7-b23b-e41f61cdc8db"
   },
   "outputs": [
    {
     "name": "stdout",
     "output_type": "stream",
     "text": [
      "+-----------+------------------+\n",
      "|Documentary|       avg(Rating)|\n",
      "+-----------+------------------+\n",
      "|          1|3.6728232189973613|\n",
      "+-----------+------------------+\n",
      "\n"
     ]
    }
   ],
   "source": [
    "movies_with_avg_Documentary = movies_with_avg.where(movies_with_avg[\"Documentary\"] == 1).select([\"Documentary\",'Rating']).groupby(\"Documentary\").mean('Rating').show()"
   ]
  },
  {
   "cell_type": "code",
   "execution_count": 97,
   "metadata": {
    "colab": {
     "base_uri": "https://localhost:8080/",
     "height": 119
    },
    "colab_type": "code",
    "id": "ffhSl-4K07i0",
    "outputId": "12fcedc6-307f-4cc3-c32c-004fa43279a3"
   },
   "outputs": [
    {
     "name": "stdout",
     "output_type": "stream",
     "text": [
      "+-----+------------------+\n",
      "|Drama|       avg(Rating)|\n",
      "+-----+------------------+\n",
      "|    1|3.6873793708484772|\n",
      "+-----+------------------+\n",
      "\n"
     ]
    }
   ],
   "source": [
    "movies_with_avg_Drama = movies_with_avg.where(movies_with_avg[\"Drama\"] == 1).select([\"Drama\",'Rating']).groupby(\"Drama\").mean('Rating').show()"
   ]
  },
  {
   "cell_type": "code",
   "execution_count": 98,
   "metadata": {
    "colab": {
     "base_uri": "https://localhost:8080/",
     "height": 119
    },
    "colab_type": "code",
    "id": "jm9BB4hS070p",
    "outputId": "84080f68-ab87-4160-c6bd-753a1ad35e7c"
   },
   "outputs": [
    {
     "name": "stdout",
     "output_type": "stream",
     "text": [
      "+-------+------------------+\n",
      "|Fantasy|       avg(Rating)|\n",
      "+-------+------------------+\n",
      "|      1|3.2152366863905324|\n",
      "+-------+------------------+\n",
      "\n"
     ]
    }
   ],
   "source": [
    "movies_with_avg_Fantasy = movies_with_avg.where(movies_with_avg[\"Fantasy\"] == 1).select([\"Fantasy\",'Rating']).groupby(\"Fantasy\").mean('Rating').show()"
   ]
  },
  {
   "cell_type": "code",
   "execution_count": 100,
   "metadata": {
    "colab": {
     "base_uri": "https://localhost:8080/",
     "height": 119
    },
    "colab_type": "code",
    "id": "k3JVYjK86205",
    "outputId": "60587edd-6559-45d8-a80c-8cd18df7eda1"
   },
   "outputs": [
    {
     "name": "stdout",
     "output_type": "stream",
     "text": [
      "+---------+------------------+\n",
      "|Film-Noir|       avg(Rating)|\n",
      "+---------+------------------+\n",
      "|        1|3.9215233698788228|\n",
      "+---------+------------------+\n",
      "\n"
     ]
    }
   ],
   "source": [
    "movies_with_avg_Film_Noir = movies_with_avg.where(movies_with_avg[\"Film-Noir\"] == 1).select([\"Film-Noir\",'Rating']).groupby(\"Film-Noir\").mean('Rating').show()"
   ]
  },
  {
   "cell_type": "code",
   "execution_count": 101,
   "metadata": {
    "colab": {
     "base_uri": "https://localhost:8080/",
     "height": 119
    },
    "colab_type": "code",
    "id": "comkwqbx63S8",
    "outputId": "589c9f11-ba7c-49f1-f0c2-7b7fcaf12164"
   },
   "outputs": [
    {
     "name": "stdout",
     "output_type": "stream",
     "text": [
      "+------+------------------+\n",
      "|Horror|       avg(Rating)|\n",
      "+------+------------------+\n",
      "|     1|3.2903893172841827|\n",
      "+------+------------------+\n",
      "\n"
     ]
    }
   ],
   "source": [
    "movies_with_avg_Horror = movies_with_avg.where(movies_with_avg[\"Horror\"] == 1).select([\"Horror\",'Rating']).groupby(\"Horror\").mean('Rating').show()"
   ]
  },
  {
   "cell_type": "code",
   "execution_count": 102,
   "metadata": {
    "colab": {
     "base_uri": "https://localhost:8080/",
     "height": 119
    },
    "colab_type": "code",
    "id": "mulFS2UL63tk",
    "outputId": "77375d2b-eb95-4d83-e155-7716d7075673"
   },
   "outputs": [
    {
     "name": "stdout",
     "output_type": "stream",
     "text": [
      "+-------+-----------------+\n",
      "|Musical|      avg(Rating)|\n",
      "+-------+-----------------+\n",
      "|      1|3.521396851029471|\n",
      "+-------+-----------------+\n",
      "\n"
     ]
    }
   ],
   "source": [
    "movies_with_avg_Musical = movies_with_avg.where(movies_with_avg[\"Musical\"] == 1).select([\"Musical\",'Rating']).groupby(\"Musical\").mean('Rating').show()"
   ]
  },
  {
   "cell_type": "code",
   "execution_count": 103,
   "metadata": {
    "colab": {
     "base_uri": "https://localhost:8080/",
     "height": 119
    },
    "colab_type": "code",
    "id": "LQrXLELa64CP",
    "outputId": "68f155b9-3620-4a8b-fbb7-2809d252d671"
   },
   "outputs": [
    {
     "name": "stdout",
     "output_type": "stream",
     "text": [
      "+-------+----------------+\n",
      "|Mystery|     avg(Rating)|\n",
      "+-------+----------------+\n",
      "|      1|3.63813155386082|\n",
      "+-------+----------------+\n",
      "\n"
     ]
    }
   ],
   "source": [
    "movies_with_avg_Mystery = movies_with_avg.where(movies_with_avg[\"Mystery\"] == 1).select([\"Mystery\",'Rating']).groupby(\"Mystery\").mean('Rating').show()"
   ]
  },
  {
   "cell_type": "code",
   "execution_count": 104,
   "metadata": {
    "colab": {
     "base_uri": "https://localhost:8080/",
     "height": 119
    },
    "colab_type": "code",
    "id": "qa6E__HY64Xc",
    "outputId": "9e6b43c3-9368-46b8-f4bc-c04a28b66715"
   },
   "outputs": [
    {
     "name": "stdout",
     "output_type": "stream",
     "text": [
      "+-------+-----------------+\n",
      "|Romance|      avg(Rating)|\n",
      "+-------+-----------------+\n",
      "|      1|3.621704948358255|\n",
      "+-------+-----------------+\n",
      "\n"
     ]
    }
   ],
   "source": [
    "movies_with_avg_Romance = movies_with_avg.where(movies_with_avg[\"Romance\"] == 1).select([\"Romance\",'Rating']).groupby(\"Romance\").mean('Rating').show()"
   ]
  },
  {
   "cell_type": "code",
   "execution_count": 105,
   "metadata": {
    "colab": {
     "base_uri": "https://localhost:8080/",
     "height": 119
    },
    "colab_type": "code",
    "id": "AxDRCd0B64r9",
    "outputId": "e16f158a-be33-40f4-8701-b1ec5d8f59d7"
   },
   "outputs": [
    {
     "name": "stdout",
     "output_type": "stream",
     "text": [
      "+------+------------------+\n",
      "|Sci-Fi|       avg(Rating)|\n",
      "+------+------------------+\n",
      "|     1|3.5607227022780834|\n",
      "+------+------------------+\n",
      "\n"
     ]
    }
   ],
   "source": [
    "movies_with_avg_Sci_Fi = movies_with_avg.where(movies_with_avg[\"Sci-Fi\"] == 1).select([\"Sci-Fi\",'Rating']).groupby(\"Sci-Fi\").mean('Rating').show()"
   ]
  },
  {
   "cell_type": "code",
   "execution_count": 106,
   "metadata": {
    "colab": {
     "base_uri": "https://localhost:8080/",
     "height": 119
    },
    "colab_type": "code",
    "id": "xaEJEC4I66Xh",
    "outputId": "eb3d4158-5736-4ed9-efdb-bdfdca46774f"
   },
   "outputs": [
    {
     "name": "stdout",
     "output_type": "stream",
     "text": [
      "+--------+------------------+\n",
      "|Thriller|       avg(Rating)|\n",
      "+--------+------------------+\n",
      "|       1|3.5090069495245064|\n",
      "+--------+------------------+\n",
      "\n"
     ]
    }
   ],
   "source": [
    "movies_with_avg_Thriller = movies_with_avg.where(movies_with_avg[\"Thriller\"] == 1).select([\"Thriller\",'Rating']).groupby(\"Thriller\").mean('Rating').show()"
   ]
  },
  {
   "cell_type": "code",
   "execution_count": 107,
   "metadata": {
    "colab": {
     "base_uri": "https://localhost:8080/",
     "height": 119
    },
    "colab_type": "code",
    "id": "1xw9eJDM662f",
    "outputId": "e9121d1f-244d-401f-91f0-ce29193fc73a"
   },
   "outputs": [
    {
     "name": "stdout",
     "output_type": "stream",
     "text": [
      "+---+-----------------+\n",
      "|War|      avg(Rating)|\n",
      "+---+-----------------+\n",
      "|  1|3.815811874866993|\n",
      "+---+-----------------+\n",
      "\n"
     ]
    }
   ],
   "source": [
    "movies_with_avg_War = movies_with_avg.where(movies_with_avg[\"War\"] == 1).select([\"War\",'Rating']).groupby(\"War\").mean('Rating').show()"
   ]
  },
  {
   "cell_type": "code",
   "execution_count": 108,
   "metadata": {
    "colab": {
     "base_uri": "https://localhost:8080/",
     "height": 119
    },
    "colab_type": "code",
    "id": "9JZxsiBU67Nr",
    "outputId": "969ee903-965d-45ac-93e8-bf35f9317462"
   },
   "outputs": [
    {
     "name": "stdout",
     "output_type": "stream",
     "text": [
      "+-------+------------------+\n",
      "|Western|       avg(Rating)|\n",
      "+-------+------------------+\n",
      "|      1|3.6132686084142396|\n",
      "+-------+------------------+\n",
      "\n"
     ]
    }
   ],
   "source": [
    "movies_with_avg_Western = movies_with_avg.where(movies_with_avg[\"Western\"] == 1).select([\"Western\",'Rating']).groupby(\"Western\").mean('Rating').show()"
   ]
  },
  {
   "cell_type": "markdown",
   "metadata": {
    "colab_type": "text",
    "id": "xa380HB78wB9"
   },
   "source": [
    "# 11. В спарке получить 2 датафрейма с 5-ю самыми популярными и самыми непопулярными фильмами (по количеству оценок, либо по самой оценке - на Ваш выбор)"
   ]
  },
  {
   "cell_type": "markdown",
   "metadata": {
    "colab_type": "text",
    "id": "nQmQhGtxGKXm"
   },
   "source": [
    "Сначала создаю датафреймы по количеству оценок"
   ]
  },
  {
   "cell_type": "code",
   "execution_count": 0,
   "metadata": {
    "colab": {},
    "colab_type": "code",
    "id": "mSjAQbJl67kb"
   },
   "outputs": [],
   "source": [
    "from pyspark.sql.functions import col\n",
    "top5 = movies_with_avg.select([\"movie_ID\",'Rating']).groupby(\"movie_ID\").count().sort(col(\"count\").desc()).limit(5)"
   ]
  },
  {
   "cell_type": "code",
   "execution_count": 147,
   "metadata": {
    "colab": {
     "base_uri": "https://localhost:8080/",
     "height": 187
    },
    "colab_type": "code",
    "id": "Uw0XmtdgAUK9",
    "outputId": "d8233ed8-ea1a-45b3-a660-93599dc50f5b"
   },
   "outputs": [
    {
     "name": "stdout",
     "output_type": "stream",
     "text": [
      "+--------+-----+\n",
      "|movie_ID|count|\n",
      "+--------+-----+\n",
      "|      50|  583|\n",
      "|     258|  509|\n",
      "|     100|  508|\n",
      "|     181|  507|\n",
      "|     294|  485|\n",
      "+--------+-----+\n",
      "\n"
     ]
    }
   ],
   "source": [
    "top5.show()"
   ]
  },
  {
   "cell_type": "code",
   "execution_count": 0,
   "metadata": {
    "colab": {},
    "colab_type": "code",
    "id": "D7HJorwDAt-j"
   },
   "outputs": [],
   "source": [
    "down5 = movies_with_avg.select([\"movie_ID\",'Rating']).groupby(\"movie_ID\").count().sort(\"count\").limit(5)\n"
   ]
  },
  {
   "cell_type": "code",
   "execution_count": 148,
   "metadata": {
    "colab": {
     "base_uri": "https://localhost:8080/",
     "height": 187
    },
    "colab_type": "code",
    "id": "l-_P-qYBB8Js",
    "outputId": "2df40953-b680-4dd8-95d9-1fee76367922"
   },
   "outputs": [
    {
     "name": "stdout",
     "output_type": "stream",
     "text": [
      "+--------+-----+\n",
      "|movie_ID|count|\n",
      "+--------+-----+\n",
      "|    1618|    1|\n",
      "|    1533|    1|\n",
      "|    1339|    1|\n",
      "|    1460|    1|\n",
      "|    1650|    1|\n",
      "+--------+-----+\n",
      "\n"
     ]
    }
   ],
   "source": [
    "down5.show()"
   ]
  },
  {
   "cell_type": "markdown",
   "metadata": {
    "colab_type": "text",
    "id": "5bEMCR44GWK0"
   },
   "source": [
    "Датафреймы по самой оценке"
   ]
  },
  {
   "cell_type": "code",
   "execution_count": 152,
   "metadata": {
    "colab": {
     "base_uri": "https://localhost:8080/",
     "height": 187
    },
    "colab_type": "code",
    "id": "6k_7CAybEQS_",
    "outputId": "30f991ff-d2eb-4900-f285-008f5ba0372a"
   },
   "outputs": [
    {
     "name": "stdout",
     "output_type": "stream",
     "text": [
      "+--------+------+\n",
      "|movie_ID|Rating|\n",
      "+--------+------+\n",
      "|      95|     5|\n",
      "|     201|     5|\n",
      "|     234|     5|\n",
      "|     465|     5|\n",
      "|     603|     5|\n",
      "+--------+------+\n",
      "\n"
     ]
    }
   ],
   "source": [
    "top5_score = movies_with_avg.select([\"movie_ID\",'Rating']).sort(col(\"Rating\").desc()).limit(5).show()"
   ]
  },
  {
   "cell_type": "code",
   "execution_count": 153,
   "metadata": {
    "colab": {
     "base_uri": "https://localhost:8080/",
     "height": 187
    },
    "colab_type": "code",
    "id": "Aa4GHyJkFYsX",
    "outputId": "c03bc16f-a7cb-4eff-a62f-6e1298aaae83"
   },
   "outputs": [
    {
     "name": "stdout",
     "output_type": "stream",
     "text": [
      "+--------+------+\n",
      "|movie_ID|Rating|\n",
      "+--------+------+\n",
      "|    1081|     1|\n",
      "|    1049|     1|\n",
      "|     796|     1|\n",
      "|     346|     1|\n",
      "|     288|     1|\n",
      "+--------+------+\n",
      "\n"
     ]
    }
   ],
   "source": [
    "down5_score = movies_with_avg.select([\"movie_ID\",'Rating']).sort(col(\"Rating\").asc()).limit(5).show()"
   ]
  },
  {
   "cell_type": "code",
   "execution_count": 0,
   "metadata": {
    "colab": {},
    "colab_type": "code",
    "id": "P8kf5OoQFnDK"
   },
   "outputs": [],
   "source": []
  }
 ],
 "metadata": {
  "colab": {
   "collapsed_sections": [],
   "name": "Copy of Welcome To Colaboratory",
   "provenance": [],
   "toc_visible": true
  },
  "kernelspec": {
   "display_name": "Python 3",
   "language": "python",
   "name": "python3"
  },
  "language_info": {
   "codemirror_mode": {
    "name": "ipython",
    "version": 3
   },
   "file_extension": ".py",
   "mimetype": "text/x-python",
   "name": "python",
   "nbconvert_exporter": "python",
   "pygments_lexer": "ipython3",
   "version": "3.6.9"
  }
 },
 "nbformat": 4,
 "nbformat_minor": 1
}
